{
  "nbformat": 4,
  "nbformat_minor": 0,
  "metadata": {
    "colab": {
      "name": "01_DeepVIV_sec21.ipynb",
      "provenance": [],
      "collapsed_sections": [],
      "toc_visible": true,
      "authorship_tag": "ABX9TyN5MDl/ggU4Tkq1fXXbUYlT",
      "include_colab_link": true
    },
    "kernelspec": {
      "name": "Python 3.8.6 64-bit",
      "display_name": "Python 3.8.6 64-bit",
      "metadata": {
        "interpreter": {
          "hash": "1baa965d5efe3ac65b79dfc60c0d706280b1da80fedb7760faf2759126c4f253"
        }
      }
    },
    "accelerator": "TPU",
    "widgets": {
      "application/vnd.jupyter.widget-state+json": {
        "3921934ad1ad476fbc3bafe5b4f780b6": {
          "model_module": "@jupyter-widgets/controls",
          "model_name": "HBoxModel",
          "state": {
            "_view_name": "HBoxView",
            "_dom_classes": [],
            "_model_name": "HBoxModel",
            "_view_module": "@jupyter-widgets/controls",
            "_model_module_version": "1.5.0",
            "_view_count": null,
            "_view_module_version": "1.5.0",
            "box_style": "",
            "layout": "IPY_MODEL_169da55f4fd7479395e480706fea1dba",
            "_model_module": "@jupyter-widgets/controls",
            "children": [
              "IPY_MODEL_6e5161332976477084b5ea1e217550f9",
              "IPY_MODEL_5ccaa9aa3d3043d28342604c3bbb5e8e"
            ]
          }
        },
        "169da55f4fd7479395e480706fea1dba": {
          "model_module": "@jupyter-widgets/base",
          "model_name": "LayoutModel",
          "state": {
            "_view_name": "LayoutView",
            "grid_template_rows": null,
            "right": null,
            "justify_content": null,
            "_view_module": "@jupyter-widgets/base",
            "overflow": null,
            "_model_module_version": "1.2.0",
            "_view_count": null,
            "flex_flow": "row wrap",
            "width": "100%",
            "min_width": null,
            "border": null,
            "align_items": null,
            "bottom": null,
            "_model_module": "@jupyter-widgets/base",
            "top": null,
            "grid_column": null,
            "overflow_y": null,
            "overflow_x": null,
            "grid_auto_flow": null,
            "grid_area": null,
            "grid_template_columns": null,
            "flex": null,
            "_model_name": "LayoutModel",
            "justify_items": null,
            "grid_row": null,
            "max_height": null,
            "align_content": null,
            "visibility": null,
            "align_self": null,
            "height": null,
            "min_height": null,
            "padding": null,
            "grid_auto_rows": null,
            "grid_gap": null,
            "max_width": null,
            "order": null,
            "_view_module_version": "1.2.0",
            "grid_template_areas": null,
            "object_position": null,
            "object_fit": null,
            "grid_auto_columns": null,
            "margin": null,
            "display": "inline-flex",
            "left": null
          }
        },
        "6e5161332976477084b5ea1e217550f9": {
          "model_module": "@jupyter-widgets/controls",
          "model_name": "FloatProgressModel",
          "state": {
            "_view_name": "ProgressView",
            "style": "IPY_MODEL_5c9ad63e229c47adb09fac2e3246fe6a",
            "_dom_classes": [],
            "description": "Training: 100%",
            "_model_name": "FloatProgressModel",
            "bar_style": "success",
            "max": 2000,
            "_view_module": "@jupyter-widgets/controls",
            "_model_module_version": "1.5.0",
            "value": 2000,
            "_view_count": null,
            "_view_module_version": "1.5.0",
            "orientation": "horizontal",
            "min": 0,
            "description_tooltip": null,
            "_model_module": "@jupyter-widgets/controls",
            "layout": "IPY_MODEL_648261b6c50b42aa8e31afdc5f88f735"
          }
        },
        "5ccaa9aa3d3043d28342604c3bbb5e8e": {
          "model_module": "@jupyter-widgets/controls",
          "model_name": "HTMLModel",
          "state": {
            "_view_name": "HTMLView",
            "style": "IPY_MODEL_1179fef29f124fe8bb881fe24806a45c",
            "_dom_classes": [],
            "description": "",
            "_model_name": "HTMLModel",
            "placeholder": "​",
            "_view_module": "@jupyter-widgets/controls",
            "_model_module_version": "1.5.0",
            "value": " 2000/2000 ETA: 00:00s,  39.99epochs/s",
            "_view_count": null,
            "_view_module_version": "1.5.0",
            "description_tooltip": null,
            "_model_module": "@jupyter-widgets/controls",
            "layout": "IPY_MODEL_190d8a94c5bd49d5930c9623e3c18ff3"
          }
        },
        "5c9ad63e229c47adb09fac2e3246fe6a": {
          "model_module": "@jupyter-widgets/controls",
          "model_name": "ProgressStyleModel",
          "state": {
            "_view_name": "StyleView",
            "_model_name": "ProgressStyleModel",
            "description_width": "initial",
            "_view_module": "@jupyter-widgets/base",
            "_model_module_version": "1.5.0",
            "_view_count": null,
            "_view_module_version": "1.2.0",
            "bar_color": null,
            "_model_module": "@jupyter-widgets/controls"
          }
        },
        "648261b6c50b42aa8e31afdc5f88f735": {
          "model_module": "@jupyter-widgets/base",
          "model_name": "LayoutModel",
          "state": {
            "_view_name": "LayoutView",
            "grid_template_rows": null,
            "right": null,
            "justify_content": null,
            "_view_module": "@jupyter-widgets/base",
            "overflow": null,
            "_model_module_version": "1.2.0",
            "_view_count": null,
            "flex_flow": null,
            "width": null,
            "min_width": null,
            "border": null,
            "align_items": null,
            "bottom": null,
            "_model_module": "@jupyter-widgets/base",
            "top": null,
            "grid_column": null,
            "overflow_y": null,
            "overflow_x": null,
            "grid_auto_flow": null,
            "grid_area": null,
            "grid_template_columns": null,
            "flex": "2",
            "_model_name": "LayoutModel",
            "justify_items": null,
            "grid_row": null,
            "max_height": null,
            "align_content": null,
            "visibility": null,
            "align_self": null,
            "height": null,
            "min_height": null,
            "padding": null,
            "grid_auto_rows": null,
            "grid_gap": null,
            "max_width": null,
            "order": null,
            "_view_module_version": "1.2.0",
            "grid_template_areas": null,
            "object_position": null,
            "object_fit": null,
            "grid_auto_columns": null,
            "margin": null,
            "display": null,
            "left": null
          }
        },
        "1179fef29f124fe8bb881fe24806a45c": {
          "model_module": "@jupyter-widgets/controls",
          "model_name": "DescriptionStyleModel",
          "state": {
            "_view_name": "StyleView",
            "_model_name": "DescriptionStyleModel",
            "description_width": "",
            "_view_module": "@jupyter-widgets/base",
            "_model_module_version": "1.5.0",
            "_view_count": null,
            "_view_module_version": "1.2.0",
            "_model_module": "@jupyter-widgets/controls"
          }
        },
        "190d8a94c5bd49d5930c9623e3c18ff3": {
          "model_module": "@jupyter-widgets/base",
          "model_name": "LayoutModel",
          "state": {
            "_view_name": "LayoutView",
            "grid_template_rows": null,
            "right": null,
            "justify_content": null,
            "_view_module": "@jupyter-widgets/base",
            "overflow": null,
            "_model_module_version": "1.2.0",
            "_view_count": null,
            "flex_flow": null,
            "width": null,
            "min_width": null,
            "border": null,
            "align_items": null,
            "bottom": null,
            "_model_module": "@jupyter-widgets/base",
            "top": null,
            "grid_column": null,
            "overflow_y": null,
            "overflow_x": null,
            "grid_auto_flow": null,
            "grid_area": null,
            "grid_template_columns": null,
            "flex": null,
            "_model_name": "LayoutModel",
            "justify_items": null,
            "grid_row": null,
            "max_height": null,
            "align_content": null,
            "visibility": null,
            "align_self": null,
            "height": null,
            "min_height": null,
            "padding": null,
            "grid_auto_rows": null,
            "grid_gap": null,
            "max_width": null,
            "order": null,
            "_view_module_version": "1.2.0",
            "grid_template_areas": null,
            "object_position": null,
            "object_fit": null,
            "grid_auto_columns": null,
            "margin": null,
            "display": null,
            "left": null
          }
        },
        "d4c5f68960e54bf699e94e9f1a0c656b": {
          "model_module": "@jupyter-widgets/controls",
          "model_name": "HBoxModel",
          "state": {
            "_view_name": "HBoxView",
            "_dom_classes": [],
            "_model_name": "HBoxModel",
            "_view_module": "@jupyter-widgets/controls",
            "_model_module_version": "1.5.0",
            "_view_count": null,
            "_view_module_version": "1.5.0",
            "box_style": "",
            "layout": "IPY_MODEL_295a1e04ebde415cb6b56204d2acf653",
            "_model_module": "@jupyter-widgets/controls",
            "children": [
              "IPY_MODEL_a4ee2d91287b41d18be0612f11a7705a",
              "IPY_MODEL_b9e020a6970046c8bdedd3dcb90454c4"
            ]
          }
        },
        "295a1e04ebde415cb6b56204d2acf653": {
          "model_module": "@jupyter-widgets/base",
          "model_name": "LayoutModel",
          "state": {
            "_view_name": "LayoutView",
            "grid_template_rows": null,
            "right": null,
            "justify_content": null,
            "_view_module": "@jupyter-widgets/base",
            "overflow": null,
            "_model_module_version": "1.2.0",
            "_view_count": null,
            "flex_flow": "row wrap",
            "width": "100%",
            "min_width": null,
            "border": null,
            "align_items": null,
            "bottom": null,
            "_model_module": "@jupyter-widgets/base",
            "top": null,
            "grid_column": null,
            "overflow_y": null,
            "overflow_x": null,
            "grid_auto_flow": null,
            "grid_area": null,
            "grid_template_columns": null,
            "flex": null,
            "_model_name": "LayoutModel",
            "justify_items": null,
            "grid_row": null,
            "max_height": null,
            "align_content": null,
            "visibility": null,
            "align_self": null,
            "height": null,
            "min_height": null,
            "padding": null,
            "grid_auto_rows": null,
            "grid_gap": null,
            "max_width": null,
            "order": null,
            "_view_module_version": "1.2.0",
            "grid_template_areas": null,
            "object_position": null,
            "object_fit": null,
            "grid_auto_columns": null,
            "margin": null,
            "display": "inline-flex",
            "left": null
          }
        },
        "a4ee2d91287b41d18be0612f11a7705a": {
          "model_module": "@jupyter-widgets/controls",
          "model_name": "FloatProgressModel",
          "state": {
            "_view_name": "ProgressView",
            "style": "IPY_MODEL_26de2b22f208492aadebe27546060cd6",
            "_dom_classes": [],
            "description": "Training: 100%",
            "_model_name": "FloatProgressModel",
            "bar_style": "success",
            "max": 3000,
            "_view_module": "@jupyter-widgets/controls",
            "_model_module_version": "1.5.0",
            "value": 3000,
            "_view_count": null,
            "_view_module_version": "1.5.0",
            "orientation": "horizontal",
            "min": 0,
            "description_tooltip": null,
            "_model_module": "@jupyter-widgets/controls",
            "layout": "IPY_MODEL_b83681f8ffd9416aa6fa0a3befde55db"
          }
        },
        "b9e020a6970046c8bdedd3dcb90454c4": {
          "model_module": "@jupyter-widgets/controls",
          "model_name": "HTMLModel",
          "state": {
            "_view_name": "HTMLView",
            "style": "IPY_MODEL_ddd20e1b74d94aada03430178a8d1cb4",
            "_dom_classes": [],
            "description": "",
            "_model_name": "HTMLModel",
            "placeholder": "​",
            "_view_module": "@jupyter-widgets/controls",
            "_model_module_version": "1.5.0",
            "value": " 3000/3000 ETA: 00:00s,  81.64epochs/s",
            "_view_count": null,
            "_view_module_version": "1.5.0",
            "description_tooltip": null,
            "_model_module": "@jupyter-widgets/controls",
            "layout": "IPY_MODEL_a69f76df7bdc44a995a33ae6d1328395"
          }
        },
        "26de2b22f208492aadebe27546060cd6": {
          "model_module": "@jupyter-widgets/controls",
          "model_name": "ProgressStyleModel",
          "state": {
            "_view_name": "StyleView",
            "_model_name": "ProgressStyleModel",
            "description_width": "initial",
            "_view_module": "@jupyter-widgets/base",
            "_model_module_version": "1.5.0",
            "_view_count": null,
            "_view_module_version": "1.2.0",
            "bar_color": null,
            "_model_module": "@jupyter-widgets/controls"
          }
        },
        "b83681f8ffd9416aa6fa0a3befde55db": {
          "model_module": "@jupyter-widgets/base",
          "model_name": "LayoutModel",
          "state": {
            "_view_name": "LayoutView",
            "grid_template_rows": null,
            "right": null,
            "justify_content": null,
            "_view_module": "@jupyter-widgets/base",
            "overflow": null,
            "_model_module_version": "1.2.0",
            "_view_count": null,
            "flex_flow": null,
            "width": null,
            "min_width": null,
            "border": null,
            "align_items": null,
            "bottom": null,
            "_model_module": "@jupyter-widgets/base",
            "top": null,
            "grid_column": null,
            "overflow_y": null,
            "overflow_x": null,
            "grid_auto_flow": null,
            "grid_area": null,
            "grid_template_columns": null,
            "flex": "2",
            "_model_name": "LayoutModel",
            "justify_items": null,
            "grid_row": null,
            "max_height": null,
            "align_content": null,
            "visibility": null,
            "align_self": null,
            "height": null,
            "min_height": null,
            "padding": null,
            "grid_auto_rows": null,
            "grid_gap": null,
            "max_width": null,
            "order": null,
            "_view_module_version": "1.2.0",
            "grid_template_areas": null,
            "object_position": null,
            "object_fit": null,
            "grid_auto_columns": null,
            "margin": null,
            "display": null,
            "left": null
          }
        },
        "ddd20e1b74d94aada03430178a8d1cb4": {
          "model_module": "@jupyter-widgets/controls",
          "model_name": "DescriptionStyleModel",
          "state": {
            "_view_name": "StyleView",
            "_model_name": "DescriptionStyleModel",
            "description_width": "",
            "_view_module": "@jupyter-widgets/base",
            "_model_module_version": "1.5.0",
            "_view_count": null,
            "_view_module_version": "1.2.0",
            "_model_module": "@jupyter-widgets/controls"
          }
        },
        "a69f76df7bdc44a995a33ae6d1328395": {
          "model_module": "@jupyter-widgets/base",
          "model_name": "LayoutModel",
          "state": {
            "_view_name": "LayoutView",
            "grid_template_rows": null,
            "right": null,
            "justify_content": null,
            "_view_module": "@jupyter-widgets/base",
            "overflow": null,
            "_model_module_version": "1.2.0",
            "_view_count": null,
            "flex_flow": null,
            "width": null,
            "min_width": null,
            "border": null,
            "align_items": null,
            "bottom": null,
            "_model_module": "@jupyter-widgets/base",
            "top": null,
            "grid_column": null,
            "overflow_y": null,
            "overflow_x": null,
            "grid_auto_flow": null,
            "grid_area": null,
            "grid_template_columns": null,
            "flex": null,
            "_model_name": "LayoutModel",
            "justify_items": null,
            "grid_row": null,
            "max_height": null,
            "align_content": null,
            "visibility": null,
            "align_self": null,
            "height": null,
            "min_height": null,
            "padding": null,
            "grid_auto_rows": null,
            "grid_gap": null,
            "max_width": null,
            "order": null,
            "_view_module_version": "1.2.0",
            "grid_template_areas": null,
            "object_position": null,
            "object_fit": null,
            "grid_auto_columns": null,
            "margin": null,
            "display": null,
            "left": null
          }
        },
        "d7897324828041c18730ca6150e86d95": {
          "model_module": "@jupyter-widgets/controls",
          "model_name": "HBoxModel",
          "state": {
            "_view_name": "HBoxView",
            "_dom_classes": [],
            "_model_name": "HBoxModel",
            "_view_module": "@jupyter-widgets/controls",
            "_model_module_version": "1.5.0",
            "_view_count": null,
            "_view_module_version": "1.5.0",
            "box_style": "",
            "layout": "IPY_MODEL_b1e057d53465466580b845598afea170",
            "_model_module": "@jupyter-widgets/controls",
            "children": [
              "IPY_MODEL_d97ec05469be42eaae75cfdb606c9afe",
              "IPY_MODEL_05ac850cc7884a42bd909b3108f5c193"
            ]
          }
        },
        "b1e057d53465466580b845598afea170": {
          "model_module": "@jupyter-widgets/base",
          "model_name": "LayoutModel",
          "state": {
            "_view_name": "LayoutView",
            "grid_template_rows": null,
            "right": null,
            "justify_content": null,
            "_view_module": "@jupyter-widgets/base",
            "overflow": null,
            "_model_module_version": "1.2.0",
            "_view_count": null,
            "flex_flow": "row wrap",
            "width": "100%",
            "min_width": null,
            "border": null,
            "align_items": null,
            "bottom": null,
            "_model_module": "@jupyter-widgets/base",
            "top": null,
            "grid_column": null,
            "overflow_y": null,
            "overflow_x": null,
            "grid_auto_flow": null,
            "grid_area": null,
            "grid_template_columns": null,
            "flex": null,
            "_model_name": "LayoutModel",
            "justify_items": null,
            "grid_row": null,
            "max_height": null,
            "align_content": null,
            "visibility": null,
            "align_self": null,
            "height": null,
            "min_height": null,
            "padding": null,
            "grid_auto_rows": null,
            "grid_gap": null,
            "max_width": null,
            "order": null,
            "_view_module_version": "1.2.0",
            "grid_template_areas": null,
            "object_position": null,
            "object_fit": null,
            "grid_auto_columns": null,
            "margin": null,
            "display": "inline-flex",
            "left": null
          }
        },
        "d97ec05469be42eaae75cfdb606c9afe": {
          "model_module": "@jupyter-widgets/controls",
          "model_name": "FloatProgressModel",
          "state": {
            "_view_name": "ProgressView",
            "style": "IPY_MODEL_3102f92a95c94fdd8a74ba087c726b6b",
            "_dom_classes": [],
            "description": "Training: 100%",
            "_model_name": "FloatProgressModel",
            "bar_style": "success",
            "max": 3000,
            "_view_module": "@jupyter-widgets/controls",
            "_model_module_version": "1.5.0",
            "value": 3000,
            "_view_count": null,
            "_view_module_version": "1.5.0",
            "orientation": "horizontal",
            "min": 0,
            "description_tooltip": null,
            "_model_module": "@jupyter-widgets/controls",
            "layout": "IPY_MODEL_e96050318e1e465aaeb7a87f2c8905bc"
          }
        },
        "05ac850cc7884a42bd909b3108f5c193": {
          "model_module": "@jupyter-widgets/controls",
          "model_name": "HTMLModel",
          "state": {
            "_view_name": "HTMLView",
            "style": "IPY_MODEL_ddbf5df9774b49688438dd0122fc5bd8",
            "_dom_classes": [],
            "description": "",
            "_model_name": "HTMLModel",
            "placeholder": "​",
            "_view_module": "@jupyter-widgets/controls",
            "_model_module_version": "1.5.0",
            "value": " 3000/3000 ETA: 00:00s,  162.71epochs/s",
            "_view_count": null,
            "_view_module_version": "1.5.0",
            "description_tooltip": null,
            "_model_module": "@jupyter-widgets/controls",
            "layout": "IPY_MODEL_83fd393928394c6ebd23f997f84afacf"
          }
        },
        "3102f92a95c94fdd8a74ba087c726b6b": {
          "model_module": "@jupyter-widgets/controls",
          "model_name": "ProgressStyleModel",
          "state": {
            "_view_name": "StyleView",
            "_model_name": "ProgressStyleModel",
            "description_width": "initial",
            "_view_module": "@jupyter-widgets/base",
            "_model_module_version": "1.5.0",
            "_view_count": null,
            "_view_module_version": "1.2.0",
            "bar_color": null,
            "_model_module": "@jupyter-widgets/controls"
          }
        },
        "e96050318e1e465aaeb7a87f2c8905bc": {
          "model_module": "@jupyter-widgets/base",
          "model_name": "LayoutModel",
          "state": {
            "_view_name": "LayoutView",
            "grid_template_rows": null,
            "right": null,
            "justify_content": null,
            "_view_module": "@jupyter-widgets/base",
            "overflow": null,
            "_model_module_version": "1.2.0",
            "_view_count": null,
            "flex_flow": null,
            "width": null,
            "min_width": null,
            "border": null,
            "align_items": null,
            "bottom": null,
            "_model_module": "@jupyter-widgets/base",
            "top": null,
            "grid_column": null,
            "overflow_y": null,
            "overflow_x": null,
            "grid_auto_flow": null,
            "grid_area": null,
            "grid_template_columns": null,
            "flex": "2",
            "_model_name": "LayoutModel",
            "justify_items": null,
            "grid_row": null,
            "max_height": null,
            "align_content": null,
            "visibility": null,
            "align_self": null,
            "height": null,
            "min_height": null,
            "padding": null,
            "grid_auto_rows": null,
            "grid_gap": null,
            "max_width": null,
            "order": null,
            "_view_module_version": "1.2.0",
            "grid_template_areas": null,
            "object_position": null,
            "object_fit": null,
            "grid_auto_columns": null,
            "margin": null,
            "display": null,
            "left": null
          }
        },
        "ddbf5df9774b49688438dd0122fc5bd8": {
          "model_module": "@jupyter-widgets/controls",
          "model_name": "DescriptionStyleModel",
          "state": {
            "_view_name": "StyleView",
            "_model_name": "DescriptionStyleModel",
            "description_width": "",
            "_view_module": "@jupyter-widgets/base",
            "_model_module_version": "1.5.0",
            "_view_count": null,
            "_view_module_version": "1.2.0",
            "_model_module": "@jupyter-widgets/controls"
          }
        },
        "83fd393928394c6ebd23f997f84afacf": {
          "model_module": "@jupyter-widgets/base",
          "model_name": "LayoutModel",
          "state": {
            "_view_name": "LayoutView",
            "grid_template_rows": null,
            "right": null,
            "justify_content": null,
            "_view_module": "@jupyter-widgets/base",
            "overflow": null,
            "_model_module_version": "1.2.0",
            "_view_count": null,
            "flex_flow": null,
            "width": null,
            "min_width": null,
            "border": null,
            "align_items": null,
            "bottom": null,
            "_model_module": "@jupyter-widgets/base",
            "top": null,
            "grid_column": null,
            "overflow_y": null,
            "overflow_x": null,
            "grid_auto_flow": null,
            "grid_area": null,
            "grid_template_columns": null,
            "flex": null,
            "_model_name": "LayoutModel",
            "justify_items": null,
            "grid_row": null,
            "max_height": null,
            "align_content": null,
            "visibility": null,
            "align_self": null,
            "height": null,
            "min_height": null,
            "padding": null,
            "grid_auto_rows": null,
            "grid_gap": null,
            "max_width": null,
            "order": null,
            "_view_module_version": "1.2.0",
            "grid_template_areas": null,
            "object_position": null,
            "object_fit": null,
            "grid_auto_columns": null,
            "margin": null,
            "display": null,
            "left": null
          }
        },
        "902850135ba9427395a99b98f3a78124": {
          "model_module": "@jupyter-widgets/controls",
          "model_name": "HBoxModel",
          "state": {
            "_view_name": "HBoxView",
            "_dom_classes": [],
            "_model_name": "HBoxModel",
            "_view_module": "@jupyter-widgets/controls",
            "_model_module_version": "1.5.0",
            "_view_count": null,
            "_view_module_version": "1.5.0",
            "box_style": "",
            "layout": "IPY_MODEL_b9dffa975309451abbe6100bc87be583",
            "_model_module": "@jupyter-widgets/controls",
            "children": [
              "IPY_MODEL_07acdd8a06084ba795b2ba7eaad296c6",
              "IPY_MODEL_3ebef9eee09f4fc58dba6cdf5299ac57"
            ]
          }
        },
        "b9dffa975309451abbe6100bc87be583": {
          "model_module": "@jupyter-widgets/base",
          "model_name": "LayoutModel",
          "state": {
            "_view_name": "LayoutView",
            "grid_template_rows": null,
            "right": null,
            "justify_content": null,
            "_view_module": "@jupyter-widgets/base",
            "overflow": null,
            "_model_module_version": "1.2.0",
            "_view_count": null,
            "flex_flow": "row wrap",
            "width": "100%",
            "min_width": null,
            "border": null,
            "align_items": null,
            "bottom": null,
            "_model_module": "@jupyter-widgets/base",
            "top": null,
            "grid_column": null,
            "overflow_y": null,
            "overflow_x": null,
            "grid_auto_flow": null,
            "grid_area": null,
            "grid_template_columns": null,
            "flex": null,
            "_model_name": "LayoutModel",
            "justify_items": null,
            "grid_row": null,
            "max_height": null,
            "align_content": null,
            "visibility": null,
            "align_self": null,
            "height": null,
            "min_height": null,
            "padding": null,
            "grid_auto_rows": null,
            "grid_gap": null,
            "max_width": null,
            "order": null,
            "_view_module_version": "1.2.0",
            "grid_template_areas": null,
            "object_position": null,
            "object_fit": null,
            "grid_auto_columns": null,
            "margin": null,
            "display": "inline-flex",
            "left": null
          }
        },
        "07acdd8a06084ba795b2ba7eaad296c6": {
          "model_module": "@jupyter-widgets/controls",
          "model_name": "FloatProgressModel",
          "state": {
            "_view_name": "ProgressView",
            "style": "IPY_MODEL_0a9d4589e9bf48c5921a98f26cf54f2a",
            "_dom_classes": [],
            "description": "Training: 100%",
            "_model_name": "FloatProgressModel",
            "bar_style": "success",
            "max": 2000,
            "_view_module": "@jupyter-widgets/controls",
            "_model_module_version": "1.5.0",
            "value": 2000,
            "_view_count": null,
            "_view_module_version": "1.5.0",
            "orientation": "horizontal",
            "min": 0,
            "description_tooltip": null,
            "_model_module": "@jupyter-widgets/controls",
            "layout": "IPY_MODEL_74e1f57d82124609b12e6004094e2204"
          }
        },
        "3ebef9eee09f4fc58dba6cdf5299ac57": {
          "model_module": "@jupyter-widgets/controls",
          "model_name": "HTMLModel",
          "state": {
            "_view_name": "HTMLView",
            "style": "IPY_MODEL_56176577e185456eb1c7ca61b5e7950c",
            "_dom_classes": [],
            "description": "",
            "_model_name": "HTMLModel",
            "placeholder": "​",
            "_view_module": "@jupyter-widgets/controls",
            "_model_module_version": "1.5.0",
            "value": " 2000/2000 ETA: 00:00s,  149.98epochs/s",
            "_view_count": null,
            "_view_module_version": "1.5.0",
            "description_tooltip": null,
            "_model_module": "@jupyter-widgets/controls",
            "layout": "IPY_MODEL_f44e15e0c8e44d4492d68cf5ffd5d423"
          }
        },
        "0a9d4589e9bf48c5921a98f26cf54f2a": {
          "model_module": "@jupyter-widgets/controls",
          "model_name": "ProgressStyleModel",
          "state": {
            "_view_name": "StyleView",
            "_model_name": "ProgressStyleModel",
            "description_width": "initial",
            "_view_module": "@jupyter-widgets/base",
            "_model_module_version": "1.5.0",
            "_view_count": null,
            "_view_module_version": "1.2.0",
            "bar_color": null,
            "_model_module": "@jupyter-widgets/controls"
          }
        },
        "74e1f57d82124609b12e6004094e2204": {
          "model_module": "@jupyter-widgets/base",
          "model_name": "LayoutModel",
          "state": {
            "_view_name": "LayoutView",
            "grid_template_rows": null,
            "right": null,
            "justify_content": null,
            "_view_module": "@jupyter-widgets/base",
            "overflow": null,
            "_model_module_version": "1.2.0",
            "_view_count": null,
            "flex_flow": null,
            "width": null,
            "min_width": null,
            "border": null,
            "align_items": null,
            "bottom": null,
            "_model_module": "@jupyter-widgets/base",
            "top": null,
            "grid_column": null,
            "overflow_y": null,
            "overflow_x": null,
            "grid_auto_flow": null,
            "grid_area": null,
            "grid_template_columns": null,
            "flex": "2",
            "_model_name": "LayoutModel",
            "justify_items": null,
            "grid_row": null,
            "max_height": null,
            "align_content": null,
            "visibility": null,
            "align_self": null,
            "height": null,
            "min_height": null,
            "padding": null,
            "grid_auto_rows": null,
            "grid_gap": null,
            "max_width": null,
            "order": null,
            "_view_module_version": "1.2.0",
            "grid_template_areas": null,
            "object_position": null,
            "object_fit": null,
            "grid_auto_columns": null,
            "margin": null,
            "display": null,
            "left": null
          }
        },
        "56176577e185456eb1c7ca61b5e7950c": {
          "model_module": "@jupyter-widgets/controls",
          "model_name": "DescriptionStyleModel",
          "state": {
            "_view_name": "StyleView",
            "_model_name": "DescriptionStyleModel",
            "description_width": "",
            "_view_module": "@jupyter-widgets/base",
            "_model_module_version": "1.5.0",
            "_view_count": null,
            "_view_module_version": "1.2.0",
            "_model_module": "@jupyter-widgets/controls"
          }
        },
        "f44e15e0c8e44d4492d68cf5ffd5d423": {
          "model_module": "@jupyter-widgets/base",
          "model_name": "LayoutModel",
          "state": {
            "_view_name": "LayoutView",
            "grid_template_rows": null,
            "right": null,
            "justify_content": null,
            "_view_module": "@jupyter-widgets/base",
            "overflow": null,
            "_model_module_version": "1.2.0",
            "_view_count": null,
            "flex_flow": null,
            "width": null,
            "min_width": null,
            "border": null,
            "align_items": null,
            "bottom": null,
            "_model_module": "@jupyter-widgets/base",
            "top": null,
            "grid_column": null,
            "overflow_y": null,
            "overflow_x": null,
            "grid_auto_flow": null,
            "grid_area": null,
            "grid_template_columns": null,
            "flex": null,
            "_model_name": "LayoutModel",
            "justify_items": null,
            "grid_row": null,
            "max_height": null,
            "align_content": null,
            "visibility": null,
            "align_self": null,
            "height": null,
            "min_height": null,
            "padding": null,
            "grid_auto_rows": null,
            "grid_gap": null,
            "max_width": null,
            "order": null,
            "_view_module_version": "1.2.0",
            "grid_template_areas": null,
            "object_position": null,
            "object_fit": null,
            "grid_auto_columns": null,
            "margin": null,
            "display": null,
            "left": null
          }
        }
      }
    }
  },
  "cells": [
    {
      "cell_type": "markdown",
      "metadata": {
        "id": "view-in-github",
        "colab_type": "text"
      },
      "source": [
        "<a href=\"https://colab.research.google.com/github/helonayala/pinn/blob/main/01_DeepVIV_sec21.ipynb\" target=\"_parent\"><img src=\"https://colab.research.google.com/assets/colab-badge.svg\" alt=\"Open In Colab\"/></a>"
      ]
    },
    {
      "cell_type": "markdown",
      "metadata": {
        "id": "LzyL5aJgLuCz"
      },
      "source": [
        "Physics-informed Artificial Neural Network\n",
        "\n",
        "Author: Helon Ayala, October 2020\n",
        "\n",
        "Based on: https://github.com/maziarraissi/DeepVIV\n",
        "\n",
        "(translated to Keras layer subclassing and tf 2.0)\n",
        "\n",
        "# Quick description\n",
        "\n",
        "In this notebook we reproduce the results of the paper \n",
        "\n",
        "* Raissi, Maziar, Zhicheng Wang, Michael S. Triantafyllou, and George Em Karniadakis.\"Deep learning of vortex-induced vibrations.\" Journal of Fluid Mechanics 861 (2019): 119-137.\n",
        "\n",
        "in particular Section 2.1. Please refer to the paper for a detailed description of the method and case study. In the following we restrict to the information needed for the notebook to be self-contained.\n",
        "\n",
        "# Problem definition\n",
        "\n",
        "In summary, we will use the Physics-informed artificial neural networks (PINNs) for solving the forward and inverse problems related to the dynamics of a mass-spring-damper of the form\n",
        "\n",
        "$$\n",
        "\\rho \\ddot x (t) + b \\dot x (t) + k x (t) = f (t)\n",
        "$$\n",
        "\n",
        "where the terms are described as follows\n",
        "* $\\rho, b, k$: inertia, viscous friction, and rigidity, respectively;\n",
        "* $x(t)$: displacement;\n",
        "* $f(t)$: sum of external forces\n",
        "\n",
        "(please note I exchanged $\\eta$ to $x$ if you compare to the notation used in the original paper)\n",
        "\n",
        "On one hand, the forward problem relates to solving numerically the 2nd order ODE described in the EOM given. On the other hand, the inverse problems related to inferring the parameters of the system: $\\rho, b,k$\n",
        "\n",
        "# Assumptions\n",
        "\n",
        "We work under the assumptions that\n",
        "* we know the time series $[x(t),f(t)]$, and\n",
        "* we know the constitutive model of the system under study (thus, PINN).\n",
        "\n",
        "# Imports and definitions \n"
      ]
    },
    {
      "cell_type": "code",
      "metadata": {
        "id": "mw8KsF78Wz6E",
        "cellView": "form",
        "outputId": "48b011e1-7fde-44b9-ae7d-f398d2886ac1",
        "colab": {
          "base_uri": "https://localhost:8080/",
          "height": 51
        },
        "tags": []
      },
      "source": [
        "#@title\n",
        "!pip install -U tensorflow-addons\n",
        "!pip install -q \"tqdm>=4.36.1\"\n",
        "\n",
        "import tensorflow as tf\n",
        "import numpy as np\n",
        "import matplotlib.pyplot as plt\n",
        "from scipy.io import loadmat\n",
        "\n",
        "# progress bar for model.fit function\n",
        "import tensorflow_addons as tfa\n",
        "import tqdm\n",
        "\n",
        "# set random seed for reproduction\n",
        "tf.random.set_seed(42)\n",
        "\n",
        "# initialize tqdm callback\n",
        "tqdm_callback = tfa.callbacks.TQDMProgressBar(\n",
        "  leave_epoch_progress = True,\n",
        "  leave_overall_progress = True,\n",
        "  show_epoch_progress = False,\n",
        "  show_overall_progress = True,\n",
        "  )\n"
      ],
      "execution_count": 1,
      "outputs": [
        {
          "output_type": "stream",
          "name": "stdout",
          "text": [
            "Defaulting to user installation because normal site-packages is not writeable\n",
            "Requirement already up-to-date: tensorflow-addons in c:\\users\\helon\\appdata\\roaming\\python\\python38\\site-packages (0.11.2)\n",
            "Requirement already satisfied, skipping upgrade: typeguard>=2.7 in c:\\users\\helon\\appdata\\roaming\\python\\python38\\site-packages (from tensorflow-addons) (2.9.1)\n"
          ]
        }
      ]
    },
    {
      "cell_type": "markdown",
      "metadata": {
        "id": "75cBAbWtPgSS"
      },
      "source": [
        "# Load data and plot"
      ]
    },
    {
      "cell_type": "code",
      "metadata": {
        "id": "GbOcBr1xPYah",
        "outputId": "55921f50-e666-45eb-9a54-7f06afc8df5e",
        "colab": {
          "base_uri": "https://localhost:8080/",
          "height": 334
        }
      },
      "source": [
        "VIVdata = loadmat('VIV_displacement_lift_drag.mat')\n",
        "# data from https://www.dropbox.com/s/gxeyasawxlj7nyu/Data.tar.gz?dl=0\n",
        "\n",
        "x = VIVdata['eta_structure']\n",
        "f = VIVdata['lift_structure']\n",
        "t = VIVdata['t_structure']\n",
        "\n",
        "N_train = t.shape[0] # how much data ?\n",
        "\n",
        "# time series plots \n",
        "plt.figure(figsize=[14,5])\n",
        "plt.subplot(121)\n",
        "plt.plot(t,x,'k',linewidth=3)\n",
        "plt.legend('x')\n",
        "plt.xlabel('t')\n",
        "plt.grid()\n",
        "\n",
        "plt.subplot(122)\n",
        "plt.plot(t,f,'k',linewidth=3)\n",
        "plt.legend('f')\n",
        "plt.xlabel('t')\n",
        "plt.grid()\n",
        "plt.show()"
      ],
      "execution_count": 2,
      "outputs": [
        {
          "output_type": "display_data",
          "data": {
            "text/plain": "<Figure size 1008x360 with 2 Axes>",
            "image/svg+xml": "<?xml version=\"1.0\" encoding=\"utf-8\" standalone=\"no\"?>\r\n<!DOCTYPE svg PUBLIC \"-//W3C//DTD SVG 1.1//EN\"\r\n  \"http://www.w3.org/Graphics/SVG/1.1/DTD/svg11.dtd\">\r\n<!-- Created with matplotlib (https://matplotlib.org/) -->\r\n<svg height=\"316.55625pt\" version=\"1.1\" viewBox=\"0 0 826.882812 316.55625\" width=\"826.882812pt\" xmlns=\"http://www.w3.org/2000/svg\" xmlns:xlink=\"http://www.w3.org/1999/xlink\">\r\n <metadata>\r\n  <rdf:RDF xmlns:cc=\"http://creativecommons.org/ns#\" xmlns:dc=\"http://purl.org/dc/elements/1.1/\" xmlns:rdf=\"http://www.w3.org/1999/02/22-rdf-syntax-ns#\">\r\n   <cc:Work>\r\n    <dc:type rdf:resource=\"http://purl.org/dc/dcmitype/StillImage\"/>\r\n    <dc:date>2020-10-21T23:03:17.732387</dc:date>\r\n    <dc:format>image/svg+xml</dc:format>\r\n    <dc:creator>\r\n     <cc:Agent>\r\n      <dc:title>Matplotlib v3.3.2, https://matplotlib.org/</dc:title>\r\n     </cc:Agent>\r\n    </dc:creator>\r\n   </cc:Work>\r\n  </rdf:RDF>\r\n </metadata>\r\n <defs>\r\n  <style type=\"text/css\">*{stroke-linecap:butt;stroke-linejoin:round;}</style>\r\n </defs>\r\n <g id=\"figure_1\">\r\n  <g id=\"patch_1\">\r\n   <path d=\"M 0 316.55625 \r\nL 826.882812 316.55625 \r\nL 826.882812 0 \r\nL 0 0 \r\nz\r\n\" style=\"fill:none;\"/>\r\n  </g>\r\n  <g id=\"axes_1\">\r\n   <g id=\"patch_2\">\r\n    <path d=\"M 38.482813 279 \r\nL 393.573722 279 \r\nL 393.573722 7.2 \r\nL 38.482813 7.2 \r\nz\r\n\" style=\"fill:#ffffff;\"/>\r\n   </g>\r\n   <g id=\"matplotlib.axis_1\">\r\n    <g id=\"xtick_1\">\r\n     <g id=\"line2d_1\">\r\n      <path clip-path=\"url(#pc7247489eb)\" d=\"M 51.688673 279 \r\nL 51.688673 7.2 \r\n\" style=\"fill:none;stroke:#b0b0b0;stroke-linecap:square;stroke-width:0.8;\"/>\r\n     </g>\r\n     <g id=\"line2d_2\">\r\n      <defs>\r\n       <path d=\"M 0 0 \r\nL 0 3.5 \r\n\" id=\"m188328b20f\" style=\"stroke:#000000;stroke-width:0.8;\"/>\r\n      </defs>\r\n      <g>\r\n       <use style=\"stroke:#000000;stroke-width:0.8;\" x=\"51.688673\" xlink:href=\"#m188328b20f\" y=\"279\"/>\r\n      </g>\r\n     </g>\r\n     <g id=\"text_1\">\r\n      <!-- 0 -->\r\n      <g transform=\"translate(48.507423 293.598437)scale(0.1 -0.1)\">\r\n       <defs>\r\n        <path d=\"M 31.78125 66.40625 \r\nQ 24.171875 66.40625 20.328125 58.90625 \r\nQ 16.5 51.421875 16.5 36.375 \r\nQ 16.5 21.390625 20.328125 13.890625 \r\nQ 24.171875 6.390625 31.78125 6.390625 \r\nQ 39.453125 6.390625 43.28125 13.890625 \r\nQ 47.125 21.390625 47.125 36.375 \r\nQ 47.125 51.421875 43.28125 58.90625 \r\nQ 39.453125 66.40625 31.78125 66.40625 \r\nz\r\nM 31.78125 74.21875 \r\nQ 44.046875 74.21875 50.515625 64.515625 \r\nQ 56.984375 54.828125 56.984375 36.375 \r\nQ 56.984375 17.96875 50.515625 8.265625 \r\nQ 44.046875 -1.421875 31.78125 -1.421875 \r\nQ 19.53125 -1.421875 13.0625 8.265625 \r\nQ 6.59375 17.96875 6.59375 36.375 \r\nQ 6.59375 54.828125 13.0625 64.515625 \r\nQ 19.53125 74.21875 31.78125 74.21875 \r\nz\r\n\" id=\"DejaVuSans-48\"/>\r\n       </defs>\r\n       <use xlink:href=\"#DejaVuSans-48\"/>\r\n      </g>\r\n     </g>\r\n    </g>\r\n    <g id=\"xtick_2\">\r\n     <g id=\"line2d_3\">\r\n      <path clip-path=\"url(#pc7247489eb)\" d=\"M 98.642843 279 \r\nL 98.642843 7.2 \r\n\" style=\"fill:none;stroke:#b0b0b0;stroke-linecap:square;stroke-width:0.8;\"/>\r\n     </g>\r\n     <g id=\"line2d_4\">\r\n      <g>\r\n       <use style=\"stroke:#000000;stroke-width:0.8;\" x=\"98.642843\" xlink:href=\"#m188328b20f\" y=\"279\"/>\r\n      </g>\r\n     </g>\r\n     <g id=\"text_2\">\r\n      <!-- 2 -->\r\n      <g transform=\"translate(95.461593 293.598437)scale(0.1 -0.1)\">\r\n       <defs>\r\n        <path d=\"M 19.1875 8.296875 \r\nL 53.609375 8.296875 \r\nL 53.609375 0 \r\nL 7.328125 0 \r\nL 7.328125 8.296875 \r\nQ 12.9375 14.109375 22.625 23.890625 \r\nQ 32.328125 33.6875 34.8125 36.53125 \r\nQ 39.546875 41.84375 41.421875 45.53125 \r\nQ 43.3125 49.21875 43.3125 52.78125 \r\nQ 43.3125 58.59375 39.234375 62.25 \r\nQ 35.15625 65.921875 28.609375 65.921875 \r\nQ 23.96875 65.921875 18.8125 64.3125 \r\nQ 13.671875 62.703125 7.8125 59.421875 \r\nL 7.8125 69.390625 \r\nQ 13.765625 71.78125 18.9375 73 \r\nQ 24.125 74.21875 28.421875 74.21875 \r\nQ 39.75 74.21875 46.484375 68.546875 \r\nQ 53.21875 62.890625 53.21875 53.421875 \r\nQ 53.21875 48.921875 51.53125 44.890625 \r\nQ 49.859375 40.875 45.40625 35.40625 \r\nQ 44.1875 33.984375 37.640625 27.21875 \r\nQ 31.109375 20.453125 19.1875 8.296875 \r\nz\r\n\" id=\"DejaVuSans-50\"/>\r\n       </defs>\r\n       <use xlink:href=\"#DejaVuSans-50\"/>\r\n      </g>\r\n     </g>\r\n    </g>\r\n    <g id=\"xtick_3\">\r\n     <g id=\"line2d_5\">\r\n      <path clip-path=\"url(#pc7247489eb)\" d=\"M 145.597012 279 \r\nL 145.597012 7.2 \r\n\" style=\"fill:none;stroke:#b0b0b0;stroke-linecap:square;stroke-width:0.8;\"/>\r\n     </g>\r\n     <g id=\"line2d_6\">\r\n      <g>\r\n       <use style=\"stroke:#000000;stroke-width:0.8;\" x=\"145.597012\" xlink:href=\"#m188328b20f\" y=\"279\"/>\r\n      </g>\r\n     </g>\r\n     <g id=\"text_3\">\r\n      <!-- 4 -->\r\n      <g transform=\"translate(142.415762 293.598437)scale(0.1 -0.1)\">\r\n       <defs>\r\n        <path d=\"M 37.796875 64.3125 \r\nL 12.890625 25.390625 \r\nL 37.796875 25.390625 \r\nz\r\nM 35.203125 72.90625 \r\nL 47.609375 72.90625 \r\nL 47.609375 25.390625 \r\nL 58.015625 25.390625 \r\nL 58.015625 17.1875 \r\nL 47.609375 17.1875 \r\nL 47.609375 0 \r\nL 37.796875 0 \r\nL 37.796875 17.1875 \r\nL 4.890625 17.1875 \r\nL 4.890625 26.703125 \r\nz\r\n\" id=\"DejaVuSans-52\"/>\r\n       </defs>\r\n       <use xlink:href=\"#DejaVuSans-52\"/>\r\n      </g>\r\n     </g>\r\n    </g>\r\n    <g id=\"xtick_4\">\r\n     <g id=\"line2d_7\">\r\n      <path clip-path=\"url(#pc7247489eb)\" d=\"M 192.551182 279 \r\nL 192.551182 7.2 \r\n\" style=\"fill:none;stroke:#b0b0b0;stroke-linecap:square;stroke-width:0.8;\"/>\r\n     </g>\r\n     <g id=\"line2d_8\">\r\n      <g>\r\n       <use style=\"stroke:#000000;stroke-width:0.8;\" x=\"192.551182\" xlink:href=\"#m188328b20f\" y=\"279\"/>\r\n      </g>\r\n     </g>\r\n     <g id=\"text_4\">\r\n      <!-- 6 -->\r\n      <g transform=\"translate(189.369932 293.598437)scale(0.1 -0.1)\">\r\n       <defs>\r\n        <path d=\"M 33.015625 40.375 \r\nQ 26.375 40.375 22.484375 35.828125 \r\nQ 18.609375 31.296875 18.609375 23.390625 \r\nQ 18.609375 15.53125 22.484375 10.953125 \r\nQ 26.375 6.390625 33.015625 6.390625 \r\nQ 39.65625 6.390625 43.53125 10.953125 \r\nQ 47.40625 15.53125 47.40625 23.390625 \r\nQ 47.40625 31.296875 43.53125 35.828125 \r\nQ 39.65625 40.375 33.015625 40.375 \r\nz\r\nM 52.59375 71.296875 \r\nL 52.59375 62.3125 \r\nQ 48.875 64.0625 45.09375 64.984375 \r\nQ 41.3125 65.921875 37.59375 65.921875 \r\nQ 27.828125 65.921875 22.671875 59.328125 \r\nQ 17.53125 52.734375 16.796875 39.40625 \r\nQ 19.671875 43.65625 24.015625 45.921875 \r\nQ 28.375 48.1875 33.59375 48.1875 \r\nQ 44.578125 48.1875 50.953125 41.515625 \r\nQ 57.328125 34.859375 57.328125 23.390625 \r\nQ 57.328125 12.15625 50.6875 5.359375 \r\nQ 44.046875 -1.421875 33.015625 -1.421875 \r\nQ 20.359375 -1.421875 13.671875 8.265625 \r\nQ 6.984375 17.96875 6.984375 36.375 \r\nQ 6.984375 53.65625 15.1875 63.9375 \r\nQ 23.390625 74.21875 37.203125 74.21875 \r\nQ 40.921875 74.21875 44.703125 73.484375 \r\nQ 48.484375 72.75 52.59375 71.296875 \r\nz\r\n\" id=\"DejaVuSans-54\"/>\r\n       </defs>\r\n       <use xlink:href=\"#DejaVuSans-54\"/>\r\n      </g>\r\n     </g>\r\n    </g>\r\n    <g id=\"xtick_5\">\r\n     <g id=\"line2d_9\">\r\n      <path clip-path=\"url(#pc7247489eb)\" d=\"M 239.505352 279 \r\nL 239.505352 7.2 \r\n\" style=\"fill:none;stroke:#b0b0b0;stroke-linecap:square;stroke-width:0.8;\"/>\r\n     </g>\r\n     <g id=\"line2d_10\">\r\n      <g>\r\n       <use style=\"stroke:#000000;stroke-width:0.8;\" x=\"239.505352\" xlink:href=\"#m188328b20f\" y=\"279\"/>\r\n      </g>\r\n     </g>\r\n     <g id=\"text_5\">\r\n      <!-- 8 -->\r\n      <g transform=\"translate(236.324102 293.598437)scale(0.1 -0.1)\">\r\n       <defs>\r\n        <path d=\"M 31.78125 34.625 \r\nQ 24.75 34.625 20.71875 30.859375 \r\nQ 16.703125 27.09375 16.703125 20.515625 \r\nQ 16.703125 13.921875 20.71875 10.15625 \r\nQ 24.75 6.390625 31.78125 6.390625 \r\nQ 38.8125 6.390625 42.859375 10.171875 \r\nQ 46.921875 13.96875 46.921875 20.515625 \r\nQ 46.921875 27.09375 42.890625 30.859375 \r\nQ 38.875 34.625 31.78125 34.625 \r\nz\r\nM 21.921875 38.8125 \r\nQ 15.578125 40.375 12.03125 44.71875 \r\nQ 8.5 49.078125 8.5 55.328125 \r\nQ 8.5 64.0625 14.71875 69.140625 \r\nQ 20.953125 74.21875 31.78125 74.21875 \r\nQ 42.671875 74.21875 48.875 69.140625 \r\nQ 55.078125 64.0625 55.078125 55.328125 \r\nQ 55.078125 49.078125 51.53125 44.71875 \r\nQ 48 40.375 41.703125 38.8125 \r\nQ 48.828125 37.15625 52.796875 32.3125 \r\nQ 56.78125 27.484375 56.78125 20.515625 \r\nQ 56.78125 9.90625 50.3125 4.234375 \r\nQ 43.84375 -1.421875 31.78125 -1.421875 \r\nQ 19.734375 -1.421875 13.25 4.234375 \r\nQ 6.78125 9.90625 6.78125 20.515625 \r\nQ 6.78125 27.484375 10.78125 32.3125 \r\nQ 14.796875 37.15625 21.921875 38.8125 \r\nz\r\nM 18.3125 54.390625 \r\nQ 18.3125 48.734375 21.84375 45.5625 \r\nQ 25.390625 42.390625 31.78125 42.390625 \r\nQ 38.140625 42.390625 41.71875 45.5625 \r\nQ 45.3125 48.734375 45.3125 54.390625 \r\nQ 45.3125 60.0625 41.71875 63.234375 \r\nQ 38.140625 66.40625 31.78125 66.40625 \r\nQ 25.390625 66.40625 21.84375 63.234375 \r\nQ 18.3125 60.0625 18.3125 54.390625 \r\nz\r\n\" id=\"DejaVuSans-56\"/>\r\n       </defs>\r\n       <use xlink:href=\"#DejaVuSans-56\"/>\r\n      </g>\r\n     </g>\r\n    </g>\r\n    <g id=\"xtick_6\">\r\n     <g id=\"line2d_11\">\r\n      <path clip-path=\"url(#pc7247489eb)\" d=\"M 286.459522 279 \r\nL 286.459522 7.2 \r\n\" style=\"fill:none;stroke:#b0b0b0;stroke-linecap:square;stroke-width:0.8;\"/>\r\n     </g>\r\n     <g id=\"line2d_12\">\r\n      <g>\r\n       <use style=\"stroke:#000000;stroke-width:0.8;\" x=\"286.459522\" xlink:href=\"#m188328b20f\" y=\"279\"/>\r\n      </g>\r\n     </g>\r\n     <g id=\"text_6\">\r\n      <!-- 10 -->\r\n      <g transform=\"translate(280.097022 293.598437)scale(0.1 -0.1)\">\r\n       <defs>\r\n        <path d=\"M 12.40625 8.296875 \r\nL 28.515625 8.296875 \r\nL 28.515625 63.921875 \r\nL 10.984375 60.40625 \r\nL 10.984375 69.390625 \r\nL 28.421875 72.90625 \r\nL 38.28125 72.90625 \r\nL 38.28125 8.296875 \r\nL 54.390625 8.296875 \r\nL 54.390625 0 \r\nL 12.40625 0 \r\nz\r\n\" id=\"DejaVuSans-49\"/>\r\n       </defs>\r\n       <use xlink:href=\"#DejaVuSans-49\"/>\r\n       <use x=\"63.623047\" xlink:href=\"#DejaVuSans-48\"/>\r\n      </g>\r\n     </g>\r\n    </g>\r\n    <g id=\"xtick_7\">\r\n     <g id=\"line2d_13\">\r\n      <path clip-path=\"url(#pc7247489eb)\" d=\"M 333.413692 279 \r\nL 333.413692 7.2 \r\n\" style=\"fill:none;stroke:#b0b0b0;stroke-linecap:square;stroke-width:0.8;\"/>\r\n     </g>\r\n     <g id=\"line2d_14\">\r\n      <g>\r\n       <use style=\"stroke:#000000;stroke-width:0.8;\" x=\"333.413692\" xlink:href=\"#m188328b20f\" y=\"279\"/>\r\n      </g>\r\n     </g>\r\n     <g id=\"text_7\">\r\n      <!-- 12 -->\r\n      <g transform=\"translate(327.051192 293.598437)scale(0.1 -0.1)\">\r\n       <use xlink:href=\"#DejaVuSans-49\"/>\r\n       <use x=\"63.623047\" xlink:href=\"#DejaVuSans-50\"/>\r\n      </g>\r\n     </g>\r\n    </g>\r\n    <g id=\"xtick_8\">\r\n     <g id=\"line2d_15\">\r\n      <path clip-path=\"url(#pc7247489eb)\" d=\"M 380.367861 279 \r\nL 380.367861 7.2 \r\n\" style=\"fill:none;stroke:#b0b0b0;stroke-linecap:square;stroke-width:0.8;\"/>\r\n     </g>\r\n     <g id=\"line2d_16\">\r\n      <g>\r\n       <use style=\"stroke:#000000;stroke-width:0.8;\" x=\"380.367861\" xlink:href=\"#m188328b20f\" y=\"279\"/>\r\n      </g>\r\n     </g>\r\n     <g id=\"text_8\">\r\n      <!-- 14 -->\r\n      <g transform=\"translate(374.005361 293.598437)scale(0.1 -0.1)\">\r\n       <use xlink:href=\"#DejaVuSans-49\"/>\r\n       <use x=\"63.623047\" xlink:href=\"#DejaVuSans-52\"/>\r\n      </g>\r\n     </g>\r\n    </g>\r\n    <g id=\"text_9\">\r\n     <!-- t -->\r\n     <g transform=\"translate(214.068111 307.276562)scale(0.1 -0.1)\">\r\n      <defs>\r\n       <path d=\"M 18.3125 70.21875 \r\nL 18.3125 54.6875 \r\nL 36.8125 54.6875 \r\nL 36.8125 47.703125 \r\nL 18.3125 47.703125 \r\nL 18.3125 18.015625 \r\nQ 18.3125 11.328125 20.140625 9.421875 \r\nQ 21.96875 7.515625 27.59375 7.515625 \r\nL 36.8125 7.515625 \r\nL 36.8125 0 \r\nL 27.59375 0 \r\nQ 17.1875 0 13.234375 3.875 \r\nQ 9.28125 7.765625 9.28125 18.015625 \r\nL 9.28125 47.703125 \r\nL 2.6875 47.703125 \r\nL 2.6875 54.6875 \r\nL 9.28125 54.6875 \r\nL 9.28125 70.21875 \r\nz\r\n\" id=\"DejaVuSans-116\"/>\r\n      </defs>\r\n      <use xlink:href=\"#DejaVuSans-116\"/>\r\n     </g>\r\n    </g>\r\n   </g>\r\n   <g id=\"matplotlib.axis_2\">\r\n    <g id=\"ytick_1\">\r\n     <g id=\"line2d_17\">\r\n      <path clip-path=\"url(#pc7247489eb)\" d=\"M 38.482813 257.935643 \r\nL 393.573722 257.935643 \r\n\" style=\"fill:none;stroke:#b0b0b0;stroke-linecap:square;stroke-width:0.8;\"/>\r\n     </g>\r\n     <g id=\"line2d_18\">\r\n      <defs>\r\n       <path d=\"M 0 0 \r\nL -3.5 0 \r\n\" id=\"me8ebcaf98d\" style=\"stroke:#000000;stroke-width:0.8;\"/>\r\n      </defs>\r\n      <g>\r\n       <use style=\"stroke:#000000;stroke-width:0.8;\" x=\"38.482813\" xlink:href=\"#me8ebcaf98d\" y=\"257.935643\"/>\r\n      </g>\r\n     </g>\r\n     <g id=\"text_10\">\r\n      <!-- −0.4 -->\r\n      <g transform=\"translate(7.2 261.734862)scale(0.1 -0.1)\">\r\n       <defs>\r\n        <path d=\"M 10.59375 35.5 \r\nL 73.1875 35.5 \r\nL 73.1875 27.203125 \r\nL 10.59375 27.203125 \r\nz\r\n\" id=\"DejaVuSans-8722\"/>\r\n        <path d=\"M 10.6875 12.40625 \r\nL 21 12.40625 \r\nL 21 0 \r\nL 10.6875 0 \r\nz\r\n\" id=\"DejaVuSans-46\"/>\r\n       </defs>\r\n       <use xlink:href=\"#DejaVuSans-8722\"/>\r\n       <use x=\"83.789062\" xlink:href=\"#DejaVuSans-48\"/>\r\n       <use x=\"147.412109\" xlink:href=\"#DejaVuSans-46\"/>\r\n       <use x=\"179.199219\" xlink:href=\"#DejaVuSans-52\"/>\r\n      </g>\r\n     </g>\r\n    </g>\r\n    <g id=\"ytick_2\">\r\n     <g id=\"line2d_19\">\r\n      <path clip-path=\"url(#pc7247489eb)\" d=\"M 38.482813 200.554975 \r\nL 393.573722 200.554975 \r\n\" style=\"fill:none;stroke:#b0b0b0;stroke-linecap:square;stroke-width:0.8;\"/>\r\n     </g>\r\n     <g id=\"line2d_20\">\r\n      <g>\r\n       <use style=\"stroke:#000000;stroke-width:0.8;\" x=\"38.482813\" xlink:href=\"#me8ebcaf98d\" y=\"200.554975\"/>\r\n      </g>\r\n     </g>\r\n     <g id=\"text_11\">\r\n      <!-- −0.2 -->\r\n      <g transform=\"translate(7.2 204.354194)scale(0.1 -0.1)\">\r\n       <use xlink:href=\"#DejaVuSans-8722\"/>\r\n       <use x=\"83.789062\" xlink:href=\"#DejaVuSans-48\"/>\r\n       <use x=\"147.412109\" xlink:href=\"#DejaVuSans-46\"/>\r\n       <use x=\"179.199219\" xlink:href=\"#DejaVuSans-50\"/>\r\n      </g>\r\n     </g>\r\n    </g>\r\n    <g id=\"ytick_3\">\r\n     <g id=\"line2d_21\">\r\n      <path clip-path=\"url(#pc7247489eb)\" d=\"M 38.482813 143.174308 \r\nL 393.573722 143.174308 \r\n\" style=\"fill:none;stroke:#b0b0b0;stroke-linecap:square;stroke-width:0.8;\"/>\r\n     </g>\r\n     <g id=\"line2d_22\">\r\n      <g>\r\n       <use style=\"stroke:#000000;stroke-width:0.8;\" x=\"38.482813\" xlink:href=\"#me8ebcaf98d\" y=\"143.174308\"/>\r\n      </g>\r\n     </g>\r\n     <g id=\"text_12\">\r\n      <!-- 0.0 -->\r\n      <g transform=\"translate(15.579688 146.973527)scale(0.1 -0.1)\">\r\n       <use xlink:href=\"#DejaVuSans-48\"/>\r\n       <use x=\"63.623047\" xlink:href=\"#DejaVuSans-46\"/>\r\n       <use x=\"95.410156\" xlink:href=\"#DejaVuSans-48\"/>\r\n      </g>\r\n     </g>\r\n    </g>\r\n    <g id=\"ytick_4\">\r\n     <g id=\"line2d_23\">\r\n      <path clip-path=\"url(#pc7247489eb)\" d=\"M 38.482813 85.79364 \r\nL 393.573722 85.79364 \r\n\" style=\"fill:none;stroke:#b0b0b0;stroke-linecap:square;stroke-width:0.8;\"/>\r\n     </g>\r\n     <g id=\"line2d_24\">\r\n      <g>\r\n       <use style=\"stroke:#000000;stroke-width:0.8;\" x=\"38.482813\" xlink:href=\"#me8ebcaf98d\" y=\"85.79364\"/>\r\n      </g>\r\n     </g>\r\n     <g id=\"text_13\">\r\n      <!-- 0.2 -->\r\n      <g transform=\"translate(15.579688 89.592859)scale(0.1 -0.1)\">\r\n       <use xlink:href=\"#DejaVuSans-48\"/>\r\n       <use x=\"63.623047\" xlink:href=\"#DejaVuSans-46\"/>\r\n       <use x=\"95.410156\" xlink:href=\"#DejaVuSans-50\"/>\r\n      </g>\r\n     </g>\r\n    </g>\r\n    <g id=\"ytick_5\">\r\n     <g id=\"line2d_25\">\r\n      <path clip-path=\"url(#pc7247489eb)\" d=\"M 38.482813 28.412973 \r\nL 393.573722 28.412973 \r\n\" style=\"fill:none;stroke:#b0b0b0;stroke-linecap:square;stroke-width:0.8;\"/>\r\n     </g>\r\n     <g id=\"line2d_26\">\r\n      <g>\r\n       <use style=\"stroke:#000000;stroke-width:0.8;\" x=\"38.482813\" xlink:href=\"#me8ebcaf98d\" y=\"28.412973\"/>\r\n      </g>\r\n     </g>\r\n     <g id=\"text_14\">\r\n      <!-- 0.4 -->\r\n      <g transform=\"translate(15.579688 32.212192)scale(0.1 -0.1)\">\r\n       <use xlink:href=\"#DejaVuSans-48\"/>\r\n       <use x=\"63.623047\" xlink:href=\"#DejaVuSans-46\"/>\r\n       <use x=\"95.410156\" xlink:href=\"#DejaVuSans-52\"/>\r\n      </g>\r\n     </g>\r\n    </g>\r\n   </g>\r\n   <g id=\"line2d_27\">\r\n    <path clip-path=\"url(#pc7247489eb)\" d=\"M 54.623308 107.126625 \r\nL 57.557944 92.304051 \r\nL 60.49258 78.330137 \r\nL 63.427215 65.428955 \r\nL 66.361851 53.805927 \r\nL 69.296486 43.645819 \r\nL 72.231122 35.110158 \r\nL 75.165758 28.33637 \r\nL 78.100393 23.4352 \r\nL 81.035029 20.490137 \r\nL 83.969664 19.554545 \r\nL 86.9043 20.651377 \r\nL 89.838936 23.770303 \r\nL 92.773571 28.867715 \r\nL 95.708207 35.866435 \r\nL 98.642843 44.654858 \r\nL 101.577478 55.089819 \r\nL 104.512114 66.996881 \r\nL 107.446749 80.175212 \r\nL 110.381385 94.400741 \r\nL 113.316021 109.43132 \r\nL 116.250656 125.011605 \r\nL 119.185292 140.87736 \r\nL 122.119927 156.763198 \r\nL 125.054563 172.404881 \r\nL 127.989199 187.545917 \r\nL 130.923834 201.940145 \r\nL 133.85847 215.355745 \r\nL 136.793106 227.578975 \r\nL 139.727741 238.415314 \r\nL 142.662377 247.692907 \r\nL 145.597012 255.263425 \r\nL 148.531648 261.004648 \r\nL 151.466284 264.821036 \r\nL 154.400919 266.645455 \r\nL 157.335555 266.442327 \r\nL 160.27019 264.206776 \r\nL 163.204826 259.968066 \r\nL 166.139462 253.789316 \r\nL 169.074097 245.766925 \r\nL 172.008733 236.031434 \r\nL 174.943368 224.743509 \r\nL 177.878004 212.093367 \r\nL 180.81264 198.295612 \r\nL 183.747275 183.58493 \r\nL 186.681911 168.212649 \r\nL 189.616547 152.438991 \r\nL 192.551182 136.529914 \r\nL 195.485818 120.750804 \r\nL 198.420453 105.361596 \r\nL 201.355089 90.61419 \r\nL 204.289725 76.746431 \r\nL 207.22436 63.980667 \r\nL 210.158996 52.519452 \r\nL 213.093631 42.545258 \r\nL 216.028267 34.216454 \r\nL 218.962903 27.666737 \r\nL 221.897538 23.003697 \r\nL 224.832174 20.306806 \r\nL 227.766809 19.625411 \r\nL 230.701445 20.97816 \r\nL 233.636081 24.350135 \r\nL 236.570716 29.693136 \r\nL 239.505352 36.925682 \r\nL 242.439988 45.931291 \r\nL 245.374623 56.562207 \r\nL 248.309259 68.640837 \r\nL 251.243894 81.962907 \r\nL 254.17853 96.301475 \r\nL 257.113166 111.4121 \r\nL 260.047801 127.038004 \r\nL 262.982437 142.914947 \r\nL 265.917072 158.777259 \r\nL 268.851708 174.361561 \r\nL 271.786344 189.412224 \r\nL 274.720979 203.685091 \r\nL 277.655615 216.950927 \r\nL 280.590251 228.997999 \r\nL 283.524886 239.63494 \r\nL 286.459522 248.693052 \r\nL 289.394157 256.027449 \r\nL 292.328793 261.519353 \r\nL 295.263429 265.076667 \r\nL 298.198064 266.636847 \r\nL 301.1327 266.16776 \r\nL 304.067335 263.669693 \r\nL 307.001971 259.175639 \r\nL 309.936607 252.753595 \r\nL 312.871242 244.504263 \r\nL 315.805878 234.562202 \r\nL 318.740513 223.092093 \r\nL 321.675149 210.287597 \r\nL 324.609785 196.365613 \r\nL 327.54442 181.563696 \r\nL 330.479056 166.134034 \r\nL 333.413692 150.33771 \r\nL 336.348327 134.44097 \r\nL 339.282963 118.708339 \r\nL 342.217598 103.399177 \r\nL 345.152234 88.76309 \r\nL 348.08687 75.0362 \r\nL 351.021505 62.437987 \r\nL 353.956141 51.168998 \r\nL 356.890776 41.407973 \r\nL 359.825412 33.310126 \r\nL 362.760048 27.006286 \r\nL 365.694683 22.599737 \r\nL 368.629319 20.16651 \r\nL 371.563954 19.751648 \r\nL 374.49859 21.369496 \r\nL 377.433226 25.001405 \r\n\" style=\"fill:none;stroke:#000000;stroke-linecap:square;stroke-width:3;\"/>\r\n   </g>\r\n   <g id=\"patch_3\">\r\n    <path d=\"M 38.482813 279 \r\nL 38.482813 7.2 \r\n\" style=\"fill:none;stroke:#000000;stroke-linecap:square;stroke-linejoin:miter;stroke-width:0.8;\"/>\r\n   </g>\r\n   <g id=\"patch_4\">\r\n    <path d=\"M 393.573722 279 \r\nL 393.573722 7.2 \r\n\" style=\"fill:none;stroke:#000000;stroke-linecap:square;stroke-linejoin:miter;stroke-width:0.8;\"/>\r\n   </g>\r\n   <g id=\"patch_5\">\r\n    <path d=\"M 38.482813 279 \r\nL 393.573722 279 \r\n\" style=\"fill:none;stroke:#000000;stroke-linecap:square;stroke-linejoin:miter;stroke-width:0.8;\"/>\r\n   </g>\r\n   <g id=\"patch_6\">\r\n    <path d=\"M 38.482813 7.2 \r\nL 393.573722 7.2 \r\n\" style=\"fill:none;stroke:#000000;stroke-linecap:square;stroke-linejoin:miter;stroke-width:0.8;\"/>\r\n   </g>\r\n   <g id=\"legend_1\">\r\n    <g id=\"patch_7\">\r\n     <path d=\"M 45.482813 274 \r\nL 83.401563 274 \r\nQ 85.401563 274 85.401563 272 \r\nL 85.401563 258.321875 \r\nQ 85.401563 256.321875 83.401563 256.321875 \r\nL 45.482813 256.321875 \r\nQ 43.482813 256.321875 43.482813 258.321875 \r\nL 43.482813 272 \r\nQ 43.482813 274 45.482813 274 \r\nz\r\n\" style=\"fill:#ffffff;opacity:0.8;stroke:#cccccc;stroke-linejoin:miter;\"/>\r\n    </g>\r\n    <g id=\"line2d_28\">\r\n     <path d=\"M 47.482813 264.420312 \r\nL 67.482813 264.420312 \r\n\" style=\"fill:none;stroke:#000000;stroke-linecap:square;stroke-width:3;\"/>\r\n    </g>\r\n    <g id=\"line2d_29\"/>\r\n    <g id=\"text_15\">\r\n     <!-- x -->\r\n     <g transform=\"translate(75.482813 267.920312)scale(0.1 -0.1)\">\r\n      <defs>\r\n       <path d=\"M 54.890625 54.6875 \r\nL 35.109375 28.078125 \r\nL 55.90625 0 \r\nL 45.3125 0 \r\nL 29.390625 21.484375 \r\nL 13.484375 0 \r\nL 2.875 0 \r\nL 24.125 28.609375 \r\nL 4.6875 54.6875 \r\nL 15.28125 54.6875 \r\nL 29.78125 35.203125 \r\nL 44.28125 54.6875 \r\nz\r\n\" id=\"DejaVuSans-120\"/>\r\n      </defs>\r\n      <use xlink:href=\"#DejaVuSans-120\"/>\r\n     </g>\r\n    </g>\r\n   </g>\r\n  </g>\r\n  <g id=\"axes_2\">\r\n   <g id=\"patch_8\">\r\n    <path d=\"M 464.591903 279 \r\nL 819.682812 279 \r\nL 819.682812 7.2 \r\nL 464.591903 7.2 \r\nz\r\n\" style=\"fill:#ffffff;\"/>\r\n   </g>\r\n   <g id=\"matplotlib.axis_3\">\r\n    <g id=\"xtick_9\">\r\n     <g id=\"line2d_30\">\r\n      <path clip-path=\"url(#pf4f8af4cd4)\" d=\"M 477.797764 279 \r\nL 477.797764 7.2 \r\n\" style=\"fill:none;stroke:#b0b0b0;stroke-linecap:square;stroke-width:0.8;\"/>\r\n     </g>\r\n     <g id=\"line2d_31\">\r\n      <g>\r\n       <use style=\"stroke:#000000;stroke-width:0.8;\" x=\"477.797764\" xlink:href=\"#m188328b20f\" y=\"279\"/>\r\n      </g>\r\n     </g>\r\n     <g id=\"text_16\">\r\n      <!-- 0 -->\r\n      <g transform=\"translate(474.616514 293.598437)scale(0.1 -0.1)\">\r\n       <use xlink:href=\"#DejaVuSans-48\"/>\r\n      </g>\r\n     </g>\r\n    </g>\r\n    <g id=\"xtick_10\">\r\n     <g id=\"line2d_32\">\r\n      <path clip-path=\"url(#pf4f8af4cd4)\" d=\"M 524.751933 279 \r\nL 524.751933 7.2 \r\n\" style=\"fill:none;stroke:#b0b0b0;stroke-linecap:square;stroke-width:0.8;\"/>\r\n     </g>\r\n     <g id=\"line2d_33\">\r\n      <g>\r\n       <use style=\"stroke:#000000;stroke-width:0.8;\" x=\"524.751933\" xlink:href=\"#m188328b20f\" y=\"279\"/>\r\n      </g>\r\n     </g>\r\n     <g id=\"text_17\">\r\n      <!-- 2 -->\r\n      <g transform=\"translate(521.570683 293.598437)scale(0.1 -0.1)\">\r\n       <use xlink:href=\"#DejaVuSans-50\"/>\r\n      </g>\r\n     </g>\r\n    </g>\r\n    <g id=\"xtick_11\">\r\n     <g id=\"line2d_34\">\r\n      <path clip-path=\"url(#pf4f8af4cd4)\" d=\"M 571.706103 279 \r\nL 571.706103 7.2 \r\n\" style=\"fill:none;stroke:#b0b0b0;stroke-linecap:square;stroke-width:0.8;\"/>\r\n     </g>\r\n     <g id=\"line2d_35\">\r\n      <g>\r\n       <use style=\"stroke:#000000;stroke-width:0.8;\" x=\"571.706103\" xlink:href=\"#m188328b20f\" y=\"279\"/>\r\n      </g>\r\n     </g>\r\n     <g id=\"text_18\">\r\n      <!-- 4 -->\r\n      <g transform=\"translate(568.524853 293.598437)scale(0.1 -0.1)\">\r\n       <use xlink:href=\"#DejaVuSans-52\"/>\r\n      </g>\r\n     </g>\r\n    </g>\r\n    <g id=\"xtick_12\">\r\n     <g id=\"line2d_36\">\r\n      <path clip-path=\"url(#pf4f8af4cd4)\" d=\"M 618.660273 279 \r\nL 618.660273 7.2 \r\n\" style=\"fill:none;stroke:#b0b0b0;stroke-linecap:square;stroke-width:0.8;\"/>\r\n     </g>\r\n     <g id=\"line2d_37\">\r\n      <g>\r\n       <use style=\"stroke:#000000;stroke-width:0.8;\" x=\"618.660273\" xlink:href=\"#m188328b20f\" y=\"279\"/>\r\n      </g>\r\n     </g>\r\n     <g id=\"text_19\">\r\n      <!-- 6 -->\r\n      <g transform=\"translate(615.479023 293.598437)scale(0.1 -0.1)\">\r\n       <use xlink:href=\"#DejaVuSans-54\"/>\r\n      </g>\r\n     </g>\r\n    </g>\r\n    <g id=\"xtick_13\">\r\n     <g id=\"line2d_38\">\r\n      <path clip-path=\"url(#pf4f8af4cd4)\" d=\"M 665.614443 279 \r\nL 665.614443 7.2 \r\n\" style=\"fill:none;stroke:#b0b0b0;stroke-linecap:square;stroke-width:0.8;\"/>\r\n     </g>\r\n     <g id=\"line2d_39\">\r\n      <g>\r\n       <use style=\"stroke:#000000;stroke-width:0.8;\" x=\"665.614443\" xlink:href=\"#m188328b20f\" y=\"279\"/>\r\n      </g>\r\n     </g>\r\n     <g id=\"text_20\">\r\n      <!-- 8 -->\r\n      <g transform=\"translate(662.433193 293.598437)scale(0.1 -0.1)\">\r\n       <use xlink:href=\"#DejaVuSans-56\"/>\r\n      </g>\r\n     </g>\r\n    </g>\r\n    <g id=\"xtick_14\">\r\n     <g id=\"line2d_40\">\r\n      <path clip-path=\"url(#pf4f8af4cd4)\" d=\"M 712.568613 279 \r\nL 712.568613 7.2 \r\n\" style=\"fill:none;stroke:#b0b0b0;stroke-linecap:square;stroke-width:0.8;\"/>\r\n     </g>\r\n     <g id=\"line2d_41\">\r\n      <g>\r\n       <use style=\"stroke:#000000;stroke-width:0.8;\" x=\"712.568613\" xlink:href=\"#m188328b20f\" y=\"279\"/>\r\n      </g>\r\n     </g>\r\n     <g id=\"text_21\">\r\n      <!-- 10 -->\r\n      <g transform=\"translate(706.206113 293.598437)scale(0.1 -0.1)\">\r\n       <use xlink:href=\"#DejaVuSans-49\"/>\r\n       <use x=\"63.623047\" xlink:href=\"#DejaVuSans-48\"/>\r\n      </g>\r\n     </g>\r\n    </g>\r\n    <g id=\"xtick_15\">\r\n     <g id=\"line2d_42\">\r\n      <path clip-path=\"url(#pf4f8af4cd4)\" d=\"M 759.522782 279 \r\nL 759.522782 7.2 \r\n\" style=\"fill:none;stroke:#b0b0b0;stroke-linecap:square;stroke-width:0.8;\"/>\r\n     </g>\r\n     <g id=\"line2d_43\">\r\n      <g>\r\n       <use style=\"stroke:#000000;stroke-width:0.8;\" x=\"759.522782\" xlink:href=\"#m188328b20f\" y=\"279\"/>\r\n      </g>\r\n     </g>\r\n     <g id=\"text_22\">\r\n      <!-- 12 -->\r\n      <g transform=\"translate(753.160282 293.598437)scale(0.1 -0.1)\">\r\n       <use xlink:href=\"#DejaVuSans-49\"/>\r\n       <use x=\"63.623047\" xlink:href=\"#DejaVuSans-50\"/>\r\n      </g>\r\n     </g>\r\n    </g>\r\n    <g id=\"xtick_16\">\r\n     <g id=\"line2d_44\">\r\n      <path clip-path=\"url(#pf4f8af4cd4)\" d=\"M 806.476952 279 \r\nL 806.476952 7.2 \r\n\" style=\"fill:none;stroke:#b0b0b0;stroke-linecap:square;stroke-width:0.8;\"/>\r\n     </g>\r\n     <g id=\"line2d_45\">\r\n      <g>\r\n       <use style=\"stroke:#000000;stroke-width:0.8;\" x=\"806.476952\" xlink:href=\"#m188328b20f\" y=\"279\"/>\r\n      </g>\r\n     </g>\r\n     <g id=\"text_23\">\r\n      <!-- 14 -->\r\n      <g transform=\"translate(800.114452 293.598437)scale(0.1 -0.1)\">\r\n       <use xlink:href=\"#DejaVuSans-49\"/>\r\n       <use x=\"63.623047\" xlink:href=\"#DejaVuSans-52\"/>\r\n      </g>\r\n     </g>\r\n    </g>\r\n    <g id=\"text_24\">\r\n     <!-- t -->\r\n     <g transform=\"translate(640.177202 307.276562)scale(0.1 -0.1)\">\r\n      <use xlink:href=\"#DejaVuSans-116\"/>\r\n     </g>\r\n    </g>\r\n   </g>\r\n   <g id=\"matplotlib.axis_4\">\r\n    <g id=\"ytick_6\">\r\n     <g id=\"line2d_46\">\r\n      <path clip-path=\"url(#pf4f8af4cd4)\" d=\"M 464.591903 267.650951 \r\nL 819.682812 267.650951 \r\n\" style=\"fill:none;stroke:#b0b0b0;stroke-linecap:square;stroke-width:0.8;\"/>\r\n     </g>\r\n     <g id=\"line2d_47\">\r\n      <g>\r\n       <use style=\"stroke:#000000;stroke-width:0.8;\" x=\"464.591903\" xlink:href=\"#me8ebcaf98d\" y=\"267.650951\"/>\r\n      </g>\r\n     </g>\r\n     <g id=\"text_25\">\r\n      <!-- −0.06 -->\r\n      <g transform=\"translate(426.946591 271.45017)scale(0.1 -0.1)\">\r\n       <use xlink:href=\"#DejaVuSans-8722\"/>\r\n       <use x=\"83.789062\" xlink:href=\"#DejaVuSans-48\"/>\r\n       <use x=\"147.412109\" xlink:href=\"#DejaVuSans-46\"/>\r\n       <use x=\"179.199219\" xlink:href=\"#DejaVuSans-48\"/>\r\n       <use x=\"242.822266\" xlink:href=\"#DejaVuSans-54\"/>\r\n      </g>\r\n     </g>\r\n    </g>\r\n    <g id=\"ytick_7\">\r\n     <g id=\"line2d_48\">\r\n      <path clip-path=\"url(#pf4f8af4cd4)\" d=\"M 464.591903 226.187179 \r\nL 819.682812 226.187179 \r\n\" style=\"fill:none;stroke:#b0b0b0;stroke-linecap:square;stroke-width:0.8;\"/>\r\n     </g>\r\n     <g id=\"line2d_49\">\r\n      <g>\r\n       <use style=\"stroke:#000000;stroke-width:0.8;\" x=\"464.591903\" xlink:href=\"#me8ebcaf98d\" y=\"226.187179\"/>\r\n      </g>\r\n     </g>\r\n     <g id=\"text_26\">\r\n      <!-- −0.04 -->\r\n      <g transform=\"translate(426.946591 229.986398)scale(0.1 -0.1)\">\r\n       <use xlink:href=\"#DejaVuSans-8722\"/>\r\n       <use x=\"83.789062\" xlink:href=\"#DejaVuSans-48\"/>\r\n       <use x=\"147.412109\" xlink:href=\"#DejaVuSans-46\"/>\r\n       <use x=\"179.199219\" xlink:href=\"#DejaVuSans-48\"/>\r\n       <use x=\"242.822266\" xlink:href=\"#DejaVuSans-52\"/>\r\n      </g>\r\n     </g>\r\n    </g>\r\n    <g id=\"ytick_8\">\r\n     <g id=\"line2d_50\">\r\n      <path clip-path=\"url(#pf4f8af4cd4)\" d=\"M 464.591903 184.723407 \r\nL 819.682812 184.723407 \r\n\" style=\"fill:none;stroke:#b0b0b0;stroke-linecap:square;stroke-width:0.8;\"/>\r\n     </g>\r\n     <g id=\"line2d_51\">\r\n      <g>\r\n       <use style=\"stroke:#000000;stroke-width:0.8;\" x=\"464.591903\" xlink:href=\"#me8ebcaf98d\" y=\"184.723407\"/>\r\n      </g>\r\n     </g>\r\n     <g id=\"text_27\">\r\n      <!-- −0.02 -->\r\n      <g transform=\"translate(426.946591 188.522626)scale(0.1 -0.1)\">\r\n       <use xlink:href=\"#DejaVuSans-8722\"/>\r\n       <use x=\"83.789062\" xlink:href=\"#DejaVuSans-48\"/>\r\n       <use x=\"147.412109\" xlink:href=\"#DejaVuSans-46\"/>\r\n       <use x=\"179.199219\" xlink:href=\"#DejaVuSans-48\"/>\r\n       <use x=\"242.822266\" xlink:href=\"#DejaVuSans-50\"/>\r\n      </g>\r\n     </g>\r\n    </g>\r\n    <g id=\"ytick_9\">\r\n     <g id=\"line2d_52\">\r\n      <path clip-path=\"url(#pf4f8af4cd4)\" d=\"M 464.591903 143.259636 \r\nL 819.682812 143.259636 \r\n\" style=\"fill:none;stroke:#b0b0b0;stroke-linecap:square;stroke-width:0.8;\"/>\r\n     </g>\r\n     <g id=\"line2d_53\">\r\n      <g>\r\n       <use style=\"stroke:#000000;stroke-width:0.8;\" x=\"464.591903\" xlink:href=\"#me8ebcaf98d\" y=\"143.259636\"/>\r\n      </g>\r\n     </g>\r\n     <g id=\"text_28\">\r\n      <!-- 0.00 -->\r\n      <g transform=\"translate(435.326278 147.058854)scale(0.1 -0.1)\">\r\n       <use xlink:href=\"#DejaVuSans-48\"/>\r\n       <use x=\"63.623047\" xlink:href=\"#DejaVuSans-46\"/>\r\n       <use x=\"95.410156\" xlink:href=\"#DejaVuSans-48\"/>\r\n       <use x=\"159.033203\" xlink:href=\"#DejaVuSans-48\"/>\r\n      </g>\r\n     </g>\r\n    </g>\r\n    <g id=\"ytick_10\">\r\n     <g id=\"line2d_54\">\r\n      <path clip-path=\"url(#pf4f8af4cd4)\" d=\"M 464.591903 101.795864 \r\nL 819.682812 101.795864 \r\n\" style=\"fill:none;stroke:#b0b0b0;stroke-linecap:square;stroke-width:0.8;\"/>\r\n     </g>\r\n     <g id=\"line2d_55\">\r\n      <g>\r\n       <use style=\"stroke:#000000;stroke-width:0.8;\" x=\"464.591903\" xlink:href=\"#me8ebcaf98d\" y=\"101.795864\"/>\r\n      </g>\r\n     </g>\r\n     <g id=\"text_29\">\r\n      <!-- 0.02 -->\r\n      <g transform=\"translate(435.326278 105.595082)scale(0.1 -0.1)\">\r\n       <use xlink:href=\"#DejaVuSans-48\"/>\r\n       <use x=\"63.623047\" xlink:href=\"#DejaVuSans-46\"/>\r\n       <use x=\"95.410156\" xlink:href=\"#DejaVuSans-48\"/>\r\n       <use x=\"159.033203\" xlink:href=\"#DejaVuSans-50\"/>\r\n      </g>\r\n     </g>\r\n    </g>\r\n    <g id=\"ytick_11\">\r\n     <g id=\"line2d_56\">\r\n      <path clip-path=\"url(#pf4f8af4cd4)\" d=\"M 464.591903 60.332092 \r\nL 819.682812 60.332092 \r\n\" style=\"fill:none;stroke:#b0b0b0;stroke-linecap:square;stroke-width:0.8;\"/>\r\n     </g>\r\n     <g id=\"line2d_57\">\r\n      <g>\r\n       <use style=\"stroke:#000000;stroke-width:0.8;\" x=\"464.591903\" xlink:href=\"#me8ebcaf98d\" y=\"60.332092\"/>\r\n      </g>\r\n     </g>\r\n     <g id=\"text_30\">\r\n      <!-- 0.04 -->\r\n      <g transform=\"translate(435.326278 64.131311)scale(0.1 -0.1)\">\r\n       <use xlink:href=\"#DejaVuSans-48\"/>\r\n       <use x=\"63.623047\" xlink:href=\"#DejaVuSans-46\"/>\r\n       <use x=\"95.410156\" xlink:href=\"#DejaVuSans-48\"/>\r\n       <use x=\"159.033203\" xlink:href=\"#DejaVuSans-52\"/>\r\n      </g>\r\n     </g>\r\n    </g>\r\n    <g id=\"ytick_12\">\r\n     <g id=\"line2d_58\">\r\n      <path clip-path=\"url(#pf4f8af4cd4)\" d=\"M 464.591903 18.86832 \r\nL 819.682812 18.86832 \r\n\" style=\"fill:none;stroke:#b0b0b0;stroke-linecap:square;stroke-width:0.8;\"/>\r\n     </g>\r\n     <g id=\"line2d_59\">\r\n      <g>\r\n       <use style=\"stroke:#000000;stroke-width:0.8;\" x=\"464.591903\" xlink:href=\"#me8ebcaf98d\" y=\"18.86832\"/>\r\n      </g>\r\n     </g>\r\n     <g id=\"text_31\">\r\n      <!-- 0.06 -->\r\n      <g transform=\"translate(435.326278 22.667539)scale(0.1 -0.1)\">\r\n       <use xlink:href=\"#DejaVuSans-48\"/>\r\n       <use x=\"63.623047\" xlink:href=\"#DejaVuSans-46\"/>\r\n       <use x=\"95.410156\" xlink:href=\"#DejaVuSans-48\"/>\r\n       <use x=\"159.033203\" xlink:href=\"#DejaVuSans-54\"/>\r\n      </g>\r\n     </g>\r\n    </g>\r\n   </g>\r\n   <g id=\"line2d_60\">\r\n    <path clip-path=\"url(#pf4f8af4cd4)\" d=\"M 480.732399 64.148832 \r\nL 483.667035 57.425481 \r\nL 486.601671 46.642828 \r\nL 489.536306 35.607245 \r\nL 492.470942 26.547411 \r\nL 495.405577 20.885533 \r\nL 498.340213 19.554545 \r\nL 501.274849 22.981526 \r\nL 504.209484 31.162328 \r\nL 507.14412 43.659509 \r\nL 510.078755 59.602329 \r\nL 513.013391 77.798706 \r\nL 515.948027 96.888626 \r\nL 518.882662 115.6033 \r\nL 521.817298 132.862595 \r\nL 524.751933 147.913944 \r\nL 527.686569 160.351002 \r\nL 530.621205 170.202794 \r\nL 533.55584 177.898471 \r\nL 536.490476 184.15328 \r\nL 539.425112 189.798573 \r\nL 542.359747 195.657404 \r\nL 545.294383 202.405633 \r\nL 548.229018 210.391555 \r\nL 551.163654 219.598586 \r\nL 554.09829 229.661843 \r\nL 557.032925 240.007054 \r\nL 559.967561 249.90031 \r\nL 562.902196 258.354773 \r\nL 565.836832 264.273727 \r\nL 568.771468 266.645455 \r\nL 571.706103 264.771292 \r\nL 574.640739 258.375505 \r\nL 577.575374 247.609437 \r\nL 580.51001 233.107483 \r\nL 583.444646 215.860627 \r\nL 586.379281 197.181198 \r\nL 589.313917 178.360792 \r\nL 592.248553 160.57076 \r\nL 595.183188 144.690136 \r\nL 598.117824 131.295264 \r\nL 601.052459 120.529196 \r\nL 603.987095 112.128636 \r\nL 606.921731 105.486139 \r\nL 609.856366 99.789017 \r\nL 612.791002 94.210067 \r\nL 615.725637 87.982208 \r\nL 618.660273 80.601657 \r\nL 621.594909 71.933655 \r\nL 624.529544 62.195888 \r\nL 627.46418 51.898361 \r\nL 630.398816 41.694126 \r\nL 633.333451 32.460144 \r\nL 636.268087 25.278619 \r\nL 639.202722 21.217243 \r\nL 642.137358 21.142608 \r\nL 645.071994 25.512889 \r\nL 648.006629 34.367478 \r\nL 650.941265 47.285516 \r\nL 653.8759 63.416996 \r\nL 656.810536 81.569836 \r\nL 659.745172 100.41512 \r\nL 662.679807 118.721375 \r\nL 665.614443 135.46652 \r\nL 668.549078 149.943596 \r\nL 671.483714 161.810527 \r\nL 674.41835 171.156461 \r\nL 677.352985 178.456158 \r\nL 680.287621 184.449746 \r\nL 683.222257 189.968574 \r\nL 686.156892 195.827405 \r\nL 689.091528 202.660635 \r\nL 692.026163 210.764729 \r\nL 694.960799 220.079566 \r\nL 697.895435 230.194653 \r\nL 700.83007 240.517059 \r\nL 703.764706 250.28385 \r\nL 706.699341 258.479165 \r\nL 709.633977 264.010432 \r\nL 712.568613 265.888741 \r\nL 715.503248 263.473476 \r\nL 718.437884 256.540733 \r\nL 721.372519 245.299905 \r\nL 724.307155 230.439289 \r\nL 727.241791 212.99548 \r\nL 730.176426 194.291173 \r\nL 733.111062 175.601378 \r\nL 736.045698 158.066348 \r\nL 738.980333 142.52158 \r\nL 741.914969 129.493663 \r\nL 744.849604 119.073817 \r\nL 747.78424 110.946918 \r\nL 750.718876 104.47235 \r\nL 753.653511 98.831204 \r\nL 756.588147 93.200424 \r\nL 759.522782 86.839881 \r\nL 762.457418 79.293475 \r\nL 765.392054 70.469984 \r\nL 768.326689 60.638924 \r\nL 771.261325 50.326884 \r\nL 774.195961 40.21387 \r\nL 777.130596 31.205865 \r\nL 780.065232 24.395441 \r\nL 782.999867 20.833703 \r\nL 785.934503 21.341634 \r\nL 788.869139 26.317287 \r\nL 791.803774 35.752368 \r\nL 794.73841 49.157605 \r\nL 797.673045 65.641528 \r\nL 800.607681 83.972661 \r\nL 803.542317 102.832458 \r\n\" style=\"fill:none;stroke:#000000;stroke-linecap:square;stroke-width:3;\"/>\r\n   </g>\r\n   <g id=\"patch_9\">\r\n    <path d=\"M 464.591903 279 \r\nL 464.591903 7.2 \r\n\" style=\"fill:none;stroke:#000000;stroke-linecap:square;stroke-linejoin:miter;stroke-width:0.8;\"/>\r\n   </g>\r\n   <g id=\"patch_10\">\r\n    <path d=\"M 819.682812 279 \r\nL 819.682812 7.2 \r\n\" style=\"fill:none;stroke:#000000;stroke-linecap:square;stroke-linejoin:miter;stroke-width:0.8;\"/>\r\n   </g>\r\n   <g id=\"patch_11\">\r\n    <path d=\"M 464.591903 279 \r\nL 819.682812 279 \r\n\" style=\"fill:none;stroke:#000000;stroke-linecap:square;stroke-linejoin:miter;stroke-width:0.8;\"/>\r\n   </g>\r\n   <g id=\"patch_12\">\r\n    <path d=\"M 464.591903 7.2 \r\nL 819.682812 7.2 \r\n\" style=\"fill:none;stroke:#000000;stroke-linecap:square;stroke-linejoin:miter;stroke-width:0.8;\"/>\r\n   </g>\r\n   <g id=\"legend_2\">\r\n    <g id=\"patch_13\">\r\n     <path d=\"M 471.591903 274 \r\nL 507.112216 274 \r\nQ 509.112216 274 509.112216 272 \r\nL 509.112216 258.321875 \r\nQ 509.112216 256.321875 507.112216 256.321875 \r\nL 471.591903 256.321875 \r\nQ 469.591903 256.321875 469.591903 258.321875 \r\nL 469.591903 272 \r\nQ 469.591903 274 471.591903 274 \r\nz\r\n\" style=\"fill:#ffffff;opacity:0.8;stroke:#cccccc;stroke-linejoin:miter;\"/>\r\n    </g>\r\n    <g id=\"line2d_61\">\r\n     <path d=\"M 473.591903 264.420312 \r\nL 493.591903 264.420312 \r\n\" style=\"fill:none;stroke:#000000;stroke-linecap:square;stroke-width:3;\"/>\r\n    </g>\r\n    <g id=\"line2d_62\"/>\r\n    <g id=\"text_32\">\r\n     <!-- f -->\r\n     <g transform=\"translate(501.591903 267.920312)scale(0.1 -0.1)\">\r\n      <defs>\r\n       <path d=\"M 37.109375 75.984375 \r\nL 37.109375 68.5 \r\nL 28.515625 68.5 \r\nQ 23.6875 68.5 21.796875 66.546875 \r\nQ 19.921875 64.59375 19.921875 59.515625 \r\nL 19.921875 54.6875 \r\nL 34.71875 54.6875 \r\nL 34.71875 47.703125 \r\nL 19.921875 47.703125 \r\nL 19.921875 0 \r\nL 10.890625 0 \r\nL 10.890625 47.703125 \r\nL 2.296875 47.703125 \r\nL 2.296875 54.6875 \r\nL 10.890625 54.6875 \r\nL 10.890625 58.5 \r\nQ 10.890625 67.625 15.140625 71.796875 \r\nQ 19.390625 75.984375 28.609375 75.984375 \r\nz\r\n\" id=\"DejaVuSans-102\"/>\r\n      </defs>\r\n      <use xlink:href=\"#DejaVuSans-102\"/>\r\n     </g>\r\n    </g>\r\n   </g>\r\n  </g>\r\n </g>\r\n <defs>\r\n  <clipPath id=\"pc7247489eb\">\r\n   <rect height=\"271.8\" width=\"355.090909\" x=\"38.482813\" y=\"7.2\"/>\r\n  </clipPath>\r\n  <clipPath id=\"pf4f8af4cd4\">\r\n   <rect height=\"271.8\" width=\"355.090909\" x=\"464.591903\" y=\"7.2\"/>\r\n  </clipPath>\r\n </defs>\r\n</svg>\r\n",
            "image/png": "[encoded data removed]"
          },
          "metadata": {
            "needs_background": "light"
          }
        }
      ]
    },
    {
      "cell_type": "markdown",
      "metadata": {
        "id": "vGZg2iUxR2Da"
      },
      "source": [
        "# Layer class\n",
        "\n",
        "Here we define the layers for the PINNs usign tf.keras and subclassing.\n",
        "\n",
        "Although semantically I think it would be clearer to use 2 layers objects (1 for the $\\hat x = f(t) $ and 1 for the ODE/inverse problem), I had to use one layer for both PINN blocks. I could not make it work with 2 different layers, probably because of the inner functioning of the tf.GradientTape function (to be investigated ...)."
      ]
    },
    {
      "cell_type": "code",
      "metadata": {
        "id": "gTOT-olWP33a"
      },
      "source": [
        "\n",
        "# Implements the first block: mapping time (the independent variable) to x (the state)\n",
        "class tToXandF(tf.keras.layers.Layer):\n",
        "    def __init__(self, layerWidth, actFcn, timevec, name=\"tToX\", **kwargs):\n",
        "        super(tToXandF, self).__init__(name=name, **kwargs)\n",
        "\n",
        "        self.layerWidth = layerWidth\n",
        "        self.actFcn = actFcn\n",
        "\n",
        "        # rescale data\n",
        "        self.minX = np.min(timevec)\n",
        "        self.maxX = np.max(timevec)\n",
        "\n",
        "        # instantiates hidden layers recursively\n",
        "        self.denseList = []\n",
        "        for nNeurons in self.layerWidth:\n",
        "            self.denseList.append(\n",
        "                tf.keras.layers.Dense(nNeurons, activation=self.actFcn)\n",
        "            )  # hidden layers\n",
        "\n",
        "        self.denseList.append(tf.keras.layers.Dense(1))  # output layer\n",
        "\n",
        "        self.b = tf.Variable(0.05, name=\"b\", trainable=True, dtype=tf.float32)\n",
        "        self.k = tf.Variable(2.0, name=\"k\", trainable=True, dtype=tf.float32)\n",
        "\n",
        "    def call(self, t):\n",
        "\n",
        "        with tf.GradientTape(\n",
        "            persistent=True  # persistent for 2nd order derivative\n",
        "        ) as tape:\n",
        "\n",
        "            tape.watch(t)\n",
        "            # part 1: calculate  t->x\n",
        "            x = 1-2*(self.maxX - t) / (self.maxX - self.minX) # rescale [-1,1]\n",
        "            for nLayers in range(self.denseList.__len__()):\n",
        "                x = self.denseList[nLayers](x)\n",
        "\n",
        "            # part 2a: calculate the gradients of x wrt t\n",
        "            xp = tape.gradient(x, t)\n",
        "            xpp = tape.gradient(xp, t)\n",
        "\n",
        "            # part 2b: calculate the EOM\n",
        "            f = 2.0 * xpp + self.b * xp + self.k * x\n",
        "\n",
        "        return x, f"
      ],
      "execution_count": 3,
      "outputs": []
    },
    {
      "source": [
        "# Model Class"
      ],
      "cell_type": "markdown",
      "metadata": {}
    },
    {
      "cell_type": "code",
      "metadata": {
        "id": "tIOeEEOtSme0"
      },
      "source": [
        "class PINN(tf.keras.Model):\n",
        "    def __init__(self,timevec, layerWidth=10 * [32], actFcn=tf.sin, name=\"PINN\", **kwargs):\n",
        "        super(PINN, self).__init__(name=name, **kwargs)\n",
        "\n",
        "        self.tToXandF = tToXandF(layerWidth=layerWidth, actFcn=actFcn, timevec= timevec)\n",
        "\n",
        "    def call(self, t):\n",
        "        return self.tToXandF(t)\n"
      ],
      "execution_count": 4,
      "outputs": []
    },
    {
      "cell_type": "markdown",
      "metadata": {
        "id": "HxQAewRtTVmO"
      },
      "source": [
        "# Instantiate PINN model and define hyperparameters"
      ]
    },
    {
      "cell_type": "code",
      "execution_count": 5,
      "metadata": {},
      "outputs": [],
      "source": [
        "mdl = PINN(timevec = t)  # default parameters are the same as DeepVIV paper\n",
        "# mdl = PINN(layerWidth=4 * [16], actFcn=\"sigmoid\")\n",
        "\n",
        "# learning rate and number of epochs\n",
        "lrvec = np.array([1e-3, 1e-4, 1e-5, 1e-6])\n",
        "epvec = np.array([2e3, 3e3, 3e3, 2e3], dtype=\"int32\")"
      ]
    },
    {
      "source": [
        "# Callbacks for watching variables"
      ],
      "cell_type": "markdown",
      "metadata": {}
    },
    {
      "cell_type": "code",
      "execution_count": 6,
      "metadata": {},
      "outputs": [
        {
          "output_type": "execute_result",
          "data": {
            "text/plain": [
              "<tf.Variable 'b:0' shape=() dtype=float32, numpy=0.05>"
            ]
          },
          "metadata": {},
          "execution_count": 6
        }
      ],
      "source": [
        "# callback - variables to watch\n",
        "mdl.tToXandF.b\n",
        "\n",
        "# class VariableValue(Callback):\n",
        "#     \"\"\"Get the variable values.\n",
        "#     Args:\n",
        "#         var_list: A `TensorFlow Variable <https://www.tensorflow.org/api_docs/python/tf/Variable>`_\n",
        "#             or a list of TensorFlow Variable.\n",
        "#         period (int): Interval (number of epochs) between checking values.\n",
        "#         filename (string): Output the values to the file `filename`.\n",
        "#             The file is kept open to allow instances to be re-used.\n",
        "#             If ``None``, output to the screen.\n",
        "#         precision (int): The precision of variables to display.\n",
        "#     \"\"\"\n",
        "\n",
        "#     def __init__(self, var_list, period=1, filename=None, precision=2):\n",
        "#         super(VariableValue, self).__init__()\n",
        "#         self.var_list = var_list\n",
        "#         self.period = period\n",
        "#         self.precision = precision\n",
        "\n",
        "#         self.file = sys.stdout if filename is None else open(filename, \"w\", buffering=1)\n",
        "#         self.value = None\n",
        "#         self.epochs_since_last = 0\n",
        "\n",
        "#     def on_train_begin(self):\n",
        "#         self.value = self.model.sess.run(self.var_list)\n",
        "#         print(self.model.train_state.epoch, self.value, file=self.file)\n",
        "\n",
        "#     def on_epoch_end(self):\n",
        "#         self.epochs_since_last += 1\n",
        "#         if self.epochs_since_last >= self.period:\n",
        "#             self.epochs_since_last = 0\n",
        "#             self.value = self.model.sess.run(self.var_list)\n",
        "#             print(\n",
        "#                 self.model.train_state.epoch,\n",
        "#                 list_to_str(self.value, precision=self.precision),\n",
        "#                 file=self.file,\n",
        "#             )\n",
        "#             self.file.flush()\n",
        "\n",
        "#     def get_value(self):\n",
        "#         \"\"\"Return the variable values.\"\"\"\n",
        "#         return self.value\n"
      ]
    },
    {
      "source": [
        "# Train model"
      ],
      "cell_type": "markdown",
      "metadata": {}
    },
    {
      "cell_type": "code",
      "metadata": {
        "id": "mO8G5W0DSrbb",
        "outputId": "8901ebe8-b544-4305-b56e-f34a6cb95ad2",
        "colab": {
          "base_uri": "https://localhost:8080/",
          "height": 318,
          "referenced_widgets": [
            "3921934ad1ad476fbc3bafe5b4f780b6",
            "169da55f4fd7479395e480706fea1dba",
            "6e5161332976477084b5ea1e217550f9",
            "5ccaa9aa3d3043d28342604c3bbb5e8e",
            "5c9ad63e229c47adb09fac2e3246fe6a",
            "648261b6c50b42aa8e31afdc5f88f735",
            "1179fef29f124fe8bb881fe24806a45c",
            "190d8a94c5bd49d5930c9623e3c18ff3",
            "d4c5f68960e54bf699e94e9f1a0c656b",
            "295a1e04ebde415cb6b56204d2acf653",
            "a4ee2d91287b41d18be0612f11a7705a",
            "b9e020a6970046c8bdedd3dcb90454c4",
            "26de2b22f208492aadebe27546060cd6",
            "b83681f8ffd9416aa6fa0a3befde55db",
            "ddd20e1b74d94aada03430178a8d1cb4",
            "a69f76df7bdc44a995a33ae6d1328395",
            "d7897324828041c18730ca6150e86d95",
            "b1e057d53465466580b845598afea170",
            "d97ec05469be42eaae75cfdb606c9afe",
            "05ac850cc7884a42bd909b3108f5c193",
            "3102f92a95c94fdd8a74ba087c726b6b",
            "e96050318e1e465aaeb7a87f2c8905bc",
            "ddbf5df9774b49688438dd0122fc5bd8",
            "83fd393928394c6ebd23f997f84afacf",
            "902850135ba9427395a99b98f3a78124",
            "b9dffa975309451abbe6100bc87be583",
            "07acdd8a06084ba795b2ba7eaad296c6",
            "3ebef9eee09f4fc58dba6cdf5299ac57",
            "0a9d4589e9bf48c5921a98f26cf54f2a",
            "74e1f57d82124609b12e6004094e2204",
            "56176577e185456eb1c7ca61b5e7950c",
            "f44e15e0c8e44d4492d68cf5ffd5d423"
          ]
        },
        "tags": []
      },
      "source": [
        "nTrain = lrvec.shape[0]\n",
        "for i in range(nTrain):\n",
        "    print(\"Learning rate:\", lrvec[i])\n",
        "    mdl.compile(\n",
        "        tf.keras.optimizers.Adam(learning_rate=lrvec[i]), loss=\"mse\", metrics=\"mse\"\n",
        "    )\n",
        "    mdl.fit(\n",
        "        x=t,\n",
        "        y=[x, f],\n",
        "        epochs=epvec[i],\n",
        "        batch_size=N_train,\n",
        "        verbose=0,\n",
        "        callbacks=[tqdm_callback],\n",
        "    )"
      ],
      "execution_count": 5,
      "outputs": [
        {
          "output_type": "stream",
          "name": "stderr",
          "text": [
            "Training:   0%|           0/2000 ETA: ?s,  ?epochs/sLearning rate: 0.001\n",
            "WARNING:tensorflow:Calling GradientTape.gradient on a persistent tape inside its context is significantly less efficient than calling it outside the context (it causes the gradient ops to be recorded on the tape, leading to increased CPU and memory usage). Only call GradientTape.gradient inside the context if you actually want to trace the gradient in order to compute higher order derivatives.\n",
            "Training: 100%|██████████ 2000/2000 ETA: 00:00s,  77.43epochs/s\n",
            "Training:   0%|           0/3000 ETA: ?s,  ?epochs/sLearning rate: 0.0001\n",
            "Training: 100%|██████████ 3000/3000 ETA: 00:00s,  185.22epochs/s\n",
            "Training:   0%|           0/3000 ETA: ?s,  ?epochs/sLearning rate: 1e-05\n",
            "Training: 100%|██████████ 3000/3000 ETA: 00:00s,  171.51epochs/s\n",
            "Training:   0%|           0/2000 ETA: ?s,  ?epochs/sLearning rate: 1e-06\n",
            "Training: 100%|██████████ 2000/2000 ETA: 00:00s,  116.62epochs/s\n"
          ]
        }
      ]
    },
    {
      "cell_type": "markdown",
      "metadata": {
        "id": "UVd133_TTYkA"
      },
      "source": [
        "# Outputs and checks"
      ]
    },
    {
      "cell_type": "code",
      "metadata": {
        "id": "h8FuQIYjZByb",
        "outputId": "50ece255-9fa8-40e3-b01c-d2dc62bc1301",
        "colab": {
          "base_uri": "https://localhost:8080/",
          "height": 371
        },
        "tags": []
      },
      "source": [
        "\n",
        "xh, fh = mdl.predict(t)\n",
        "\n",
        "plt.figure(figsize=[14, 5])\n",
        "plt.subplot(121)\n",
        "plt.plot(t, x, \"b-\", t, xh, \"ro\")\n",
        "plt.legend([\"y\", \"xh\"])\n",
        "\n",
        "plt.subplot(122)\n",
        "plt.plot(t, f, \"b-\", t, fh, \"ro\")\n",
        "plt.legend([\"f\", \"fh\"])\n",
        "plt.show()\n",
        "\n",
        "print(\n",
        "    \"Values identified for the ODE (rho = 2.0, b = 0.084, k = 2.2020 are the real values)\"\n",
        ")\n",
        "print(mdl.weights[0])\n",
        "print(mdl.weights[1])\n"
      ],
      "execution_count": 6,
      "outputs": [
        {
          "output_type": "display_data",
          "data": {
            "text/plain": "<Figure size 1008x360 with 2 Axes>",
            "image/svg+xml": "<?xml version=\"1.0\" encoding=\"utf-8\" standalone=\"no\"?>\r\n<!DOCTYPE svg PUBLIC \"-//W3C//DTD SVG 1.1//EN\"\r\n  \"http://www.w3.org/Graphics/SVG/1.1/DTD/svg11.dtd\">\r\n<!-- Created with matplotlib (https://matplotlib.org/) -->\r\n<svg height=\"302.878125pt\" version=\"1.1\" viewBox=\"0 0 826.882812 302.878125\" width=\"826.882812pt\" xmlns=\"http://www.w3.org/2000/svg\" xmlns:xlink=\"http://www.w3.org/1999/xlink\">\r\n <metadata>\r\n  <rdf:RDF xmlns:cc=\"http://creativecommons.org/ns#\" xmlns:dc=\"http://purl.org/dc/elements/1.1/\" xmlns:rdf=\"http://www.w3.org/1999/02/22-rdf-syntax-ns#\">\r\n   <cc:Work>\r\n    <dc:type rdf:resource=\"http://purl.org/dc/dcmitype/StillImage\"/>\r\n    <dc:date>2020-10-21T22:59:49.803953</dc:date>\r\n    <dc:format>image/svg+xml</dc:format>\r\n    <dc:creator>\r\n     <cc:Agent>\r\n      <dc:title>Matplotlib v3.3.2, https://matplotlib.org/</dc:title>\r\n     </cc:Agent>\r\n    </dc:creator>\r\n   </cc:Work>\r\n  </rdf:RDF>\r\n </metadata>\r\n <defs>\r\n  <style type=\"text/css\">*{stroke-linecap:butt;stroke-linejoin:round;}</style>\r\n </defs>\r\n <g id=\"figure_1\">\r\n  <g id=\"patch_1\">\r\n   <path d=\"M 0 302.878125 \r\nL 826.882812 302.878125 \r\nL 826.882812 0 \r\nL 0 0 \r\nz\r\n\" style=\"fill:none;\"/>\r\n  </g>\r\n  <g id=\"axes_1\">\r\n   <g id=\"patch_2\">\r\n    <path d=\"M 38.482813 279 \r\nL 393.573722 279 \r\nL 393.573722 7.2 \r\nL 38.482813 7.2 \r\nz\r\n\" style=\"fill:#ffffff;\"/>\r\n   </g>\r\n   <g id=\"matplotlib.axis_1\">\r\n    <g id=\"xtick_1\">\r\n     <g id=\"line2d_1\">\r\n      <defs>\r\n       <path d=\"M 0 0 \r\nL 0 3.5 \r\n\" id=\"mfe73f587a8\" style=\"stroke:#000000;stroke-width:0.8;\"/>\r\n      </defs>\r\n      <g>\r\n       <use style=\"stroke:#000000;stroke-width:0.8;\" x=\"51.688673\" xlink:href=\"#mfe73f587a8\" y=\"279\"/>\r\n      </g>\r\n     </g>\r\n     <g id=\"text_1\">\r\n      <!-- 0 -->\r\n      <g transform=\"translate(48.507423 293.598437)scale(0.1 -0.1)\">\r\n       <defs>\r\n        <path d=\"M 31.78125 66.40625 \r\nQ 24.171875 66.40625 20.328125 58.90625 \r\nQ 16.5 51.421875 16.5 36.375 \r\nQ 16.5 21.390625 20.328125 13.890625 \r\nQ 24.171875 6.390625 31.78125 6.390625 \r\nQ 39.453125 6.390625 43.28125 13.890625 \r\nQ 47.125 21.390625 47.125 36.375 \r\nQ 47.125 51.421875 43.28125 58.90625 \r\nQ 39.453125 66.40625 31.78125 66.40625 \r\nz\r\nM 31.78125 74.21875 \r\nQ 44.046875 74.21875 50.515625 64.515625 \r\nQ 56.984375 54.828125 56.984375 36.375 \r\nQ 56.984375 17.96875 50.515625 8.265625 \r\nQ 44.046875 -1.421875 31.78125 -1.421875 \r\nQ 19.53125 -1.421875 13.0625 8.265625 \r\nQ 6.59375 17.96875 6.59375 36.375 \r\nQ 6.59375 54.828125 13.0625 64.515625 \r\nQ 19.53125 74.21875 31.78125 74.21875 \r\nz\r\n\" id=\"DejaVuSans-48\"/>\r\n       </defs>\r\n       <use xlink:href=\"#DejaVuSans-48\"/>\r\n      </g>\r\n     </g>\r\n    </g>\r\n    <g id=\"xtick_2\">\r\n     <g id=\"line2d_2\">\r\n      <g>\r\n       <use style=\"stroke:#000000;stroke-width:0.8;\" x=\"98.642843\" xlink:href=\"#mfe73f587a8\" y=\"279\"/>\r\n      </g>\r\n     </g>\r\n     <g id=\"text_2\">\r\n      <!-- 2 -->\r\n      <g transform=\"translate(95.461593 293.598437)scale(0.1 -0.1)\">\r\n       <defs>\r\n        <path d=\"M 19.1875 8.296875 \r\nL 53.609375 8.296875 \r\nL 53.609375 0 \r\nL 7.328125 0 \r\nL 7.328125 8.296875 \r\nQ 12.9375 14.109375 22.625 23.890625 \r\nQ 32.328125 33.6875 34.8125 36.53125 \r\nQ 39.546875 41.84375 41.421875 45.53125 \r\nQ 43.3125 49.21875 43.3125 52.78125 \r\nQ 43.3125 58.59375 39.234375 62.25 \r\nQ 35.15625 65.921875 28.609375 65.921875 \r\nQ 23.96875 65.921875 18.8125 64.3125 \r\nQ 13.671875 62.703125 7.8125 59.421875 \r\nL 7.8125 69.390625 \r\nQ 13.765625 71.78125 18.9375 73 \r\nQ 24.125 74.21875 28.421875 74.21875 \r\nQ 39.75 74.21875 46.484375 68.546875 \r\nQ 53.21875 62.890625 53.21875 53.421875 \r\nQ 53.21875 48.921875 51.53125 44.890625 \r\nQ 49.859375 40.875 45.40625 35.40625 \r\nQ 44.1875 33.984375 37.640625 27.21875 \r\nQ 31.109375 20.453125 19.1875 8.296875 \r\nz\r\n\" id=\"DejaVuSans-50\"/>\r\n       </defs>\r\n       <use xlink:href=\"#DejaVuSans-50\"/>\r\n      </g>\r\n     </g>\r\n    </g>\r\n    <g id=\"xtick_3\">\r\n     <g id=\"line2d_3\">\r\n      <g>\r\n       <use style=\"stroke:#000000;stroke-width:0.8;\" x=\"145.597012\" xlink:href=\"#mfe73f587a8\" y=\"279\"/>\r\n      </g>\r\n     </g>\r\n     <g id=\"text_3\">\r\n      <!-- 4 -->\r\n      <g transform=\"translate(142.415762 293.598437)scale(0.1 -0.1)\">\r\n       <defs>\r\n        <path d=\"M 37.796875 64.3125 \r\nL 12.890625 25.390625 \r\nL 37.796875 25.390625 \r\nz\r\nM 35.203125 72.90625 \r\nL 47.609375 72.90625 \r\nL 47.609375 25.390625 \r\nL 58.015625 25.390625 \r\nL 58.015625 17.1875 \r\nL 47.609375 17.1875 \r\nL 47.609375 0 \r\nL 37.796875 0 \r\nL 37.796875 17.1875 \r\nL 4.890625 17.1875 \r\nL 4.890625 26.703125 \r\nz\r\n\" id=\"DejaVuSans-52\"/>\r\n       </defs>\r\n       <use xlink:href=\"#DejaVuSans-52\"/>\r\n      </g>\r\n     </g>\r\n    </g>\r\n    <g id=\"xtick_4\">\r\n     <g id=\"line2d_4\">\r\n      <g>\r\n       <use style=\"stroke:#000000;stroke-width:0.8;\" x=\"192.551182\" xlink:href=\"#mfe73f587a8\" y=\"279\"/>\r\n      </g>\r\n     </g>\r\n     <g id=\"text_4\">\r\n      <!-- 6 -->\r\n      <g transform=\"translate(189.369932 293.598437)scale(0.1 -0.1)\">\r\n       <defs>\r\n        <path d=\"M 33.015625 40.375 \r\nQ 26.375 40.375 22.484375 35.828125 \r\nQ 18.609375 31.296875 18.609375 23.390625 \r\nQ 18.609375 15.53125 22.484375 10.953125 \r\nQ 26.375 6.390625 33.015625 6.390625 \r\nQ 39.65625 6.390625 43.53125 10.953125 \r\nQ 47.40625 15.53125 47.40625 23.390625 \r\nQ 47.40625 31.296875 43.53125 35.828125 \r\nQ 39.65625 40.375 33.015625 40.375 \r\nz\r\nM 52.59375 71.296875 \r\nL 52.59375 62.3125 \r\nQ 48.875 64.0625 45.09375 64.984375 \r\nQ 41.3125 65.921875 37.59375 65.921875 \r\nQ 27.828125 65.921875 22.671875 59.328125 \r\nQ 17.53125 52.734375 16.796875 39.40625 \r\nQ 19.671875 43.65625 24.015625 45.921875 \r\nQ 28.375 48.1875 33.59375 48.1875 \r\nQ 44.578125 48.1875 50.953125 41.515625 \r\nQ 57.328125 34.859375 57.328125 23.390625 \r\nQ 57.328125 12.15625 50.6875 5.359375 \r\nQ 44.046875 -1.421875 33.015625 -1.421875 \r\nQ 20.359375 -1.421875 13.671875 8.265625 \r\nQ 6.984375 17.96875 6.984375 36.375 \r\nQ 6.984375 53.65625 15.1875 63.9375 \r\nQ 23.390625 74.21875 37.203125 74.21875 \r\nQ 40.921875 74.21875 44.703125 73.484375 \r\nQ 48.484375 72.75 52.59375 71.296875 \r\nz\r\n\" id=\"DejaVuSans-54\"/>\r\n       </defs>\r\n       <use xlink:href=\"#DejaVuSans-54\"/>\r\n      </g>\r\n     </g>\r\n    </g>\r\n    <g id=\"xtick_5\">\r\n     <g id=\"line2d_5\">\r\n      <g>\r\n       <use style=\"stroke:#000000;stroke-width:0.8;\" x=\"239.505352\" xlink:href=\"#mfe73f587a8\" y=\"279\"/>\r\n      </g>\r\n     </g>\r\n     <g id=\"text_5\">\r\n      <!-- 8 -->\r\n      <g transform=\"translate(236.324102 293.598437)scale(0.1 -0.1)\">\r\n       <defs>\r\n        <path d=\"M 31.78125 34.625 \r\nQ 24.75 34.625 20.71875 30.859375 \r\nQ 16.703125 27.09375 16.703125 20.515625 \r\nQ 16.703125 13.921875 20.71875 10.15625 \r\nQ 24.75 6.390625 31.78125 6.390625 \r\nQ 38.8125 6.390625 42.859375 10.171875 \r\nQ 46.921875 13.96875 46.921875 20.515625 \r\nQ 46.921875 27.09375 42.890625 30.859375 \r\nQ 38.875 34.625 31.78125 34.625 \r\nz\r\nM 21.921875 38.8125 \r\nQ 15.578125 40.375 12.03125 44.71875 \r\nQ 8.5 49.078125 8.5 55.328125 \r\nQ 8.5 64.0625 14.71875 69.140625 \r\nQ 20.953125 74.21875 31.78125 74.21875 \r\nQ 42.671875 74.21875 48.875 69.140625 \r\nQ 55.078125 64.0625 55.078125 55.328125 \r\nQ 55.078125 49.078125 51.53125 44.71875 \r\nQ 48 40.375 41.703125 38.8125 \r\nQ 48.828125 37.15625 52.796875 32.3125 \r\nQ 56.78125 27.484375 56.78125 20.515625 \r\nQ 56.78125 9.90625 50.3125 4.234375 \r\nQ 43.84375 -1.421875 31.78125 -1.421875 \r\nQ 19.734375 -1.421875 13.25 4.234375 \r\nQ 6.78125 9.90625 6.78125 20.515625 \r\nQ 6.78125 27.484375 10.78125 32.3125 \r\nQ 14.796875 37.15625 21.921875 38.8125 \r\nz\r\nM 18.3125 54.390625 \r\nQ 18.3125 48.734375 21.84375 45.5625 \r\nQ 25.390625 42.390625 31.78125 42.390625 \r\nQ 38.140625 42.390625 41.71875 45.5625 \r\nQ 45.3125 48.734375 45.3125 54.390625 \r\nQ 45.3125 60.0625 41.71875 63.234375 \r\nQ 38.140625 66.40625 31.78125 66.40625 \r\nQ 25.390625 66.40625 21.84375 63.234375 \r\nQ 18.3125 60.0625 18.3125 54.390625 \r\nz\r\n\" id=\"DejaVuSans-56\"/>\r\n       </defs>\r\n       <use xlink:href=\"#DejaVuSans-56\"/>\r\n      </g>\r\n     </g>\r\n    </g>\r\n    <g id=\"xtick_6\">\r\n     <g id=\"line2d_6\">\r\n      <g>\r\n       <use style=\"stroke:#000000;stroke-width:0.8;\" x=\"286.459522\" xlink:href=\"#mfe73f587a8\" y=\"279\"/>\r\n      </g>\r\n     </g>\r\n     <g id=\"text_6\">\r\n      <!-- 10 -->\r\n      <g transform=\"translate(280.097022 293.598437)scale(0.1 -0.1)\">\r\n       <defs>\r\n        <path d=\"M 12.40625 8.296875 \r\nL 28.515625 8.296875 \r\nL 28.515625 63.921875 \r\nL 10.984375 60.40625 \r\nL 10.984375 69.390625 \r\nL 28.421875 72.90625 \r\nL 38.28125 72.90625 \r\nL 38.28125 8.296875 \r\nL 54.390625 8.296875 \r\nL 54.390625 0 \r\nL 12.40625 0 \r\nz\r\n\" id=\"DejaVuSans-49\"/>\r\n       </defs>\r\n       <use xlink:href=\"#DejaVuSans-49\"/>\r\n       <use x=\"63.623047\" xlink:href=\"#DejaVuSans-48\"/>\r\n      </g>\r\n     </g>\r\n    </g>\r\n    <g id=\"xtick_7\">\r\n     <g id=\"line2d_7\">\r\n      <g>\r\n       <use style=\"stroke:#000000;stroke-width:0.8;\" x=\"333.413692\" xlink:href=\"#mfe73f587a8\" y=\"279\"/>\r\n      </g>\r\n     </g>\r\n     <g id=\"text_7\">\r\n      <!-- 12 -->\r\n      <g transform=\"translate(327.051192 293.598437)scale(0.1 -0.1)\">\r\n       <use xlink:href=\"#DejaVuSans-49\"/>\r\n       <use x=\"63.623047\" xlink:href=\"#DejaVuSans-50\"/>\r\n      </g>\r\n     </g>\r\n    </g>\r\n    <g id=\"xtick_8\">\r\n     <g id=\"line2d_8\">\r\n      <g>\r\n       <use style=\"stroke:#000000;stroke-width:0.8;\" x=\"380.367861\" xlink:href=\"#mfe73f587a8\" y=\"279\"/>\r\n      </g>\r\n     </g>\r\n     <g id=\"text_8\">\r\n      <!-- 14 -->\r\n      <g transform=\"translate(374.005361 293.598437)scale(0.1 -0.1)\">\r\n       <use xlink:href=\"#DejaVuSans-49\"/>\r\n       <use x=\"63.623047\" xlink:href=\"#DejaVuSans-52\"/>\r\n      </g>\r\n     </g>\r\n    </g>\r\n   </g>\r\n   <g id=\"matplotlib.axis_2\">\r\n    <g id=\"ytick_1\">\r\n     <g id=\"line2d_9\">\r\n      <defs>\r\n       <path d=\"M 0 0 \r\nL -3.5 0 \r\n\" id=\"md96a6c06a3\" style=\"stroke:#000000;stroke-width:0.8;\"/>\r\n      </defs>\r\n      <g>\r\n       <use style=\"stroke:#000000;stroke-width:0.8;\" x=\"38.482813\" xlink:href=\"#md96a6c06a3\" y=\"257.913943\"/>\r\n      </g>\r\n     </g>\r\n     <g id=\"text_9\">\r\n      <!-- −0.4 -->\r\n      <g transform=\"translate(7.2 261.713162)scale(0.1 -0.1)\">\r\n       <defs>\r\n        <path d=\"M 10.59375 35.5 \r\nL 73.1875 35.5 \r\nL 73.1875 27.203125 \r\nL 10.59375 27.203125 \r\nz\r\n\" id=\"DejaVuSans-8722\"/>\r\n        <path d=\"M 10.6875 12.40625 \r\nL 21 12.40625 \r\nL 21 0 \r\nL 10.6875 0 \r\nz\r\n\" id=\"DejaVuSans-46\"/>\r\n       </defs>\r\n       <use xlink:href=\"#DejaVuSans-8722\"/>\r\n       <use x=\"83.789062\" xlink:href=\"#DejaVuSans-48\"/>\r\n       <use x=\"147.412109\" xlink:href=\"#DejaVuSans-46\"/>\r\n       <use x=\"179.199219\" xlink:href=\"#DejaVuSans-52\"/>\r\n      </g>\r\n     </g>\r\n    </g>\r\n    <g id=\"ytick_2\">\r\n     <g id=\"line2d_10\">\r\n      <g>\r\n       <use style=\"stroke:#000000;stroke-width:0.8;\" x=\"38.482813\" xlink:href=\"#md96a6c06a3\" y=\"200.547651\"/>\r\n      </g>\r\n     </g>\r\n     <g id=\"text_10\">\r\n      <!-- −0.2 -->\r\n      <g transform=\"translate(7.2 204.346869)scale(0.1 -0.1)\">\r\n       <use xlink:href=\"#DejaVuSans-8722\"/>\r\n       <use x=\"83.789062\" xlink:href=\"#DejaVuSans-48\"/>\r\n       <use x=\"147.412109\" xlink:href=\"#DejaVuSans-46\"/>\r\n       <use x=\"179.199219\" xlink:href=\"#DejaVuSans-50\"/>\r\n      </g>\r\n     </g>\r\n    </g>\r\n    <g id=\"ytick_3\">\r\n     <g id=\"line2d_11\">\r\n      <g>\r\n       <use style=\"stroke:#000000;stroke-width:0.8;\" x=\"38.482813\" xlink:href=\"#md96a6c06a3\" y=\"143.181358\"/>\r\n      </g>\r\n     </g>\r\n     <g id=\"text_11\">\r\n      <!-- 0.0 -->\r\n      <g transform=\"translate(15.579688 146.980577)scale(0.1 -0.1)\">\r\n       <use xlink:href=\"#DejaVuSans-48\"/>\r\n       <use x=\"63.623047\" xlink:href=\"#DejaVuSans-46\"/>\r\n       <use x=\"95.410156\" xlink:href=\"#DejaVuSans-48\"/>\r\n      </g>\r\n     </g>\r\n    </g>\r\n    <g id=\"ytick_4\">\r\n     <g id=\"line2d_12\">\r\n      <g>\r\n       <use style=\"stroke:#000000;stroke-width:0.8;\" x=\"38.482813\" xlink:href=\"#md96a6c06a3\" y=\"85.815065\"/>\r\n      </g>\r\n     </g>\r\n     <g id=\"text_12\">\r\n      <!-- 0.2 -->\r\n      <g transform=\"translate(15.579688 89.614284)scale(0.1 -0.1)\">\r\n       <use xlink:href=\"#DejaVuSans-48\"/>\r\n       <use x=\"63.623047\" xlink:href=\"#DejaVuSans-46\"/>\r\n       <use x=\"95.410156\" xlink:href=\"#DejaVuSans-50\"/>\r\n      </g>\r\n     </g>\r\n    </g>\r\n    <g id=\"ytick_5\">\r\n     <g id=\"line2d_13\">\r\n      <g>\r\n       <use style=\"stroke:#000000;stroke-width:0.8;\" x=\"38.482813\" xlink:href=\"#md96a6c06a3\" y=\"28.448773\"/>\r\n      </g>\r\n     </g>\r\n     <g id=\"text_13\">\r\n      <!-- 0.4 -->\r\n      <g transform=\"translate(15.579688 32.247991)scale(0.1 -0.1)\">\r\n       <use xlink:href=\"#DejaVuSans-48\"/>\r\n       <use x=\"63.623047\" xlink:href=\"#DejaVuSans-46\"/>\r\n       <use x=\"95.410156\" xlink:href=\"#DejaVuSans-52\"/>\r\n      </g>\r\n     </g>\r\n    </g>\r\n   </g>\r\n   <g id=\"line2d_14\">\r\n    <path clip-path=\"url(#p7648f4cfe0)\" d=\"M 54.623308 107.142706 \r\nL 57.557944 92.323845 \r\nL 60.49258 78.353432 \r\nL 63.427215 65.455481 \r\nL 66.361851 53.835365 \r\nL 69.296486 43.677802 \r\nL 72.231122 35.144279 \r\nL 75.165758 28.372189 \r\nL 78.100393 23.472247 \r\nL 81.035029 20.527922 \r\nL 83.969664 19.592564 \r\nL 86.9043 20.689121 \r\nL 89.838936 23.807266 \r\nL 92.773571 28.9034 \r\nL 95.708207 35.900367 \r\nL 98.642843 44.686589 \r\nL 101.577478 55.118936 \r\nL 104.512114 67.023015 \r\nL 107.446749 80.198045 \r\nL 110.381385 94.420009 \r\nL 113.316021 109.446823 \r\nL 116.250656 125.023205 \r\nL 119.185292 140.884985 \r\nL 122.119927 156.766843 \r\nL 125.054563 172.404608 \r\nL 127.989199 187.541852 \r\nL 130.923834 201.932473 \r\nL 133.85847 215.344712 \r\nL 136.793106 227.56488 \r\nL 139.727741 238.398504 \r\nL 142.662377 247.673773 \r\nL 145.597012 255.242395 \r\nL 148.531648 260.982179 \r\nL 151.466284 264.797612 \r\nL 154.400919 266.621573 \r\nL 157.335555 266.418496 \r\nL 160.27019 264.183505 \r\nL 163.204826 259.945857 \r\nL 166.139462 253.768655 \r\nL 169.074097 245.748274 \r\nL 172.008733 236.015222 \r\nL 174.943368 224.730124 \r\nL 177.878004 212.083152 \r\nL 180.81264 198.288853 \r\nL 183.747275 183.581856 \r\nL 186.681911 168.213427 \r\nL 189.616547 152.44372 \r\nL 192.551182 136.538628 \r\nL 195.485818 120.763471 \r\nL 198.420453 105.378118 \r\nL 201.355089 90.634407 \r\nL 204.289725 76.770122 \r\nL 207.22436 64.007556 \r\nL 210.158996 52.549213 \r\nL 213.093631 42.577517 \r\nL 216.028267 34.250799 \r\nL 218.962903 27.702724 \r\nL 221.897538 23.040852 \r\nL 224.832174 20.344636 \r\nL 227.766809 19.663412 \r\nL 230.701445 21.015822 \r\nL 233.636081 24.386952 \r\nL 236.570716 29.728615 \r\nL 239.505352 36.959349 \r\nL 242.439988 45.962702 \r\nL 245.374623 56.590955 \r\nL 248.309259 68.666559 \r\nL 251.243894 81.985292 \r\nL 254.17853 96.320268 \r\nL 257.113166 111.427107 \r\nL 260.047801 127.049096 \r\nL 262.982437 142.922062 \r\nL 265.917072 158.7804 \r\nL 268.851708 174.360798 \r\nL 271.786344 189.40769 \r\nL 274.720979 203.676982 \r\nL 277.655615 216.939495 \r\nL 280.590251 228.983548 \r\nL 283.524886 239.617825 \r\nL 286.459522 248.673668 \r\nL 289.394157 256.006227 \r\nL 292.328793 261.496755 \r\nL 295.263429 265.053178 \r\nL 298.198064 266.612968 \r\nL 301.1327 266.143998 \r\nL 304.067335 263.646557 \r\nL 307.001971 259.153629 \r\nL 309.936607 252.733193 \r\nL 312.871242 244.485928 \r\nL 315.805878 234.546358 \r\nL 318.740513 223.079123 \r\nL 321.675149 210.277834 \r\nL 324.609785 196.359338 \r\nL 327.54442 181.561129 \r\nL 330.479056 166.135333 \r\nL 333.413692 150.342966 \r\nL 336.348327 134.450208 \r\nL 339.282963 118.721518 \r\nL 342.217598 103.416191 \r\nL 345.152234 88.783771 \r\nL 348.08687 75.060319 \r\nL 351.021505 62.465263 \r\nL 353.956141 51.199097 \r\nL 356.890776 41.440517 \r\nL 359.825412 33.344699 \r\nL 362.760048 27.042438 \r\nL 365.694683 22.636993 \r\nL 368.629319 20.204376 \r\nL 371.563954 19.789617 \r\nL 374.49859 21.40706 \r\nL 377.433226 25.03806 \r\n\" style=\"fill:none;stroke:#0000ff;stroke-linecap:square;stroke-width:1.5;\"/>\r\n   </g>\r\n   <g id=\"line2d_15\">\r\n    <defs>\r\n     <path d=\"M 0 3 \r\nC 0.795609 3 1.55874 2.683901 2.12132 2.12132 \r\nC 2.683901 1.55874 3 0.795609 3 0 \r\nC 3 -0.795609 2.683901 -1.55874 2.12132 -2.12132 \r\nC 1.55874 -2.683901 0.795609 -3 0 -3 \r\nC -0.795609 -3 -1.55874 -2.683901 -2.12132 -2.12132 \r\nC -2.683901 -1.55874 -3 -0.795609 -3 0 \r\nC -3 0.795609 -2.683901 1.55874 -2.12132 2.12132 \r\nC -1.55874 2.683901 -0.795609 3 0 3 \r\nz\r\n\" id=\"m5c6aba2122\" style=\"stroke:#ff0000;\"/>\r\n    </defs>\r\n    <g clip-path=\"url(#p7648f4cfe0)\">\r\n     <use style=\"fill:#ff0000;stroke:#ff0000;\" x=\"54.623308\" xlink:href=\"#m5c6aba2122\" y=\"107.209498\"/>\r\n     <use style=\"fill:#ff0000;stroke:#ff0000;\" x=\"57.557944\" xlink:href=\"#m5c6aba2122\" y=\"92.374008\"/>\r\n     <use style=\"fill:#ff0000;stroke:#ff0000;\" x=\"60.49258\" xlink:href=\"#m5c6aba2122\" y=\"78.392171\"/>\r\n     <use style=\"fill:#ff0000;stroke:#ff0000;\" x=\"63.427215\" xlink:href=\"#m5c6aba2122\" y=\"65.481361\"/>\r\n     <use style=\"fill:#ff0000;stroke:#ff0000;\" x=\"66.361851\" xlink:href=\"#m5c6aba2122\" y=\"53.845432\"/>\r\n     <use style=\"fill:#ff0000;stroke:#ff0000;\" x=\"69.296486\" xlink:href=\"#m5c6aba2122\" y=\"43.670475\"/>\r\n     <use style=\"fill:#ff0000;stroke:#ff0000;\" x=\"72.231122\" xlink:href=\"#m5c6aba2122\" y=\"35.120555\"/>\r\n     <use style=\"fill:#ff0000;stroke:#ff0000;\" x=\"75.165758\" xlink:href=\"#m5c6aba2122\" y=\"28.335934\"/>\r\n     <use style=\"fill:#ff0000;stroke:#ff0000;\" x=\"78.100393\" xlink:href=\"#m5c6aba2122\" y=\"23.429293\"/>\r\n     <use style=\"fill:#ff0000;stroke:#ff0000;\" x=\"81.035029\" xlink:href=\"#m5c6aba2122\" y=\"20.484441\"/>\r\n     <use style=\"fill:#ff0000;stroke:#ff0000;\" x=\"83.969664\" xlink:href=\"#m5c6aba2122\" y=\"19.554545\"/>\r\n     <use style=\"fill:#ff0000;stroke:#ff0000;\" x=\"86.9043\" xlink:href=\"#m5c6aba2122\" y=\"20.661099\"/>\r\n     <use style=\"fill:#ff0000;stroke:#ff0000;\" x=\"89.838936\" xlink:href=\"#m5c6aba2122\" y=\"23.792021\"/>\r\n     <use style=\"fill:#ff0000;stroke:#ff0000;\" x=\"92.773571\" xlink:href=\"#m5c6aba2122\" y=\"28.901965\"/>\r\n     <use style=\"fill:#ff0000;stroke:#ff0000;\" x=\"95.708207\" xlink:href=\"#m5c6aba2122\" y=\"35.911268\"/>\r\n     <use style=\"fill:#ff0000;stroke:#ff0000;\" x=\"98.642843\" xlink:href=\"#m5c6aba2122\" y=\"44.707402\"/>\r\n     <use style=\"fill:#ff0000;stroke:#ff0000;\" x=\"101.577478\" xlink:href=\"#m5c6aba2122\" y=\"55.145586\"/>\r\n     <use style=\"fill:#ff0000;stroke:#ff0000;\" x=\"104.512114\" xlink:href=\"#m5c6aba2122\" y=\"67.051323\"/>\r\n     <use style=\"fill:#ff0000;stroke:#ff0000;\" x=\"107.446749\" xlink:href=\"#m5c6aba2122\" y=\"80.224013\"/>\r\n     <use style=\"fill:#ff0000;stroke:#ff0000;\" x=\"110.381385\" xlink:href=\"#m5c6aba2122\" y=\"94.440584\"/>\r\n     <use style=\"fill:#ff0000;stroke:#ff0000;\" x=\"113.316021\" xlink:href=\"#m5c6aba2122\" y=\"109.459618\"/>\r\n     <use style=\"fill:#ff0000;stroke:#ff0000;\" x=\"116.250656\" xlink:href=\"#m5c6aba2122\" y=\"125.027465\"/>\r\n     <use style=\"fill:#ff0000;stroke:#ff0000;\" x=\"119.185292\" xlink:href=\"#m5c6aba2122\" y=\"140.882234\"/>\r\n     <use style=\"fill:#ff0000;stroke:#ff0000;\" x=\"122.119927\" xlink:href=\"#m5c6aba2122\" y=\"156.759221\"/>\r\n     <use style=\"fill:#ff0000;stroke:#ff0000;\" x=\"125.054563\" xlink:href=\"#m5c6aba2122\" y=\"172.396114\"/>\r\n     <use style=\"fill:#ff0000;stroke:#ff0000;\" x=\"127.989199\" xlink:href=\"#m5c6aba2122\" y=\"187.536327\"/>\r\n     <use style=\"fill:#ff0000;stroke:#ff0000;\" x=\"130.923834\" xlink:href=\"#m5c6aba2122\" y=\"201.933578\"/>\r\n     <use style=\"fill:#ff0000;stroke:#ff0000;\" x=\"133.85847\" xlink:href=\"#m5c6aba2122\" y=\"215.355778\"/>\r\n     <use style=\"fill:#ff0000;stroke:#ff0000;\" x=\"136.793106\" xlink:href=\"#m5c6aba2122\" y=\"227.587221\"/>\r\n     <use style=\"fill:#ff0000;stroke:#ff0000;\" x=\"139.727741\" xlink:href=\"#m5c6aba2122\" y=\"238.431685\"/>\r\n     <use style=\"fill:#ff0000;stroke:#ff0000;\" x=\"142.662377\" xlink:href=\"#m5c6aba2122\" y=\"247.715087\"/>\r\n     <use style=\"fill:#ff0000;stroke:#ff0000;\" x=\"145.597012\" xlink:href=\"#m5c6aba2122\" y=\"255.287514\"/>\r\n     <use style=\"fill:#ff0000;stroke:#ff0000;\" x=\"148.531648\" xlink:href=\"#m5c6aba2122\" y=\"261.025403\"/>\r\n     <use style=\"fill:#ff0000;stroke:#ff0000;\" x=\"151.466284\" xlink:href=\"#m5c6aba2122\" y=\"264.833304\"/>\r\n     <use style=\"fill:#ff0000;stroke:#ff0000;\" x=\"154.400919\" xlink:href=\"#m5c6aba2122\" y=\"266.645455\"/>\r\n     <use style=\"fill:#ff0000;stroke:#ff0000;\" x=\"157.335555\" xlink:href=\"#m5c6aba2122\" y=\"266.427671\"/>\r\n     <use style=\"fill:#ff0000;stroke:#ff0000;\" x=\"160.27019\" xlink:href=\"#m5c6aba2122\" y=\"264.177987\"/>\r\n     <use style=\"fill:#ff0000;stroke:#ff0000;\" x=\"163.204826\" xlink:href=\"#m5c6aba2122\" y=\"259.927868\"/>\r\n     <use style=\"fill:#ff0000;stroke:#ff0000;\" x=\"166.139462\" xlink:href=\"#m5c6aba2122\" y=\"253.74224\"/>\r\n     <use style=\"fill:#ff0000;stroke:#ff0000;\" x=\"169.074097\" xlink:href=\"#m5c6aba2122\" y=\"245.718909\"/>\r\n     <use style=\"fill:#ff0000;stroke:#ff0000;\" x=\"172.008733\" xlink:href=\"#m5c6aba2122\" y=\"235.988008\"/>\r\n     <use style=\"fill:#ff0000;stroke:#ff0000;\" x=\"174.943368\" xlink:href=\"#m5c6aba2122\" y=\"224.709839\"/>\r\n     <use style=\"fill:#ff0000;stroke:#ff0000;\" x=\"177.878004\" xlink:href=\"#m5c6aba2122\" y=\"212.072599\"/>\r\n     <use style=\"fill:#ff0000;stroke:#ff0000;\" x=\"180.81264\" xlink:href=\"#m5c6aba2122\" y=\"198.288577\"/>\r\n     <use style=\"fill:#ff0000;stroke:#ff0000;\" x=\"183.747275\" xlink:href=\"#m5c6aba2122\" y=\"183.590693\"/>\r\n     <use style=\"fill:#ff0000;stroke:#ff0000;\" x=\"186.681911\" xlink:href=\"#m5c6aba2122\" y=\"168.227716\"/>\r\n     <use style=\"fill:#ff0000;stroke:#ff0000;\" x=\"189.616547\" xlink:href=\"#m5c6aba2122\" y=\"152.459356\"/>\r\n     <use style=\"fill:#ff0000;stroke:#ff0000;\" x=\"192.551182\" xlink:href=\"#m5c6aba2122\" y=\"136.550711\"/>\r\n     <use style=\"fill:#ff0000;stroke:#ff0000;\" x=\"195.485818\" xlink:href=\"#m5c6aba2122\" y=\"120.768256\"/>\r\n     <use style=\"fill:#ff0000;stroke:#ff0000;\" x=\"198.420453\" xlink:href=\"#m5c6aba2122\" y=\"105.373472\"/>\r\n     <use style=\"fill:#ff0000;stroke:#ff0000;\" x=\"201.355089\" xlink:href=\"#m5c6aba2122\" y=\"90.619348\"/>\r\n     <use style=\"fill:#ff0000;stroke:#ff0000;\" x=\"204.289725\" xlink:href=\"#m5c6aba2122\" y=\"76.74613\"/>\r\n     <use style=\"fill:#ff0000;stroke:#ff0000;\" x=\"207.22436\" xlink:href=\"#m5c6aba2122\" y=\"63.977041\"/>\r\n     <use style=\"fill:#ff0000;stroke:#ff0000;\" x=\"210.158996\" xlink:href=\"#m5c6aba2122\" y=\"52.516419\"/>\r\n     <use style=\"fill:#ff0000;stroke:#ff0000;\" x=\"213.093631\" xlink:href=\"#m5c6aba2122\" y=\"42.546261\"/>\r\n     <use style=\"fill:#ff0000;stroke:#ff0000;\" x=\"216.028267\" xlink:href=\"#m5c6aba2122\" y=\"34.225247\"/>\r\n     <use style=\"fill:#ff0000;stroke:#ff0000;\" x=\"218.962903\" xlink:href=\"#m5c6aba2122\" y=\"27.686131\"/>\r\n     <use style=\"fill:#ff0000;stroke:#ff0000;\" x=\"221.897538\" xlink:href=\"#m5c6aba2122\" y=\"23.034783\"/>\r\n     <use style=\"fill:#ff0000;stroke:#ff0000;\" x=\"224.832174\" xlink:href=\"#m5c6aba2122\" y=\"20.348857\"/>\r\n     <use style=\"fill:#ff0000;stroke:#ff0000;\" x=\"227.766809\" xlink:href=\"#m5c6aba2122\" y=\"19.676093\"/>\r\n     <use style=\"fill:#ff0000;stroke:#ff0000;\" x=\"230.701445\" xlink:href=\"#m5c6aba2122\" y=\"21.033682\"/>\r\n     <use style=\"fill:#ff0000;stroke:#ff0000;\" x=\"233.636081\" xlink:href=\"#m5c6aba2122\" y=\"24.406323\"/>\r\n     <use style=\"fill:#ff0000;stroke:#ff0000;\" x=\"236.570716\" xlink:href=\"#m5c6aba2122\" y=\"29.746343\"/>\r\n     <use style=\"fill:#ff0000;stroke:#ff0000;\" x=\"239.505352\" xlink:href=\"#m5c6aba2122\" y=\"36.97243\"/>\r\n     <use style=\"fill:#ff0000;stroke:#ff0000;\" x=\"242.439988\" xlink:href=\"#m5c6aba2122\" y=\"45.970132\"/>\r\n     <use style=\"fill:#ff0000;stroke:#ff0000;\" x=\"245.374623\" xlink:href=\"#m5c6aba2122\" y=\"56.593274\"/>\r\n     <use style=\"fill:#ff0000;stroke:#ff0000;\" x=\"248.309259\" xlink:href=\"#m5c6aba2122\" y=\"68.665454\"/>\r\n     <use style=\"fill:#ff0000;stroke:#ff0000;\" x=\"251.243894\" xlink:href=\"#m5c6aba2122\" y=\"81.982895\"/>\r\n     <use style=\"fill:#ff0000;stroke:#ff0000;\" x=\"254.17853\" xlink:href=\"#m5c6aba2122\" y=\"96.319317\"/>\r\n     <use style=\"fill:#ff0000;stroke:#ff0000;\" x=\"257.113166\" xlink:href=\"#m5c6aba2122\" y=\"111.429843\"/>\r\n     <use style=\"fill:#ff0000;stroke:#ff0000;\" x=\"260.047801\" xlink:href=\"#m5c6aba2122\" y=\"127.05651\"/>\r\n     <use style=\"fill:#ff0000;stroke:#ff0000;\" x=\"262.982437\" xlink:href=\"#m5c6aba2122\" y=\"142.93371\"/>\r\n     <use style=\"fill:#ff0000;stroke:#ff0000;\" x=\"265.917072\" xlink:href=\"#m5c6aba2122\" y=\"158.7946\"/>\r\n     <use style=\"fill:#ff0000;stroke:#ff0000;\" x=\"268.851708\" xlink:href=\"#m5c6aba2122\" y=\"174.37522\"/>\r\n     <use style=\"fill:#ff0000;stroke:#ff0000;\" x=\"271.786344\" xlink:href=\"#m5c6aba2122\" y=\"189.419642\"/>\r\n     <use style=\"fill:#ff0000;stroke:#ff0000;\" x=\"274.720979\" xlink:href=\"#m5c6aba2122\" y=\"203.684489\"/>\r\n     <use style=\"fill:#ff0000;stroke:#ff0000;\" x=\"277.655615\" xlink:href=\"#m5c6aba2122\" y=\"216.941324\"/>\r\n     <use style=\"fill:#ff0000;stroke:#ff0000;\" x=\"280.590251\" xlink:href=\"#m5c6aba2122\" y=\"228.979935\"/>\r\n     <use style=\"fill:#ff0000;stroke:#ff0000;\" x=\"283.524886\" xlink:href=\"#m5c6aba2122\" y=\"239.610121\"/>\r\n     <use style=\"fill:#ff0000;stroke:#ff0000;\" x=\"286.459522\" xlink:href=\"#m5c6aba2122\" y=\"248.663634\"/>\r\n     <use style=\"fill:#ff0000;stroke:#ff0000;\" x=\"289.394157\" xlink:href=\"#m5c6aba2122\" y=\"255.996061\"/>\r\n     <use style=\"fill:#ff0000;stroke:#ff0000;\" x=\"292.328793\" xlink:href=\"#m5c6aba2122\" y=\"261.487914\"/>\r\n     <use style=\"fill:#ff0000;stroke:#ff0000;\" x=\"295.263429\" xlink:href=\"#m5c6aba2122\" y=\"265.046882\"/>\r\n     <use style=\"fill:#ff0000;stroke:#ff0000;\" x=\"298.198064\" xlink:href=\"#m5c6aba2122\" y=\"266.609629\"/>\r\n     <use style=\"fill:#ff0000;stroke:#ff0000;\" x=\"301.1327\" xlink:href=\"#m5c6aba2122\" y=\"266.143339\"/>\r\n     <use style=\"fill:#ff0000;stroke:#ff0000;\" x=\"304.067335\" xlink:href=\"#m5c6aba2122\" y=\"263.647338\"/>\r\n     <use style=\"fill:#ff0000;stroke:#ff0000;\" x=\"307.001971\" xlink:href=\"#m5c6aba2122\" y=\"259.15474\"/>\r\n     <use style=\"fill:#ff0000;stroke:#ff0000;\" x=\"309.936607\" xlink:href=\"#m5c6aba2122\" y=\"252.733008\"/>\r\n     <use style=\"fill:#ff0000;stroke:#ff0000;\" x=\"312.871242\" xlink:href=\"#m5c6aba2122\" y=\"244.483457\"/>\r\n     <use style=\"fill:#ff0000;stroke:#ff0000;\" x=\"315.805878\" xlink:href=\"#m5c6aba2122\" y=\"234.540858\"/>\r\n     <use style=\"fill:#ff0000;stroke:#ff0000;\" x=\"318.740513\" xlink:href=\"#m5c6aba2122\" y=\"223.070996\"/>\r\n     <use style=\"fill:#ff0000;stroke:#ff0000;\" x=\"321.675149\" xlink:href=\"#m5c6aba2122\" y=\"210.267535\"/>\r\n     <use style=\"fill:#ff0000;stroke:#ff0000;\" x=\"324.609785\" xlink:href=\"#m5c6aba2122\" y=\"196.348258\"/>\r\n     <use style=\"fill:#ff0000;stroke:#ff0000;\" x=\"327.54442\" xlink:href=\"#m5c6aba2122\" y=\"181.550966\"/>\r\n     <use style=\"fill:#ff0000;stroke:#ff0000;\" x=\"330.479056\" xlink:href=\"#m5c6aba2122\" y=\"166.127344\"/>\r\n     <use style=\"fill:#ff0000;stroke:#ff0000;\" x=\"333.413692\" xlink:href=\"#m5c6aba2122\" y=\"150.338451\"/>\r\n     <use style=\"fill:#ff0000;stroke:#ff0000;\" x=\"336.348327\" xlink:href=\"#m5c6aba2122\" y=\"134.44945\"/>\r\n     <use style=\"fill:#ff0000;stroke:#ff0000;\" x=\"339.282963\" xlink:href=\"#m5c6aba2122\" y=\"118.724213\"/>\r\n     <use style=\"fill:#ff0000;stroke:#ff0000;\" x=\"342.217598\" xlink:href=\"#m5c6aba2122\" y=\"103.421856\"/>\r\n     <use style=\"fill:#ff0000;stroke:#ff0000;\" x=\"345.152234\" xlink:href=\"#m5c6aba2122\" y=\"88.791101\"/>\r\n     <use style=\"fill:#ff0000;stroke:#ff0000;\" x=\"348.08687\" xlink:href=\"#m5c6aba2122\" y=\"75.068067\"/>\r\n     <use style=\"fill:#ff0000;stroke:#ff0000;\" x=\"351.021505\" xlink:href=\"#m5c6aba2122\" y=\"62.472405\"/>\r\n     <use style=\"fill:#ff0000;stroke:#ff0000;\" x=\"353.956141\" xlink:href=\"#m5c6aba2122\" y=\"51.205298\"/>\r\n     <use style=\"fill:#ff0000;stroke:#ff0000;\" x=\"356.890776\" xlink:href=\"#m5c6aba2122\" y=\"41.445657\"/>\r\n     <use style=\"fill:#ff0000;stroke:#ff0000;\" x=\"359.825412\" xlink:href=\"#m5c6aba2122\" y=\"33.349564\"/>\r\n     <use style=\"fill:#ff0000;stroke:#ff0000;\" x=\"362.760048\" xlink:href=\"#m5c6aba2122\" y=\"27.047705\"/>\r\n     <use style=\"fill:#ff0000;stroke:#ff0000;\" x=\"365.694683\" xlink:href=\"#m5c6aba2122\" y=\"22.643342\"/>\r\n     <use style=\"fill:#ff0000;stroke:#ff0000;\" x=\"368.629319\" xlink:href=\"#m5c6aba2122\" y=\"20.211598\"/>\r\n     <use style=\"fill:#ff0000;stroke:#ff0000;\" x=\"371.563954\" xlink:href=\"#m5c6aba2122\" y=\"19.797153\"/>\r\n     <use style=\"fill:#ff0000;stroke:#ff0000;\" x=\"374.49859\" xlink:href=\"#m5c6aba2122\" y=\"21.41425\"/>\r\n     <use style=\"fill:#ff0000;stroke:#ff0000;\" x=\"377.433226\" xlink:href=\"#m5c6aba2122\" y=\"25.044228\"/>\r\n    </g>\r\n   </g>\r\n   <g id=\"patch_3\">\r\n    <path d=\"M 38.482813 279 \r\nL 38.482813 7.2 \r\n\" style=\"fill:none;stroke:#000000;stroke-linecap:square;stroke-linejoin:miter;stroke-width:0.8;\"/>\r\n   </g>\r\n   <g id=\"patch_4\">\r\n    <path d=\"M 393.573722 279 \r\nL 393.573722 7.2 \r\n\" style=\"fill:none;stroke:#000000;stroke-linecap:square;stroke-linejoin:miter;stroke-width:0.8;\"/>\r\n   </g>\r\n   <g id=\"patch_5\">\r\n    <path d=\"M 38.482813 279 \r\nL 393.573722 279 \r\n\" style=\"fill:none;stroke:#000000;stroke-linecap:square;stroke-linejoin:miter;stroke-width:0.8;\"/>\r\n   </g>\r\n   <g id=\"patch_6\">\r\n    <path d=\"M 38.482813 7.2 \r\nL 393.573722 7.2 \r\n\" style=\"fill:none;stroke:#000000;stroke-linecap:square;stroke-linejoin:miter;stroke-width:0.8;\"/>\r\n   </g>\r\n   <g id=\"legend_1\">\r\n    <g id=\"patch_7\">\r\n     <path d=\"M 45.482813 274 \r\nL 89.739063 274 \r\nQ 91.739063 274 91.739063 272 \r\nL 91.739063 243.64375 \r\nQ 91.739063 241.64375 89.739063 241.64375 \r\nL 45.482813 241.64375 \r\nQ 43.482813 241.64375 43.482813 243.64375 \r\nL 43.482813 272 \r\nQ 43.482813 274 45.482813 274 \r\nz\r\n\" style=\"fill:#ffffff;opacity:0.8;stroke:#cccccc;stroke-linejoin:miter;\"/>\r\n    </g>\r\n    <g id=\"line2d_16\">\r\n     <path d=\"M 47.482813 249.742188 \r\nL 67.482813 249.742188 \r\n\" style=\"fill:none;stroke:#0000ff;stroke-linecap:square;stroke-width:1.5;\"/>\r\n    </g>\r\n    <g id=\"line2d_17\"/>\r\n    <g id=\"text_14\">\r\n     <!-- y -->\r\n     <g transform=\"translate(75.482813 253.242188)scale(0.1 -0.1)\">\r\n      <defs>\r\n       <path d=\"M 32.171875 -5.078125 \r\nQ 28.375 -14.84375 24.75 -17.8125 \r\nQ 21.140625 -20.796875 15.09375 -20.796875 \r\nL 7.90625 -20.796875 \r\nL 7.90625 -13.28125 \r\nL 13.1875 -13.28125 \r\nQ 16.890625 -13.28125 18.9375 -11.515625 \r\nQ 21 -9.765625 23.484375 -3.21875 \r\nL 25.09375 0.875 \r\nL 2.984375 54.6875 \r\nL 12.5 54.6875 \r\nL 29.59375 11.921875 \r\nL 46.6875 54.6875 \r\nL 56.203125 54.6875 \r\nz\r\n\" id=\"DejaVuSans-121\"/>\r\n      </defs>\r\n      <use xlink:href=\"#DejaVuSans-121\"/>\r\n     </g>\r\n    </g>\r\n    <g id=\"line2d_18\"/>\r\n    <g id=\"line2d_19\">\r\n     <g>\r\n      <use style=\"fill:#ff0000;stroke:#ff0000;\" x=\"57.482813\" xlink:href=\"#m5c6aba2122\" y=\"264.420313\"/>\r\n     </g>\r\n    </g>\r\n    <g id=\"text_15\">\r\n     <!-- xh -->\r\n     <g transform=\"translate(75.482813 267.920313)scale(0.1 -0.1)\">\r\n      <defs>\r\n       <path d=\"M 54.890625 54.6875 \r\nL 35.109375 28.078125 \r\nL 55.90625 0 \r\nL 45.3125 0 \r\nL 29.390625 21.484375 \r\nL 13.484375 0 \r\nL 2.875 0 \r\nL 24.125 28.609375 \r\nL 4.6875 54.6875 \r\nL 15.28125 54.6875 \r\nL 29.78125 35.203125 \r\nL 44.28125 54.6875 \r\nz\r\n\" id=\"DejaVuSans-120\"/>\r\n       <path d=\"M 54.890625 33.015625 \r\nL 54.890625 0 \r\nL 45.90625 0 \r\nL 45.90625 32.71875 \r\nQ 45.90625 40.484375 42.875 44.328125 \r\nQ 39.84375 48.1875 33.796875 48.1875 \r\nQ 26.515625 48.1875 22.3125 43.546875 \r\nQ 18.109375 38.921875 18.109375 30.90625 \r\nL 18.109375 0 \r\nL 9.078125 0 \r\nL 9.078125 75.984375 \r\nL 18.109375 75.984375 \r\nL 18.109375 46.1875 \r\nQ 21.34375 51.125 25.703125 53.5625 \r\nQ 30.078125 56 35.796875 56 \r\nQ 45.21875 56 50.046875 50.171875 \r\nQ 54.890625 44.34375 54.890625 33.015625 \r\nz\r\n\" id=\"DejaVuSans-104\"/>\r\n      </defs>\r\n      <use xlink:href=\"#DejaVuSans-120\"/>\r\n      <use x=\"59.179688\" xlink:href=\"#DejaVuSans-104\"/>\r\n     </g>\r\n    </g>\r\n   </g>\r\n  </g>\r\n  <g id=\"axes_2\">\r\n   <g id=\"patch_8\">\r\n    <path d=\"M 464.591903 279 \r\nL 819.682812 279 \r\nL 819.682812 7.2 \r\nL 464.591903 7.2 \r\nz\r\n\" style=\"fill:#ffffff;\"/>\r\n   </g>\r\n   <g id=\"matplotlib.axis_3\">\r\n    <g id=\"xtick_9\">\r\n     <g id=\"line2d_20\">\r\n      <g>\r\n       <use style=\"stroke:#000000;stroke-width:0.8;\" x=\"477.797764\" xlink:href=\"#mfe73f587a8\" y=\"279\"/>\r\n      </g>\r\n     </g>\r\n     <g id=\"text_16\">\r\n      <!-- 0 -->\r\n      <g transform=\"translate(474.616514 293.598437)scale(0.1 -0.1)\">\r\n       <use xlink:href=\"#DejaVuSans-48\"/>\r\n      </g>\r\n     </g>\r\n    </g>\r\n    <g id=\"xtick_10\">\r\n     <g id=\"line2d_21\">\r\n      <g>\r\n       <use style=\"stroke:#000000;stroke-width:0.8;\" x=\"524.751933\" xlink:href=\"#mfe73f587a8\" y=\"279\"/>\r\n      </g>\r\n     </g>\r\n     <g id=\"text_17\">\r\n      <!-- 2 -->\r\n      <g transform=\"translate(521.570683 293.598437)scale(0.1 -0.1)\">\r\n       <use xlink:href=\"#DejaVuSans-50\"/>\r\n      </g>\r\n     </g>\r\n    </g>\r\n    <g id=\"xtick_11\">\r\n     <g id=\"line2d_22\">\r\n      <g>\r\n       <use style=\"stroke:#000000;stroke-width:0.8;\" x=\"571.706103\" xlink:href=\"#mfe73f587a8\" y=\"279\"/>\r\n      </g>\r\n     </g>\r\n     <g id=\"text_18\">\r\n      <!-- 4 -->\r\n      <g transform=\"translate(568.524853 293.598437)scale(0.1 -0.1)\">\r\n       <use xlink:href=\"#DejaVuSans-52\"/>\r\n      </g>\r\n     </g>\r\n    </g>\r\n    <g id=\"xtick_12\">\r\n     <g id=\"line2d_23\">\r\n      <g>\r\n       <use style=\"stroke:#000000;stroke-width:0.8;\" x=\"618.660273\" xlink:href=\"#mfe73f587a8\" y=\"279\"/>\r\n      </g>\r\n     </g>\r\n     <g id=\"text_19\">\r\n      <!-- 6 -->\r\n      <g transform=\"translate(615.479023 293.598437)scale(0.1 -0.1)\">\r\n       <use xlink:href=\"#DejaVuSans-54\"/>\r\n      </g>\r\n     </g>\r\n    </g>\r\n    <g id=\"xtick_13\">\r\n     <g id=\"line2d_24\">\r\n      <g>\r\n       <use style=\"stroke:#000000;stroke-width:0.8;\" x=\"665.614443\" xlink:href=\"#mfe73f587a8\" y=\"279\"/>\r\n      </g>\r\n     </g>\r\n     <g id=\"text_20\">\r\n      <!-- 8 -->\r\n      <g transform=\"translate(662.433193 293.598437)scale(0.1 -0.1)\">\r\n       <use xlink:href=\"#DejaVuSans-56\"/>\r\n      </g>\r\n     </g>\r\n    </g>\r\n    <g id=\"xtick_14\">\r\n     <g id=\"line2d_25\">\r\n      <g>\r\n       <use style=\"stroke:#000000;stroke-width:0.8;\" x=\"712.568613\" xlink:href=\"#mfe73f587a8\" y=\"279\"/>\r\n      </g>\r\n     </g>\r\n     <g id=\"text_21\">\r\n      <!-- 10 -->\r\n      <g transform=\"translate(706.206113 293.598437)scale(0.1 -0.1)\">\r\n       <use xlink:href=\"#DejaVuSans-49\"/>\r\n       <use x=\"63.623047\" xlink:href=\"#DejaVuSans-48\"/>\r\n      </g>\r\n     </g>\r\n    </g>\r\n    <g id=\"xtick_15\">\r\n     <g id=\"line2d_26\">\r\n      <g>\r\n       <use style=\"stroke:#000000;stroke-width:0.8;\" x=\"759.522782\" xlink:href=\"#mfe73f587a8\" y=\"279\"/>\r\n      </g>\r\n     </g>\r\n     <g id=\"text_22\">\r\n      <!-- 12 -->\r\n      <g transform=\"translate(753.160282 293.598437)scale(0.1 -0.1)\">\r\n       <use xlink:href=\"#DejaVuSans-49\"/>\r\n       <use x=\"63.623047\" xlink:href=\"#DejaVuSans-50\"/>\r\n      </g>\r\n     </g>\r\n    </g>\r\n    <g id=\"xtick_16\">\r\n     <g id=\"line2d_27\">\r\n      <g>\r\n       <use style=\"stroke:#000000;stroke-width:0.8;\" x=\"806.476952\" xlink:href=\"#mfe73f587a8\" y=\"279\"/>\r\n      </g>\r\n     </g>\r\n     <g id=\"text_23\">\r\n      <!-- 14 -->\r\n      <g transform=\"translate(800.114452 293.598437)scale(0.1 -0.1)\">\r\n       <use xlink:href=\"#DejaVuSans-49\"/>\r\n       <use x=\"63.623047\" xlink:href=\"#DejaVuSans-52\"/>\r\n      </g>\r\n     </g>\r\n    </g>\r\n   </g>\r\n   <g id=\"matplotlib.axis_4\">\r\n    <g id=\"ytick_6\">\r\n     <g id=\"line2d_28\">\r\n      <g>\r\n       <use style=\"stroke:#000000;stroke-width:0.8;\" x=\"464.591903\" xlink:href=\"#md96a6c06a3\" y=\"266.827113\"/>\r\n      </g>\r\n     </g>\r\n     <g id=\"text_24\">\r\n      <!-- −0.06 -->\r\n      <g transform=\"translate(426.946591 270.626331)scale(0.1 -0.1)\">\r\n       <use xlink:href=\"#DejaVuSans-8722\"/>\r\n       <use x=\"83.789062\" xlink:href=\"#DejaVuSans-48\"/>\r\n       <use x=\"147.412109\" xlink:href=\"#DejaVuSans-46\"/>\r\n       <use x=\"179.199219\" xlink:href=\"#DejaVuSans-48\"/>\r\n       <use x=\"242.822266\" xlink:href=\"#DejaVuSans-54\"/>\r\n      </g>\r\n     </g>\r\n    </g>\r\n    <g id=\"ytick_7\">\r\n     <g id=\"line2d_29\">\r\n      <g>\r\n       <use style=\"stroke:#000000;stroke-width:0.8;\" x=\"464.591903\" xlink:href=\"#md96a6c06a3\" y=\"225.501027\"/>\r\n      </g>\r\n     </g>\r\n     <g id=\"text_25\">\r\n      <!-- −0.04 -->\r\n      <g transform=\"translate(426.946591 229.300246)scale(0.1 -0.1)\">\r\n       <use xlink:href=\"#DejaVuSans-8722\"/>\r\n       <use x=\"83.789062\" xlink:href=\"#DejaVuSans-48\"/>\r\n       <use x=\"147.412109\" xlink:href=\"#DejaVuSans-46\"/>\r\n       <use x=\"179.199219\" xlink:href=\"#DejaVuSans-48\"/>\r\n       <use x=\"242.822266\" xlink:href=\"#DejaVuSans-52\"/>\r\n      </g>\r\n     </g>\r\n    </g>\r\n    <g id=\"ytick_8\">\r\n     <g id=\"line2d_30\">\r\n      <g>\r\n       <use style=\"stroke:#000000;stroke-width:0.8;\" x=\"464.591903\" xlink:href=\"#md96a6c06a3\" y=\"184.174941\"/>\r\n      </g>\r\n     </g>\r\n     <g id=\"text_26\">\r\n      <!-- −0.02 -->\r\n      <g transform=\"translate(426.946591 187.97416)scale(0.1 -0.1)\">\r\n       <use xlink:href=\"#DejaVuSans-8722\"/>\r\n       <use x=\"83.789062\" xlink:href=\"#DejaVuSans-48\"/>\r\n       <use x=\"147.412109\" xlink:href=\"#DejaVuSans-46\"/>\r\n       <use x=\"179.199219\" xlink:href=\"#DejaVuSans-48\"/>\r\n       <use x=\"242.822266\" xlink:href=\"#DejaVuSans-50\"/>\r\n      </g>\r\n     </g>\r\n    </g>\r\n    <g id=\"ytick_9\">\r\n     <g id=\"line2d_31\">\r\n      <g>\r\n       <use style=\"stroke:#000000;stroke-width:0.8;\" x=\"464.591903\" xlink:href=\"#md96a6c06a3\" y=\"142.848856\"/>\r\n      </g>\r\n     </g>\r\n     <g id=\"text_27\">\r\n      <!-- 0.00 -->\r\n      <g transform=\"translate(435.326278 146.648074)scale(0.1 -0.1)\">\r\n       <use xlink:href=\"#DejaVuSans-48\"/>\r\n       <use x=\"63.623047\" xlink:href=\"#DejaVuSans-46\"/>\r\n       <use x=\"95.410156\" xlink:href=\"#DejaVuSans-48\"/>\r\n       <use x=\"159.033203\" xlink:href=\"#DejaVuSans-48\"/>\r\n      </g>\r\n     </g>\r\n    </g>\r\n    <g id=\"ytick_10\">\r\n     <g id=\"line2d_32\">\r\n      <g>\r\n       <use style=\"stroke:#000000;stroke-width:0.8;\" x=\"464.591903\" xlink:href=\"#md96a6c06a3\" y=\"101.52277\"/>\r\n      </g>\r\n     </g>\r\n     <g id=\"text_28\">\r\n      <!-- 0.02 -->\r\n      <g transform=\"translate(435.326278 105.321989)scale(0.1 -0.1)\">\r\n       <use xlink:href=\"#DejaVuSans-48\"/>\r\n       <use x=\"63.623047\" xlink:href=\"#DejaVuSans-46\"/>\r\n       <use x=\"95.410156\" xlink:href=\"#DejaVuSans-48\"/>\r\n       <use x=\"159.033203\" xlink:href=\"#DejaVuSans-50\"/>\r\n      </g>\r\n     </g>\r\n    </g>\r\n    <g id=\"ytick_11\">\r\n     <g id=\"line2d_33\">\r\n      <g>\r\n       <use style=\"stroke:#000000;stroke-width:0.8;\" x=\"464.591903\" xlink:href=\"#md96a6c06a3\" y=\"60.196684\"/>\r\n      </g>\r\n     </g>\r\n     <g id=\"text_29\">\r\n      <!-- 0.04 -->\r\n      <g transform=\"translate(435.326278 63.995903)scale(0.1 -0.1)\">\r\n       <use xlink:href=\"#DejaVuSans-48\"/>\r\n       <use x=\"63.623047\" xlink:href=\"#DejaVuSans-46\"/>\r\n       <use x=\"95.410156\" xlink:href=\"#DejaVuSans-48\"/>\r\n       <use x=\"159.033203\" xlink:href=\"#DejaVuSans-52\"/>\r\n      </g>\r\n     </g>\r\n    </g>\r\n    <g id=\"ytick_12\">\r\n     <g id=\"line2d_34\">\r\n      <g>\r\n       <use style=\"stroke:#000000;stroke-width:0.8;\" x=\"464.591903\" xlink:href=\"#md96a6c06a3\" y=\"18.870599\"/>\r\n      </g>\r\n     </g>\r\n     <g id=\"text_30\">\r\n      <!-- 0.06 -->\r\n      <g transform=\"translate(435.326278 22.669817)scale(0.1 -0.1)\">\r\n       <use xlink:href=\"#DejaVuSans-48\"/>\r\n       <use x=\"63.623047\" xlink:href=\"#DejaVuSans-46\"/>\r\n       <use x=\"95.410156\" xlink:href=\"#DejaVuSans-48\"/>\r\n       <use x=\"159.033203\" xlink:href=\"#DejaVuSans-54\"/>\r\n      </g>\r\n     </g>\r\n    </g>\r\n   </g>\r\n   <g id=\"line2d_35\">\r\n    <path clip-path=\"url(#pe092fbbd3c)\" d=\"M 480.732399 64.000751 \r\nL 483.667035 57.299726 \r\nL 486.601671 46.552877 \r\nL 489.536306 35.55394 \r\nL 492.470942 26.52419 \r\nL 495.405577 20.881113 \r\nL 498.340213 19.554545 \r\nL 501.274849 22.970146 \r\nL 504.209484 31.123783 \r\nL 507.14412 43.579465 \r\nL 510.078755 59.469345 \r\nL 513.013391 77.605298 \r\nL 515.948027 96.631828 \r\nL 518.882662 115.284357 \r\nL 521.817298 132.48634 \r\nL 524.751933 147.487709 \r\nL 527.686569 159.883468 \r\nL 530.621205 169.702546 \r\nL 533.55584 177.372668 \r\nL 536.490476 183.606708 \r\nL 539.425112 189.233254 \r\nL 542.359747 195.07263 \r\nL 545.294383 201.798451 \r\nL 548.229018 209.757855 \r\nL 551.163654 218.934312 \r\nL 554.09829 228.964153 \r\nL 557.032925 239.275011 \r\nL 559.967561 249.135415 \r\nL 562.902196 257.561804 \r\nL 565.836832 263.461103 \r\nL 568.771468 265.824955 \r\nL 571.706103 263.957016 \r\nL 574.640739 257.582467 \r\nL 577.575374 246.852149 \r\nL 580.51001 232.398351 \r\nL 583.444646 215.208765 \r\nL 586.379281 196.591364 \r\nL 589.313917 177.833453 \r\nL 592.248553 160.102496 \r\nL 595.183188 144.274606 \r\nL 598.117824 130.924214 \r\nL 601.052459 120.193896 \r\nL 603.987095 111.821231 \r\nL 606.921731 105.200792 \r\nL 609.856366 99.522587 \r\nL 612.791002 93.962163 \r\nL 615.725637 87.754985 \r\nL 618.660273 80.398941 \r\nL 621.594909 71.759723 \r\nL 624.529544 62.054292 \r\nL 627.46418 51.790959 \r\nL 630.398816 41.620609 \r\nL 633.333451 32.41729 \r\nL 636.268087 25.259612 \r\nL 639.202722 21.211721 \r\nL 642.137358 21.137335 \r\nL 645.071994 25.493104 \r\nL 648.006629 34.31829 \r\nL 650.941265 47.193432 \r\nL 653.8759 63.271345 \r\nL 656.810536 81.363905 \r\nL 659.745172 100.146611 \r\nL 662.679807 118.392078 \r\nL 665.614443 135.081618 \r\nL 668.549078 149.510621 \r\nL 671.483714 161.338146 \r\nL 674.41835 170.653046 \r\nL 677.352985 177.928503 \r\nL 680.287621 183.902189 \r\nL 683.222257 189.402691 \r\nL 686.156892 195.242067 \r\nL 689.091528 202.052606 \r\nL 692.026163 210.129789 \r\nL 694.960799 219.413695 \r\nL 697.895435 229.495193 \r\nL 700.83007 239.783322 \r\nL 703.764706 249.517682 \r\nL 706.699341 257.685782 \r\nL 709.633977 263.198682 \r\nL 712.568613 265.070754 \r\nL 715.503248 262.663509 \r\nL 718.437884 255.753788 \r\nL 721.372519 244.550286 \r\nL 724.307155 229.739017 \r\nL 727.241791 212.353133 \r\nL 730.176426 193.710936 \r\nL 733.111062 175.083202 \r\nL 736.045698 157.606401 \r\nL 738.980333 142.113251 \r\nL 741.914969 129.128595 \r\nL 744.849604 118.74335 \r\nL 747.78424 110.643437 \r\nL 750.718876 104.190369 \r\nL 753.653511 98.567955 \r\nL 756.588147 92.955872 \r\nL 759.522782 86.616451 \r\nL 762.457418 79.095103 \r\nL 765.392054 70.300912 \r\nL 768.326689 60.502497 \r\nL 771.261325 50.2247 \r\nL 774.195961 40.145268 \r\nL 777.130596 31.167176 \r\nL 780.065232 24.379366 \r\nL 782.999867 20.829455 \r\nL 785.934503 21.3357 \r\nL 788.869139 26.29483 \r\nL 791.803774 35.698581 \r\nL 794.73841 49.059304 \r\nL 797.673045 65.48849 \r\nL 800.607681 83.758752 \r\nL 803.542317 102.555922 \r\n\" style=\"fill:none;stroke:#0000ff;stroke-linecap:square;stroke-width:1.5;\"/>\r\n   </g>\r\n   <g id=\"line2d_36\">\r\n    <g clip-path=\"url(#pe092fbbd3c)\">\r\n     <use style=\"fill:#ff0000;stroke:#ff0000;\" x=\"480.732399\" xlink:href=\"#m5c6aba2122\" y=\"77.403818\"/>\r\n     <use style=\"fill:#ff0000;stroke:#ff0000;\" x=\"483.667035\" xlink:href=\"#m5c6aba2122\" y=\"54.511513\"/>\r\n     <use style=\"fill:#ff0000;stroke:#ff0000;\" x=\"486.601671\" xlink:href=\"#m5c6aba2122\" y=\"38.345787\"/>\r\n     <use style=\"fill:#ff0000;stroke:#ff0000;\" x=\"489.536306\" xlink:href=\"#m5c6aba2122\" y=\"27.664682\"/>\r\n     <use style=\"fill:#ff0000;stroke:#ff0000;\" x=\"492.470942\" xlink:href=\"#m5c6aba2122\" y=\"21.585932\"/>\r\n     <use style=\"fill:#ff0000;stroke:#ff0000;\" x=\"495.405577\" xlink:href=\"#m5c6aba2122\" y=\"19.574584\"/>\r\n     <use style=\"fill:#ff0000;stroke:#ff0000;\" x=\"498.340213\" xlink:href=\"#m5c6aba2122\" y=\"21.366581\"/>\r\n     <use style=\"fill:#ff0000;stroke:#ff0000;\" x=\"501.274849\" xlink:href=\"#m5c6aba2122\" y=\"26.837531\"/>\r\n     <use style=\"fill:#ff0000;stroke:#ff0000;\" x=\"504.209484\" xlink:href=\"#m5c6aba2122\" y=\"35.828185\"/>\r\n     <use style=\"fill:#ff0000;stroke:#ff0000;\" x=\"507.14412\" xlink:href=\"#m5c6aba2122\" y=\"48.0166\"/>\r\n     <use style=\"fill:#ff0000;stroke:#ff0000;\" x=\"510.078755\" xlink:href=\"#m5c6aba2122\" y=\"62.832046\"/>\r\n     <use style=\"fill:#ff0000;stroke:#ff0000;\" x=\"513.013391\" xlink:href=\"#m5c6aba2122\" y=\"79.456732\"/>\r\n     <use style=\"fill:#ff0000;stroke:#ff0000;\" x=\"515.948027\" xlink:href=\"#m5c6aba2122\" y=\"96.890835\"/>\r\n     <use style=\"fill:#ff0000;stroke:#ff0000;\" x=\"518.882662\" xlink:href=\"#m5c6aba2122\" y=\"114.100291\"/>\r\n     <use style=\"fill:#ff0000;stroke:#ff0000;\" x=\"521.817298\" xlink:href=\"#m5c6aba2122\" y=\"130.16176\"/>\r\n     <use style=\"fill:#ff0000;stroke:#ff0000;\" x=\"524.751933\" xlink:href=\"#m5c6aba2122\" y=\"144.413128\"/>\r\n     <use style=\"fill:#ff0000;stroke:#ff0000;\" x=\"527.686569\" xlink:href=\"#m5c6aba2122\" y=\"156.54144\"/>\r\n     <use style=\"fill:#ff0000;stroke:#ff0000;\" x=\"530.621205\" xlink:href=\"#m5c6aba2122\" y=\"166.602489\"/>\r\n     <use style=\"fill:#ff0000;stroke:#ff0000;\" x=\"533.55584\" xlink:href=\"#m5c6aba2122\" y=\"174.986266\"/>\r\n     <use style=\"fill:#ff0000;stroke:#ff0000;\" x=\"536.490476\" xlink:href=\"#m5c6aba2122\" y=\"182.296692\"/>\r\n     <use style=\"fill:#ff0000;stroke:#ff0000;\" x=\"539.425112\" xlink:href=\"#m5c6aba2122\" y=\"189.222792\"/>\r\n     <use style=\"fill:#ff0000;stroke:#ff0000;\" x=\"542.359747\" xlink:href=\"#m5c6aba2122\" y=\"196.394815\"/>\r\n     <use style=\"fill:#ff0000;stroke:#ff0000;\" x=\"545.294383\" xlink:href=\"#m5c6aba2122\" y=\"204.261418\"/>\r\n     <use style=\"fill:#ff0000;stroke:#ff0000;\" x=\"548.229018\" xlink:href=\"#m5c6aba2122\" y=\"213.00483\"/>\r\n     <use style=\"fill:#ff0000;stroke:#ff0000;\" x=\"551.163654\" xlink:href=\"#m5c6aba2122\" y=\"222.510375\"/>\r\n     <use style=\"fill:#ff0000;stroke:#ff0000;\" x=\"554.09829\" xlink:href=\"#m5c6aba2122\" y=\"232.37372\"/>\r\n     <use style=\"fill:#ff0000;stroke:#ff0000;\" x=\"557.032925\" xlink:href=\"#m5c6aba2122\" y=\"241.962507\"/>\r\n     <use style=\"fill:#ff0000;stroke:#ff0000;\" x=\"559.967561\" xlink:href=\"#m5c6aba2122\" y=\"250.505531\"/>\r\n     <use style=\"fill:#ff0000;stroke:#ff0000;\" x=\"562.902196\" xlink:href=\"#m5c6aba2122\" y=\"257.190482\"/>\r\n     <use style=\"fill:#ff0000;stroke:#ff0000;\" x=\"565.836832\" xlink:href=\"#m5c6aba2122\" y=\"261.26429\"/>\r\n     <use style=\"fill:#ff0000;stroke:#ff0000;\" x=\"568.771468\" xlink:href=\"#m5c6aba2122\" y=\"262.136026\"/>\r\n     <use style=\"fill:#ff0000;stroke:#ff0000;\" x=\"571.706103\" xlink:href=\"#m5c6aba2122\" y=\"259.440517\"/>\r\n     <use style=\"fill:#ff0000;stroke:#ff0000;\" x=\"574.640739\" xlink:href=\"#m5c6aba2122\" y=\"253.089087\"/>\r\n     <use style=\"fill:#ff0000;stroke:#ff0000;\" x=\"577.575374\" xlink:href=\"#m5c6aba2122\" y=\"243.274853\"/>\r\n     <use style=\"fill:#ff0000;stroke:#ff0000;\" x=\"580.51001\" xlink:href=\"#m5c6aba2122\" y=\"230.462626\"/>\r\n     <use style=\"fill:#ff0000;stroke:#ff0000;\" x=\"583.444646\" xlink:href=\"#m5c6aba2122\" y=\"215.337182\"/>\r\n     <use style=\"fill:#ff0000;stroke:#ff0000;\" x=\"586.379281\" xlink:href=\"#m5c6aba2122\" y=\"198.735404\"/>\r\n     <use style=\"fill:#ff0000;stroke:#ff0000;\" x=\"589.313917\" xlink:href=\"#m5c6aba2122\" y=\"181.557477\"/>\r\n     <use style=\"fill:#ff0000;stroke:#ff0000;\" x=\"592.248553\" xlink:href=\"#m5c6aba2122\" y=\"164.677354\"/>\r\n     <use style=\"fill:#ff0000;stroke:#ff0000;\" x=\"595.183188\" xlink:href=\"#m5c6aba2122\" y=\"148.847059\"/>\r\n     <use style=\"fill:#ff0000;stroke:#ff0000;\" x=\"598.117824\" xlink:href=\"#m5c6aba2122\" y=\"134.628206\"/>\r\n     <use style=\"fill:#ff0000;stroke:#ff0000;\" x=\"601.052459\" xlink:href=\"#m5c6aba2122\" y=\"122.334858\"/>\r\n     <use style=\"fill:#ff0000;stroke:#ff0000;\" x=\"603.987095\" xlink:href=\"#m5c6aba2122\" y=\"112.012337\"/>\r\n     <use style=\"fill:#ff0000;stroke:#ff0000;\" x=\"606.921731\" xlink:href=\"#m5c6aba2122\" y=\"103.448067\"/>\r\n     <use style=\"fill:#ff0000;stroke:#ff0000;\" x=\"609.856366\" xlink:href=\"#m5c6aba2122\" y=\"96.218559\"/>\r\n     <use style=\"fill:#ff0000;stroke:#ff0000;\" x=\"612.791002\" xlink:href=\"#m5c6aba2122\" y=\"89.768569\"/>\r\n     <use style=\"fill:#ff0000;stroke:#ff0000;\" x=\"615.725637\" xlink:href=\"#m5c6aba2122\" y=\"83.504353\"/>\r\n     <use style=\"fill:#ff0000;stroke:#ff0000;\" x=\"618.660273\" xlink:href=\"#m5c6aba2122\" y=\"76.90048\"/>\r\n     <use style=\"fill:#ff0000;stroke:#ff0000;\" x=\"621.594909\" xlink:href=\"#m5c6aba2122\" y=\"69.604657\"/>\r\n     <use style=\"fill:#ff0000;stroke:#ff0000;\" x=\"624.529544\" xlink:href=\"#m5c6aba2122\" y=\"61.507692\"/>\r\n     <use style=\"fill:#ff0000;stroke:#ff0000;\" x=\"627.46418\" xlink:href=\"#m5c6aba2122\" y=\"52.800001\"/>\r\n     <use style=\"fill:#ff0000;stroke:#ff0000;\" x=\"630.398816\" xlink:href=\"#m5c6aba2122\" y=\"43.9641\"/>\r\n     <use style=\"fill:#ff0000;stroke:#ff0000;\" x=\"633.333451\" xlink:href=\"#m5c6aba2122\" y=\"35.732119\"/>\r\n     <use style=\"fill:#ff0000;stroke:#ff0000;\" x=\"636.268087\" xlink:href=\"#m5c6aba2122\" y=\"29.011452\"/>\r\n     <use style=\"fill:#ff0000;stroke:#ff0000;\" x=\"639.202722\" xlink:href=\"#m5c6aba2122\" y=\"24.74699\"/>\r\n     <use style=\"fill:#ff0000;stroke:#ff0000;\" x=\"642.137358\" xlink:href=\"#m5c6aba2122\" y=\"23.799141\"/>\r\n     <use style=\"fill:#ff0000;stroke:#ff0000;\" x=\"645.071994\" xlink:href=\"#m5c6aba2122\" y=\"26.797996\"/>\r\n     <use style=\"fill:#ff0000;stroke:#ff0000;\" x=\"648.006629\" xlink:href=\"#m5c6aba2122\" y=\"34.036557\"/>\r\n     <use style=\"fill:#ff0000;stroke:#ff0000;\" x=\"650.941265\" xlink:href=\"#m5c6aba2122\" y=\"45.398929\"/>\r\n     <use style=\"fill:#ff0000;stroke:#ff0000;\" x=\"653.8759\" xlink:href=\"#m5c6aba2122\" y=\"60.335566\"/>\r\n     <use style=\"fill:#ff0000;stroke:#ff0000;\" x=\"656.810536\" xlink:href=\"#m5c6aba2122\" y=\"77.926576\"/>\r\n     <use style=\"fill:#ff0000;stroke:#ff0000;\" x=\"659.745172\" xlink:href=\"#m5c6aba2122\" y=\"96.966702\"/>\r\n     <use style=\"fill:#ff0000;stroke:#ff0000;\" x=\"662.679807\" xlink:href=\"#m5c6aba2122\" y=\"116.138981\"/>\r\n     <use style=\"fill:#ff0000;stroke:#ff0000;\" x=\"665.614443\" xlink:href=\"#m5c6aba2122\" y=\"134.179406\"/>\r\n     <use style=\"fill:#ff0000;stroke:#ff0000;\" x=\"668.549078\" xlink:href=\"#m5c6aba2122\" y=\"150.06377\"/>\r\n     <use style=\"fill:#ff0000;stroke:#ff0000;\" x=\"671.483714\" xlink:href=\"#m5c6aba2122\" y=\"163.149908\"/>\r\n     <use style=\"fill:#ff0000;stroke:#ff0000;\" x=\"674.41835\" xlink:href=\"#m5c6aba2122\" y=\"173.264409\"/>\r\n     <use style=\"fill:#ff0000;stroke:#ff0000;\" x=\"677.352985\" xlink:href=\"#m5c6aba2122\" y=\"180.711297\"/>\r\n     <use style=\"fill:#ff0000;stroke:#ff0000;\" x=\"680.287621\" xlink:href=\"#m5c6aba2122\" y=\"186.203677\"/>\r\n     <use style=\"fill:#ff0000;stroke:#ff0000;\" x=\"683.222257\" xlink:href=\"#m5c6aba2122\" y=\"190.719356\"/>\r\n     <use style=\"fill:#ff0000;stroke:#ff0000;\" x=\"686.156892\" xlink:href=\"#m5c6aba2122\" y=\"195.308117\"/>\r\n     <use style=\"fill:#ff0000;stroke:#ff0000;\" x=\"689.091528\" xlink:href=\"#m5c6aba2122\" y=\"200.893337\"/>\r\n     <use style=\"fill:#ff0000;stroke:#ff0000;\" x=\"692.026163\" xlink:href=\"#m5c6aba2122\" y=\"208.089415\"/>\r\n     <use style=\"fill:#ff0000;stroke:#ff0000;\" x=\"694.960799\" xlink:href=\"#m5c6aba2122\" y=\"217.071417\"/>\r\n     <use style=\"fill:#ff0000;stroke:#ff0000;\" x=\"697.895435\" xlink:href=\"#m5c6aba2122\" y=\"227.523688\"/>\r\n     <use style=\"fill:#ff0000;stroke:#ff0000;\" x=\"700.83007\" xlink:href=\"#m5c6aba2122\" y=\"238.678533\"/>\r\n     <use style=\"fill:#ff0000;stroke:#ff0000;\" x=\"703.764706\" xlink:href=\"#m5c6aba2122\" y=\"249.42085\"/>\r\n     <use style=\"fill:#ff0000;stroke:#ff0000;\" x=\"706.699341\" xlink:href=\"#m5c6aba2122\" y=\"258.465818\"/>\r\n     <use style=\"fill:#ff0000;stroke:#ff0000;\" x=\"709.633977\" xlink:href=\"#m5c6aba2122\" y=\"264.552328\"/>\r\n     <use style=\"fill:#ff0000;stroke:#ff0000;\" x=\"712.568613\" xlink:href=\"#m5c6aba2122\" y=\"266.645455\"/>\r\n     <use style=\"fill:#ff0000;stroke:#ff0000;\" x=\"715.503248\" xlink:href=\"#m5c6aba2122\" y=\"264.097\"/>\r\n     <use style=\"fill:#ff0000;stroke:#ff0000;\" x=\"718.437884\" xlink:href=\"#m5c6aba2122\" y=\"256.745008\"/>\r\n     <use style=\"fill:#ff0000;stroke:#ff0000;\" x=\"721.372519\" xlink:href=\"#m5c6aba2122\" y=\"244.943196\"/>\r\n     <use style=\"fill:#ff0000;stroke:#ff0000;\" x=\"724.307155\" xlink:href=\"#m5c6aba2122\" y=\"229.518224\"/>\r\n     <use style=\"fill:#ff0000;stroke:#ff0000;\" x=\"727.241791\" xlink:href=\"#m5c6aba2122\" y=\"211.641357\"/>\r\n     <use style=\"fill:#ff0000;stroke:#ff0000;\" x=\"730.176426\" xlink:href=\"#m5c6aba2122\" y=\"192.660964\"/>\r\n     <use style=\"fill:#ff0000;stroke:#ff0000;\" x=\"733.111062\" xlink:href=\"#m5c6aba2122\" y=\"173.922953\"/>\r\n     <use style=\"fill:#ff0000;stroke:#ff0000;\" x=\"736.045698\" xlink:href=\"#m5c6aba2122\" y=\"156.585655\"/>\r\n     <use style=\"fill:#ff0000;stroke:#ff0000;\" x=\"738.980333\" xlink:href=\"#m5c6aba2122\" y=\"141.470311\"/>\r\n     <use style=\"fill:#ff0000;stroke:#ff0000;\" x=\"741.914969\" xlink:href=\"#m5c6aba2122\" y=\"128.983476\"/>\r\n     <use style=\"fill:#ff0000;stroke:#ff0000;\" x=\"744.849604\" xlink:href=\"#m5c6aba2122\" y=\"119.088695\"/>\r\n     <use style=\"fill:#ff0000;stroke:#ff0000;\" x=\"747.78424\" xlink:href=\"#m5c6aba2122\" y=\"111.35835\"/>\r\n     <use style=\"fill:#ff0000;stroke:#ff0000;\" x=\"750.718876\" xlink:href=\"#m5c6aba2122\" y=\"105.080078\"/>\r\n     <use style=\"fill:#ff0000;stroke:#ff0000;\" x=\"753.653511\" xlink:href=\"#m5c6aba2122\" y=\"99.412132\"/>\r\n     <use style=\"fill:#ff0000;stroke:#ff0000;\" x=\"756.588147\" xlink:href=\"#m5c6aba2122\" y=\"93.533519\"/>\r\n     <use style=\"fill:#ff0000;stroke:#ff0000;\" x=\"759.522782\" xlink:href=\"#m5c6aba2122\" y=\"86.803876\"/>\r\n     <use style=\"fill:#ff0000;stroke:#ff0000;\" x=\"762.457418\" xlink:href=\"#m5c6aba2122\" y=\"78.869923\"/>\r\n     <use style=\"fill:#ff0000;stroke:#ff0000;\" x=\"765.392054\" xlink:href=\"#m5c6aba2122\" y=\"69.717381\"/>\r\n     <use style=\"fill:#ff0000;stroke:#ff0000;\" x=\"768.326689\" xlink:href=\"#m5c6aba2122\" y=\"59.676099\"/>\r\n     <use style=\"fill:#ff0000;stroke:#ff0000;\" x=\"771.261325\" xlink:href=\"#m5c6aba2122\" y=\"49.345757\"/>\r\n     <use style=\"fill:#ff0000;stroke:#ff0000;\" x=\"774.195961\" xlink:href=\"#m5c6aba2122\" y=\"39.520316\"/>\r\n     <use style=\"fill:#ff0000;stroke:#ff0000;\" x=\"777.130596\" xlink:href=\"#m5c6aba2122\" y=\"31.080069\"/>\r\n     <use style=\"fill:#ff0000;stroke:#ff0000;\" x=\"780.065232\" xlink:href=\"#m5c6aba2122\" y=\"24.90242\"/>\r\n     <use style=\"fill:#ff0000;stroke:#ff0000;\" x=\"782.999867\" xlink:href=\"#m5c6aba2122\" y=\"21.762668\"/>\r\n     <use style=\"fill:#ff0000;stroke:#ff0000;\" x=\"785.934503\" xlink:href=\"#m5c6aba2122\" y=\"22.28672\"/>\r\n     <use style=\"fill:#ff0000;stroke:#ff0000;\" x=\"788.869139\" xlink:href=\"#m5c6aba2122\" y=\"26.877066\"/>\r\n     <use style=\"fill:#ff0000;stroke:#ff0000;\" x=\"791.803774\" xlink:href=\"#m5c6aba2122\" y=\"35.648246\"/>\r\n     <use style=\"fill:#ff0000;stroke:#ff0000;\" x=\"794.73841\" xlink:href=\"#m5c6aba2122\" y=\"48.397661\"/>\r\n     <use style=\"fill:#ff0000;stroke:#ff0000;\" x=\"797.673045\" xlink:href=\"#m5c6aba2122\" y=\"64.553226\"/>\r\n     <use style=\"fill:#ff0000;stroke:#ff0000;\" x=\"800.607681\" xlink:href=\"#m5c6aba2122\" y=\"83.215986\"/>\r\n     <use style=\"fill:#ff0000;stroke:#ff0000;\" x=\"803.542317\" xlink:href=\"#m5c6aba2122\" y=\"103.208765\"/>\r\n    </g>\r\n   </g>\r\n   <g id=\"patch_9\">\r\n    <path d=\"M 464.591903 279 \r\nL 464.591903 7.2 \r\n\" style=\"fill:none;stroke:#000000;stroke-linecap:square;stroke-linejoin:miter;stroke-width:0.8;\"/>\r\n   </g>\r\n   <g id=\"patch_10\">\r\n    <path d=\"M 819.682812 279 \r\nL 819.682812 7.2 \r\n\" style=\"fill:none;stroke:#000000;stroke-linecap:square;stroke-linejoin:miter;stroke-width:0.8;\"/>\r\n   </g>\r\n   <g id=\"patch_11\">\r\n    <path d=\"M 464.591903 279 \r\nL 819.682812 279 \r\n\" style=\"fill:none;stroke:#000000;stroke-linecap:square;stroke-linejoin:miter;stroke-width:0.8;\"/>\r\n   </g>\r\n   <g id=\"patch_12\">\r\n    <path d=\"M 464.591903 7.2 \r\nL 819.682812 7.2 \r\n\" style=\"fill:none;stroke:#000000;stroke-linecap:square;stroke-linejoin:miter;stroke-width:0.8;\"/>\r\n   </g>\r\n   <g id=\"legend_2\">\r\n    <g id=\"patch_13\">\r\n     <path d=\"M 471.591903 274 \r\nL 513.449716 274 \r\nQ 515.449716 274 515.449716 272 \r\nL 515.449716 243.64375 \r\nQ 515.449716 241.64375 513.449716 241.64375 \r\nL 471.591903 241.64375 \r\nQ 469.591903 241.64375 469.591903 243.64375 \r\nL 469.591903 272 \r\nQ 469.591903 274 471.591903 274 \r\nz\r\n\" style=\"fill:#ffffff;opacity:0.8;stroke:#cccccc;stroke-linejoin:miter;\"/>\r\n    </g>\r\n    <g id=\"line2d_37\">\r\n     <path d=\"M 473.591903 249.742188 \r\nL 493.591903 249.742188 \r\n\" style=\"fill:none;stroke:#0000ff;stroke-linecap:square;stroke-width:1.5;\"/>\r\n    </g>\r\n    <g id=\"line2d_38\"/>\r\n    <g id=\"text_31\">\r\n     <!-- f -->\r\n     <g transform=\"translate(501.591903 253.242188)scale(0.1 -0.1)\">\r\n      <defs>\r\n       <path d=\"M 37.109375 75.984375 \r\nL 37.109375 68.5 \r\nL 28.515625 68.5 \r\nQ 23.6875 68.5 21.796875 66.546875 \r\nQ 19.921875 64.59375 19.921875 59.515625 \r\nL 19.921875 54.6875 \r\nL 34.71875 54.6875 \r\nL 34.71875 47.703125 \r\nL 19.921875 47.703125 \r\nL 19.921875 0 \r\nL 10.890625 0 \r\nL 10.890625 47.703125 \r\nL 2.296875 47.703125 \r\nL 2.296875 54.6875 \r\nL 10.890625 54.6875 \r\nL 10.890625 58.5 \r\nQ 10.890625 67.625 15.140625 71.796875 \r\nQ 19.390625 75.984375 28.609375 75.984375 \r\nz\r\n\" id=\"DejaVuSans-102\"/>\r\n      </defs>\r\n      <use xlink:href=\"#DejaVuSans-102\"/>\r\n     </g>\r\n    </g>\r\n    <g id=\"line2d_39\"/>\r\n    <g id=\"line2d_40\">\r\n     <g>\r\n      <use style=\"fill:#ff0000;stroke:#ff0000;\" x=\"483.591903\" xlink:href=\"#m5c6aba2122\" y=\"264.420313\"/>\r\n     </g>\r\n    </g>\r\n    <g id=\"text_32\">\r\n     <!-- fh -->\r\n     <g transform=\"translate(501.591903 267.920313)scale(0.1 -0.1)\">\r\n      <use xlink:href=\"#DejaVuSans-102\"/>\r\n      <use x=\"35.205078\" xlink:href=\"#DejaVuSans-104\"/>\r\n     </g>\r\n    </g>\r\n   </g>\r\n  </g>\r\n </g>\r\n <defs>\r\n  <clipPath id=\"p7648f4cfe0\">\r\n   <rect height=\"271.8\" width=\"355.090909\" x=\"38.482813\" y=\"7.2\"/>\r\n  </clipPath>\r\n  <clipPath id=\"pe092fbbd3c\">\r\n   <rect height=\"271.8\" width=\"355.090909\" x=\"464.591903\" y=\"7.2\"/>\r\n  </clipPath>\r\n </defs>\r\n</svg>\r\n",
            "image/png": "[encoded data removed]"
          },
          "metadata": {
            "needs_background": "light"
          }
        },
        {
          "output_type": "stream",
          "name": "stdout",
          "text": [
            "Values identified for the ODE (rho = 2.0, b = 0.084, k = 2.2020 are the real values)\n<tf.Variable 'b:0' shape=() dtype=float32, numpy=0.08442392>\n<tf.Variable 'k:0' shape=() dtype=float32, numpy=2.2015061>\n"
          ]
        }
      ]
    },
    {
      "cell_type": "code",
      "metadata": {
        "id": "iQwpF_E7P8QB",
        "outputId": "22713aed-eed0-42d7-f4d3-c2b6293e31bd",
        "colab": {
          "base_uri": "https://localhost:8080/",
          "height": 187
        },
        "tags": []
      },
      "source": [
        "mdl.summary()"
      ],
      "execution_count": 7,
      "outputs": [
        {
          "output_type": "stream",
          "name": "stdout",
          "text": [
            "Model: \"PINN\"\n_________________________________________________________________\nLayer (type)                 Output Shape              Param #   \n=================================================================\ntToX (tToXandF)              multiple                  9603      \n=================================================================\nTotal params: 9,603\nTrainable params: 9,603\nNon-trainable params: 0\n_________________________________________________________________\n"
          ]
        }
      ]
    }
  ]
}