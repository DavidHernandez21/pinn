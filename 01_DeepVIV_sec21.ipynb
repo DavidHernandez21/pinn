{
  "nbformat": 4,
  "nbformat_minor": 0,
  "metadata": {
    "colab": {
      "name": "01_DeepVIV_sec21.ipynb",
      "provenance": [],
      "collapsed_sections": [],
      "toc_visible": true,
      "authorship_tag": "ABX9TyN5MDl/ggU4Tkq1fXXbUYlT",
      "include_colab_link": true
    },
    "kernelspec": {
      "name": "python3",
      "display_name": "Python 3"
    },
    "accelerator": "TPU",
    "widgets": {
      "application/vnd.jupyter.widget-state+json": {
        "3921934ad1ad476fbc3bafe5b4f780b6": {
          "model_module": "@jupyter-widgets/controls",
          "model_name": "HBoxModel",
          "state": {
            "_view_name": "HBoxView",
            "_dom_classes": [],
            "_model_name": "HBoxModel",
            "_view_module": "@jupyter-widgets/controls",
            "_model_module_version": "1.5.0",
            "_view_count": null,
            "_view_module_version": "1.5.0",
            "box_style": "",
            "layout": "IPY_MODEL_169da55f4fd7479395e480706fea1dba",
            "_model_module": "@jupyter-widgets/controls",
            "children": [
              "IPY_MODEL_6e5161332976477084b5ea1e217550f9",
              "IPY_MODEL_5ccaa9aa3d3043d28342604c3bbb5e8e"
            ]
          }
        },
        "169da55f4fd7479395e480706fea1dba": {
          "model_module": "@jupyter-widgets/base",
          "model_name": "LayoutModel",
          "state": {
            "_view_name": "LayoutView",
            "grid_template_rows": null,
            "right": null,
            "justify_content": null,
            "_view_module": "@jupyter-widgets/base",
            "overflow": null,
            "_model_module_version": "1.2.0",
            "_view_count": null,
            "flex_flow": "row wrap",
            "width": "100%",
            "min_width": null,
            "border": null,
            "align_items": null,
            "bottom": null,
            "_model_module": "@jupyter-widgets/base",
            "top": null,
            "grid_column": null,
            "overflow_y": null,
            "overflow_x": null,
            "grid_auto_flow": null,
            "grid_area": null,
            "grid_template_columns": null,
            "flex": null,
            "_model_name": "LayoutModel",
            "justify_items": null,
            "grid_row": null,
            "max_height": null,
            "align_content": null,
            "visibility": null,
            "align_self": null,
            "height": null,
            "min_height": null,
            "padding": null,
            "grid_auto_rows": null,
            "grid_gap": null,
            "max_width": null,
            "order": null,
            "_view_module_version": "1.2.0",
            "grid_template_areas": null,
            "object_position": null,
            "object_fit": null,
            "grid_auto_columns": null,
            "margin": null,
            "display": "inline-flex",
            "left": null
          }
        },
        "6e5161332976477084b5ea1e217550f9": {
          "model_module": "@jupyter-widgets/controls",
          "model_name": "FloatProgressModel",
          "state": {
            "_view_name": "ProgressView",
            "style": "IPY_MODEL_5c9ad63e229c47adb09fac2e3246fe6a",
            "_dom_classes": [],
            "description": "Training: 100%",
            "_model_name": "FloatProgressModel",
            "bar_style": "success",
            "max": 2000,
            "_view_module": "@jupyter-widgets/controls",
            "_model_module_version": "1.5.0",
            "value": 2000,
            "_view_count": null,
            "_view_module_version": "1.5.0",
            "orientation": "horizontal",
            "min": 0,
            "description_tooltip": null,
            "_model_module": "@jupyter-widgets/controls",
            "layout": "IPY_MODEL_648261b6c50b42aa8e31afdc5f88f735"
          }
        },
        "5ccaa9aa3d3043d28342604c3bbb5e8e": {
          "model_module": "@jupyter-widgets/controls",
          "model_name": "HTMLModel",
          "state": {
            "_view_name": "HTMLView",
            "style": "IPY_MODEL_1179fef29f124fe8bb881fe24806a45c",
            "_dom_classes": [],
            "description": "",
            "_model_name": "HTMLModel",
            "placeholder": "​",
            "_view_module": "@jupyter-widgets/controls",
            "_model_module_version": "1.5.0",
            "value": " 2000/2000 ETA: 00:00s,  39.99epochs/s",
            "_view_count": null,
            "_view_module_version": "1.5.0",
            "description_tooltip": null,
            "_model_module": "@jupyter-widgets/controls",
            "layout": "IPY_MODEL_190d8a94c5bd49d5930c9623e3c18ff3"
          }
        },
        "5c9ad63e229c47adb09fac2e3246fe6a": {
          "model_module": "@jupyter-widgets/controls",
          "model_name": "ProgressStyleModel",
          "state": {
            "_view_name": "StyleView",
            "_model_name": "ProgressStyleModel",
            "description_width": "initial",
            "_view_module": "@jupyter-widgets/base",
            "_model_module_version": "1.5.0",
            "_view_count": null,
            "_view_module_version": "1.2.0",
            "bar_color": null,
            "_model_module": "@jupyter-widgets/controls"
          }
        },
        "648261b6c50b42aa8e31afdc5f88f735": {
          "model_module": "@jupyter-widgets/base",
          "model_name": "LayoutModel",
          "state": {
            "_view_name": "LayoutView",
            "grid_template_rows": null,
            "right": null,
            "justify_content": null,
            "_view_module": "@jupyter-widgets/base",
            "overflow": null,
            "_model_module_version": "1.2.0",
            "_view_count": null,
            "flex_flow": null,
            "width": null,
            "min_width": null,
            "border": null,
            "align_items": null,
            "bottom": null,
            "_model_module": "@jupyter-widgets/base",
            "top": null,
            "grid_column": null,
            "overflow_y": null,
            "overflow_x": null,
            "grid_auto_flow": null,
            "grid_area": null,
            "grid_template_columns": null,
            "flex": "2",
            "_model_name": "LayoutModel",
            "justify_items": null,
            "grid_row": null,
            "max_height": null,
            "align_content": null,
            "visibility": null,
            "align_self": null,
            "height": null,
            "min_height": null,
            "padding": null,
            "grid_auto_rows": null,
            "grid_gap": null,
            "max_width": null,
            "order": null,
            "_view_module_version": "1.2.0",
            "grid_template_areas": null,
            "object_position": null,
            "object_fit": null,
            "grid_auto_columns": null,
            "margin": null,
            "display": null,
            "left": null
          }
        },
        "1179fef29f124fe8bb881fe24806a45c": {
          "model_module": "@jupyter-widgets/controls",
          "model_name": "DescriptionStyleModel",
          "state": {
            "_view_name": "StyleView",
            "_model_name": "DescriptionStyleModel",
            "description_width": "",
            "_view_module": "@jupyter-widgets/base",
            "_model_module_version": "1.5.0",
            "_view_count": null,
            "_view_module_version": "1.2.0",
            "_model_module": "@jupyter-widgets/controls"
          }
        },
        "190d8a94c5bd49d5930c9623e3c18ff3": {
          "model_module": "@jupyter-widgets/base",
          "model_name": "LayoutModel",
          "state": {
            "_view_name": "LayoutView",
            "grid_template_rows": null,
            "right": null,
            "justify_content": null,
            "_view_module": "@jupyter-widgets/base",
            "overflow": null,
            "_model_module_version": "1.2.0",
            "_view_count": null,
            "flex_flow": null,
            "width": null,
            "min_width": null,
            "border": null,
            "align_items": null,
            "bottom": null,
            "_model_module": "@jupyter-widgets/base",
            "top": null,
            "grid_column": null,
            "overflow_y": null,
            "overflow_x": null,
            "grid_auto_flow": null,
            "grid_area": null,
            "grid_template_columns": null,
            "flex": null,
            "_model_name": "LayoutModel",
            "justify_items": null,
            "grid_row": null,
            "max_height": null,
            "align_content": null,
            "visibility": null,
            "align_self": null,
            "height": null,
            "min_height": null,
            "padding": null,
            "grid_auto_rows": null,
            "grid_gap": null,
            "max_width": null,
            "order": null,
            "_view_module_version": "1.2.0",
            "grid_template_areas": null,
            "object_position": null,
            "object_fit": null,
            "grid_auto_columns": null,
            "margin": null,
            "display": null,
            "left": null
          }
        },
        "d4c5f68960e54bf699e94e9f1a0c656b": {
          "model_module": "@jupyter-widgets/controls",
          "model_name": "HBoxModel",
          "state": {
            "_view_name": "HBoxView",
            "_dom_classes": [],
            "_model_name": "HBoxModel",
            "_view_module": "@jupyter-widgets/controls",
            "_model_module_version": "1.5.0",
            "_view_count": null,
            "_view_module_version": "1.5.0",
            "box_style": "",
            "layout": "IPY_MODEL_295a1e04ebde415cb6b56204d2acf653",
            "_model_module": "@jupyter-widgets/controls",
            "children": [
              "IPY_MODEL_a4ee2d91287b41d18be0612f11a7705a",
              "IPY_MODEL_b9e020a6970046c8bdedd3dcb90454c4"
            ]
          }
        },
        "295a1e04ebde415cb6b56204d2acf653": {
          "model_module": "@jupyter-widgets/base",
          "model_name": "LayoutModel",
          "state": {
            "_view_name": "LayoutView",
            "grid_template_rows": null,
            "right": null,
            "justify_content": null,
            "_view_module": "@jupyter-widgets/base",
            "overflow": null,
            "_model_module_version": "1.2.0",
            "_view_count": null,
            "flex_flow": "row wrap",
            "width": "100%",
            "min_width": null,
            "border": null,
            "align_items": null,
            "bottom": null,
            "_model_module": "@jupyter-widgets/base",
            "top": null,
            "grid_column": null,
            "overflow_y": null,
            "overflow_x": null,
            "grid_auto_flow": null,
            "grid_area": null,
            "grid_template_columns": null,
            "flex": null,
            "_model_name": "LayoutModel",
            "justify_items": null,
            "grid_row": null,
            "max_height": null,
            "align_content": null,
            "visibility": null,
            "align_self": null,
            "height": null,
            "min_height": null,
            "padding": null,
            "grid_auto_rows": null,
            "grid_gap": null,
            "max_width": null,
            "order": null,
            "_view_module_version": "1.2.0",
            "grid_template_areas": null,
            "object_position": null,
            "object_fit": null,
            "grid_auto_columns": null,
            "margin": null,
            "display": "inline-flex",
            "left": null
          }
        },
        "a4ee2d91287b41d18be0612f11a7705a": {
          "model_module": "@jupyter-widgets/controls",
          "model_name": "FloatProgressModel",
          "state": {
            "_view_name": "ProgressView",
            "style": "IPY_MODEL_26de2b22f208492aadebe27546060cd6",
            "_dom_classes": [],
            "description": "Training: 100%",
            "_model_name": "FloatProgressModel",
            "bar_style": "success",
            "max": 3000,
            "_view_module": "@jupyter-widgets/controls",
            "_model_module_version": "1.5.0",
            "value": 3000,
            "_view_count": null,
            "_view_module_version": "1.5.0",
            "orientation": "horizontal",
            "min": 0,
            "description_tooltip": null,
            "_model_module": "@jupyter-widgets/controls",
            "layout": "IPY_MODEL_b83681f8ffd9416aa6fa0a3befde55db"
          }
        },
        "b9e020a6970046c8bdedd3dcb90454c4": {
          "model_module": "@jupyter-widgets/controls",
          "model_name": "HTMLModel",
          "state": {
            "_view_name": "HTMLView",
            "style": "IPY_MODEL_ddd20e1b74d94aada03430178a8d1cb4",
            "_dom_classes": [],
            "description": "",
            "_model_name": "HTMLModel",
            "placeholder": "​",
            "_view_module": "@jupyter-widgets/controls",
            "_model_module_version": "1.5.0",
            "value": " 3000/3000 ETA: 00:00s,  81.64epochs/s",
            "_view_count": null,
            "_view_module_version": "1.5.0",
            "description_tooltip": null,
            "_model_module": "@jupyter-widgets/controls",
            "layout": "IPY_MODEL_a69f76df7bdc44a995a33ae6d1328395"
          }
        },
        "26de2b22f208492aadebe27546060cd6": {
          "model_module": "@jupyter-widgets/controls",
          "model_name": "ProgressStyleModel",
          "state": {
            "_view_name": "StyleView",
            "_model_name": "ProgressStyleModel",
            "description_width": "initial",
            "_view_module": "@jupyter-widgets/base",
            "_model_module_version": "1.5.0",
            "_view_count": null,
            "_view_module_version": "1.2.0",
            "bar_color": null,
            "_model_module": "@jupyter-widgets/controls"
          }
        },
        "b83681f8ffd9416aa6fa0a3befde55db": {
          "model_module": "@jupyter-widgets/base",
          "model_name": "LayoutModel",
          "state": {
            "_view_name": "LayoutView",
            "grid_template_rows": null,
            "right": null,
            "justify_content": null,
            "_view_module": "@jupyter-widgets/base",
            "overflow": null,
            "_model_module_version": "1.2.0",
            "_view_count": null,
            "flex_flow": null,
            "width": null,
            "min_width": null,
            "border": null,
            "align_items": null,
            "bottom": null,
            "_model_module": "@jupyter-widgets/base",
            "top": null,
            "grid_column": null,
            "overflow_y": null,
            "overflow_x": null,
            "grid_auto_flow": null,
            "grid_area": null,
            "grid_template_columns": null,
            "flex": "2",
            "_model_name": "LayoutModel",
            "justify_items": null,
            "grid_row": null,
            "max_height": null,
            "align_content": null,
            "visibility": null,
            "align_self": null,
            "height": null,
            "min_height": null,
            "padding": null,
            "grid_auto_rows": null,
            "grid_gap": null,
            "max_width": null,
            "order": null,
            "_view_module_version": "1.2.0",
            "grid_template_areas": null,
            "object_position": null,
            "object_fit": null,
            "grid_auto_columns": null,
            "margin": null,
            "display": null,
            "left": null
          }
        },
        "ddd20e1b74d94aada03430178a8d1cb4": {
          "model_module": "@jupyter-widgets/controls",
          "model_name": "DescriptionStyleModel",
          "state": {
            "_view_name": "StyleView",
            "_model_name": "DescriptionStyleModel",
            "description_width": "",
            "_view_module": "@jupyter-widgets/base",
            "_model_module_version": "1.5.0",
            "_view_count": null,
            "_view_module_version": "1.2.0",
            "_model_module": "@jupyter-widgets/controls"
          }
        },
        "a69f76df7bdc44a995a33ae6d1328395": {
          "model_module": "@jupyter-widgets/base",
          "model_name": "LayoutModel",
          "state": {
            "_view_name": "LayoutView",
            "grid_template_rows": null,
            "right": null,
            "justify_content": null,
            "_view_module": "@jupyter-widgets/base",
            "overflow": null,
            "_model_module_version": "1.2.0",
            "_view_count": null,
            "flex_flow": null,
            "width": null,
            "min_width": null,
            "border": null,
            "align_items": null,
            "bottom": null,
            "_model_module": "@jupyter-widgets/base",
            "top": null,
            "grid_column": null,
            "overflow_y": null,
            "overflow_x": null,
            "grid_auto_flow": null,
            "grid_area": null,
            "grid_template_columns": null,
            "flex": null,
            "_model_name": "LayoutModel",
            "justify_items": null,
            "grid_row": null,
            "max_height": null,
            "align_content": null,
            "visibility": null,
            "align_self": null,
            "height": null,
            "min_height": null,
            "padding": null,
            "grid_auto_rows": null,
            "grid_gap": null,
            "max_width": null,
            "order": null,
            "_view_module_version": "1.2.0",
            "grid_template_areas": null,
            "object_position": null,
            "object_fit": null,
            "grid_auto_columns": null,
            "margin": null,
            "display": null,
            "left": null
          }
        },
        "d7897324828041c18730ca6150e86d95": {
          "model_module": "@jupyter-widgets/controls",
          "model_name": "HBoxModel",
          "state": {
            "_view_name": "HBoxView",
            "_dom_classes": [],
            "_model_name": "HBoxModel",
            "_view_module": "@jupyter-widgets/controls",
            "_model_module_version": "1.5.0",
            "_view_count": null,
            "_view_module_version": "1.5.0",
            "box_style": "",
            "layout": "IPY_MODEL_b1e057d53465466580b845598afea170",
            "_model_module": "@jupyter-widgets/controls",
            "children": [
              "IPY_MODEL_d97ec05469be42eaae75cfdb606c9afe",
              "IPY_MODEL_05ac850cc7884a42bd909b3108f5c193"
            ]
          }
        },
        "b1e057d53465466580b845598afea170": {
          "model_module": "@jupyter-widgets/base",
          "model_name": "LayoutModel",
          "state": {
            "_view_name": "LayoutView",
            "grid_template_rows": null,
            "right": null,
            "justify_content": null,
            "_view_module": "@jupyter-widgets/base",
            "overflow": null,
            "_model_module_version": "1.2.0",
            "_view_count": null,
            "flex_flow": "row wrap",
            "width": "100%",
            "min_width": null,
            "border": null,
            "align_items": null,
            "bottom": null,
            "_model_module": "@jupyter-widgets/base",
            "top": null,
            "grid_column": null,
            "overflow_y": null,
            "overflow_x": null,
            "grid_auto_flow": null,
            "grid_area": null,
            "grid_template_columns": null,
            "flex": null,
            "_model_name": "LayoutModel",
            "justify_items": null,
            "grid_row": null,
            "max_height": null,
            "align_content": null,
            "visibility": null,
            "align_self": null,
            "height": null,
            "min_height": null,
            "padding": null,
            "grid_auto_rows": null,
            "grid_gap": null,
            "max_width": null,
            "order": null,
            "_view_module_version": "1.2.0",
            "grid_template_areas": null,
            "object_position": null,
            "object_fit": null,
            "grid_auto_columns": null,
            "margin": null,
            "display": "inline-flex",
            "left": null
          }
        },
        "d97ec05469be42eaae75cfdb606c9afe": {
          "model_module": "@jupyter-widgets/controls",
          "model_name": "FloatProgressModel",
          "state": {
            "_view_name": "ProgressView",
            "style": "IPY_MODEL_3102f92a95c94fdd8a74ba087c726b6b",
            "_dom_classes": [],
            "description": "Training: 100%",
            "_model_name": "FloatProgressModel",
            "bar_style": "success",
            "max": 3000,
            "_view_module": "@jupyter-widgets/controls",
            "_model_module_version": "1.5.0",
            "value": 3000,
            "_view_count": null,
            "_view_module_version": "1.5.0",
            "orientation": "horizontal",
            "min": 0,
            "description_tooltip": null,
            "_model_module": "@jupyter-widgets/controls",
            "layout": "IPY_MODEL_e96050318e1e465aaeb7a87f2c8905bc"
          }
        },
        "05ac850cc7884a42bd909b3108f5c193": {
          "model_module": "@jupyter-widgets/controls",
          "model_name": "HTMLModel",
          "state": {
            "_view_name": "HTMLView",
            "style": "IPY_MODEL_ddbf5df9774b49688438dd0122fc5bd8",
            "_dom_classes": [],
            "description": "",
            "_model_name": "HTMLModel",
            "placeholder": "​",
            "_view_module": "@jupyter-widgets/controls",
            "_model_module_version": "1.5.0",
            "value": " 3000/3000 ETA: 00:00s,  162.71epochs/s",
            "_view_count": null,
            "_view_module_version": "1.5.0",
            "description_tooltip": null,
            "_model_module": "@jupyter-widgets/controls",
            "layout": "IPY_MODEL_83fd393928394c6ebd23f997f84afacf"
          }
        },
        "3102f92a95c94fdd8a74ba087c726b6b": {
          "model_module": "@jupyter-widgets/controls",
          "model_name": "ProgressStyleModel",
          "state": {
            "_view_name": "StyleView",
            "_model_name": "ProgressStyleModel",
            "description_width": "initial",
            "_view_module": "@jupyter-widgets/base",
            "_model_module_version": "1.5.0",
            "_view_count": null,
            "_view_module_version": "1.2.0",
            "bar_color": null,
            "_model_module": "@jupyter-widgets/controls"
          }
        },
        "e96050318e1e465aaeb7a87f2c8905bc": {
          "model_module": "@jupyter-widgets/base",
          "model_name": "LayoutModel",
          "state": {
            "_view_name": "LayoutView",
            "grid_template_rows": null,
            "right": null,
            "justify_content": null,
            "_view_module": "@jupyter-widgets/base",
            "overflow": null,
            "_model_module_version": "1.2.0",
            "_view_count": null,
            "flex_flow": null,
            "width": null,
            "min_width": null,
            "border": null,
            "align_items": null,
            "bottom": null,
            "_model_module": "@jupyter-widgets/base",
            "top": null,
            "grid_column": null,
            "overflow_y": null,
            "overflow_x": null,
            "grid_auto_flow": null,
            "grid_area": null,
            "grid_template_columns": null,
            "flex": "2",
            "_model_name": "LayoutModel",
            "justify_items": null,
            "grid_row": null,
            "max_height": null,
            "align_content": null,
            "visibility": null,
            "align_self": null,
            "height": null,
            "min_height": null,
            "padding": null,
            "grid_auto_rows": null,
            "grid_gap": null,
            "max_width": null,
            "order": null,
            "_view_module_version": "1.2.0",
            "grid_template_areas": null,
            "object_position": null,
            "object_fit": null,
            "grid_auto_columns": null,
            "margin": null,
            "display": null,
            "left": null
          }
        },
        "ddbf5df9774b49688438dd0122fc5bd8": {
          "model_module": "@jupyter-widgets/controls",
          "model_name": "DescriptionStyleModel",
          "state": {
            "_view_name": "StyleView",
            "_model_name": "DescriptionStyleModel",
            "description_width": "",
            "_view_module": "@jupyter-widgets/base",
            "_model_module_version": "1.5.0",
            "_view_count": null,
            "_view_module_version": "1.2.0",
            "_model_module": "@jupyter-widgets/controls"
          }
        },
        "83fd393928394c6ebd23f997f84afacf": {
          "model_module": "@jupyter-widgets/base",
          "model_name": "LayoutModel",
          "state": {
            "_view_name": "LayoutView",
            "grid_template_rows": null,
            "right": null,
            "justify_content": null,
            "_view_module": "@jupyter-widgets/base",
            "overflow": null,
            "_model_module_version": "1.2.0",
            "_view_count": null,
            "flex_flow": null,
            "width": null,
            "min_width": null,
            "border": null,
            "align_items": null,
            "bottom": null,
            "_model_module": "@jupyter-widgets/base",
            "top": null,
            "grid_column": null,
            "overflow_y": null,
            "overflow_x": null,
            "grid_auto_flow": null,
            "grid_area": null,
            "grid_template_columns": null,
            "flex": null,
            "_model_name": "LayoutModel",
            "justify_items": null,
            "grid_row": null,
            "max_height": null,
            "align_content": null,
            "visibility": null,
            "align_self": null,
            "height": null,
            "min_height": null,
            "padding": null,
            "grid_auto_rows": null,
            "grid_gap": null,
            "max_width": null,
            "order": null,
            "_view_module_version": "1.2.0",
            "grid_template_areas": null,
            "object_position": null,
            "object_fit": null,
            "grid_auto_columns": null,
            "margin": null,
            "display": null,
            "left": null
          }
        },
        "902850135ba9427395a99b98f3a78124": {
          "model_module": "@jupyter-widgets/controls",
          "model_name": "HBoxModel",
          "state": {
            "_view_name": "HBoxView",
            "_dom_classes": [],
            "_model_name": "HBoxModel",
            "_view_module": "@jupyter-widgets/controls",
            "_model_module_version": "1.5.0",
            "_view_count": null,
            "_view_module_version": "1.5.0",
            "box_style": "",
            "layout": "IPY_MODEL_b9dffa975309451abbe6100bc87be583",
            "_model_module": "@jupyter-widgets/controls",
            "children": [
              "IPY_MODEL_07acdd8a06084ba795b2ba7eaad296c6",
              "IPY_MODEL_3ebef9eee09f4fc58dba6cdf5299ac57"
            ]
          }
        },
        "b9dffa975309451abbe6100bc87be583": {
          "model_module": "@jupyter-widgets/base",
          "model_name": "LayoutModel",
          "state": {
            "_view_name": "LayoutView",
            "grid_template_rows": null,
            "right": null,
            "justify_content": null,
            "_view_module": "@jupyter-widgets/base",
            "overflow": null,
            "_model_module_version": "1.2.0",
            "_view_count": null,
            "flex_flow": "row wrap",
            "width": "100%",
            "min_width": null,
            "border": null,
            "align_items": null,
            "bottom": null,
            "_model_module": "@jupyter-widgets/base",
            "top": null,
            "grid_column": null,
            "overflow_y": null,
            "overflow_x": null,
            "grid_auto_flow": null,
            "grid_area": null,
            "grid_template_columns": null,
            "flex": null,
            "_model_name": "LayoutModel",
            "justify_items": null,
            "grid_row": null,
            "max_height": null,
            "align_content": null,
            "visibility": null,
            "align_self": null,
            "height": null,
            "min_height": null,
            "padding": null,
            "grid_auto_rows": null,
            "grid_gap": null,
            "max_width": null,
            "order": null,
            "_view_module_version": "1.2.0",
            "grid_template_areas": null,
            "object_position": null,
            "object_fit": null,
            "grid_auto_columns": null,
            "margin": null,
            "display": "inline-flex",
            "left": null
          }
        },
        "07acdd8a06084ba795b2ba7eaad296c6": {
          "model_module": "@jupyter-widgets/controls",
          "model_name": "FloatProgressModel",
          "state": {
            "_view_name": "ProgressView",
            "style": "IPY_MODEL_0a9d4589e9bf48c5921a98f26cf54f2a",
            "_dom_classes": [],
            "description": "Training: 100%",
            "_model_name": "FloatProgressModel",
            "bar_style": "success",
            "max": 2000,
            "_view_module": "@jupyter-widgets/controls",
            "_model_module_version": "1.5.0",
            "value": 2000,
            "_view_count": null,
            "_view_module_version": "1.5.0",
            "orientation": "horizontal",
            "min": 0,
            "description_tooltip": null,
            "_model_module": "@jupyter-widgets/controls",
            "layout": "IPY_MODEL_74e1f57d82124609b12e6004094e2204"
          }
        },
        "3ebef9eee09f4fc58dba6cdf5299ac57": {
          "model_module": "@jupyter-widgets/controls",
          "model_name": "HTMLModel",
          "state": {
            "_view_name": "HTMLView",
            "style": "IPY_MODEL_56176577e185456eb1c7ca61b5e7950c",
            "_dom_classes": [],
            "description": "",
            "_model_name": "HTMLModel",
            "placeholder": "​",
            "_view_module": "@jupyter-widgets/controls",
            "_model_module_version": "1.5.0",
            "value": " 2000/2000 ETA: 00:00s,  149.98epochs/s",
            "_view_count": null,
            "_view_module_version": "1.5.0",
            "description_tooltip": null,
            "_model_module": "@jupyter-widgets/controls",
            "layout": "IPY_MODEL_f44e15e0c8e44d4492d68cf5ffd5d423"
          }
        },
        "0a9d4589e9bf48c5921a98f26cf54f2a": {
          "model_module": "@jupyter-widgets/controls",
          "model_name": "ProgressStyleModel",
          "state": {
            "_view_name": "StyleView",
            "_model_name": "ProgressStyleModel",
            "description_width": "initial",
            "_view_module": "@jupyter-widgets/base",
            "_model_module_version": "1.5.0",
            "_view_count": null,
            "_view_module_version": "1.2.0",
            "bar_color": null,
            "_model_module": "@jupyter-widgets/controls"
          }
        },
        "74e1f57d82124609b12e6004094e2204": {
          "model_module": "@jupyter-widgets/base",
          "model_name": "LayoutModel",
          "state": {
            "_view_name": "LayoutView",
            "grid_template_rows": null,
            "right": null,
            "justify_content": null,
            "_view_module": "@jupyter-widgets/base",
            "overflow": null,
            "_model_module_version": "1.2.0",
            "_view_count": null,
            "flex_flow": null,
            "width": null,
            "min_width": null,
            "border": null,
            "align_items": null,
            "bottom": null,
            "_model_module": "@jupyter-widgets/base",
            "top": null,
            "grid_column": null,
            "overflow_y": null,
            "overflow_x": null,
            "grid_auto_flow": null,
            "grid_area": null,
            "grid_template_columns": null,
            "flex": "2",
            "_model_name": "LayoutModel",
            "justify_items": null,
            "grid_row": null,
            "max_height": null,
            "align_content": null,
            "visibility": null,
            "align_self": null,
            "height": null,
            "min_height": null,
            "padding": null,
            "grid_auto_rows": null,
            "grid_gap": null,
            "max_width": null,
            "order": null,
            "_view_module_version": "1.2.0",
            "grid_template_areas": null,
            "object_position": null,
            "object_fit": null,
            "grid_auto_columns": null,
            "margin": null,
            "display": null,
            "left": null
          }
        },
        "56176577e185456eb1c7ca61b5e7950c": {
          "model_module": "@jupyter-widgets/controls",
          "model_name": "DescriptionStyleModel",
          "state": {
            "_view_name": "StyleView",
            "_model_name": "DescriptionStyleModel",
            "description_width": "",
            "_view_module": "@jupyter-widgets/base",
            "_model_module_version": "1.5.0",
            "_view_count": null,
            "_view_module_version": "1.2.0",
            "_model_module": "@jupyter-widgets/controls"
          }
        },
        "f44e15e0c8e44d4492d68cf5ffd5d423": {
          "model_module": "@jupyter-widgets/base",
          "model_name": "LayoutModel",
          "state": {
            "_view_name": "LayoutView",
            "grid_template_rows": null,
            "right": null,
            "justify_content": null,
            "_view_module": "@jupyter-widgets/base",
            "overflow": null,
            "_model_module_version": "1.2.0",
            "_view_count": null,
            "flex_flow": null,
            "width": null,
            "min_width": null,
            "border": null,
            "align_items": null,
            "bottom": null,
            "_model_module": "@jupyter-widgets/base",
            "top": null,
            "grid_column": null,
            "overflow_y": null,
            "overflow_x": null,
            "grid_auto_flow": null,
            "grid_area": null,
            "grid_template_columns": null,
            "flex": null,
            "_model_name": "LayoutModel",
            "justify_items": null,
            "grid_row": null,
            "max_height": null,
            "align_content": null,
            "visibility": null,
            "align_self": null,
            "height": null,
            "min_height": null,
            "padding": null,
            "grid_auto_rows": null,
            "grid_gap": null,
            "max_width": null,
            "order": null,
            "_view_module_version": "1.2.0",
            "grid_template_areas": null,
            "object_position": null,
            "object_fit": null,
            "grid_auto_columns": null,
            "margin": null,
            "display": null,
            "left": null
          }
        }
      }
    }
  },
  "cells": [
    {
      "cell_type": "markdown",
      "metadata": {
        "id": "view-in-github",
        "colab_type": "text"
      },
      "source": [
        "<a href=\"https://colab.research.google.com/github/helonayala/pinn/blob/main/01_DeepVIV_sec21.ipynb\" target=\"_parent\"><img src=\"https://colab.research.google.com/assets/colab-badge.svg\" alt=\"Open In Colab\"/></a>"
      ]
    },
    {
      "cell_type": "markdown",
      "metadata": {
        "id": "LzyL5aJgLuCz"
      },
      "source": [
        "# Quick description\n",
        "\n",
        "In this notebook we reproduce the results of the paper \n",
        "\n",
        "* Raissi, Maziar, Zhicheng Wang, Michael S. Triantafyllou, and George Em Karniadakis.\"Deep learning of vortex-induced vibrations.\" Journal of Fluid Mechanics 861 (2019): 119-137.\n",
        "\n",
        "in particular Section 2.1. Please refer to the paper for a detailed description of the method and case study. In the following we restrict to the information needed for the notebook to be self-contained.\n",
        "\n",
        "# Problem definition\n",
        "\n",
        "In summary, we will use the Physically informed artificial neural networks (PINNs) for solving the forward and inverse problems related to the dynamics of a mass-spring-damper of the form\n",
        "\n",
        "$$\n",
        "\\rho \\ddot x (t) + b \\dot x (t) + k x (t) = f (t)\n",
        "$$\n",
        "\n",
        "where the terms are described as follows\n",
        "* $\\rho, b, k$: inertia, viscous friction, and rigidity, respectively;\n",
        "* $x(t)$: displacement;\n",
        "* $f(t)$: sum of external forces\n",
        "\n",
        "(please note I exchanged $\\eta$ to $x$ if you compare to the notation used in the original paper)\n",
        "\n",
        "On one hand, the forward problem relates to solving numerically the 2nd order ODE described in the EOM given. On the other hand, the inverse problems related to inferring the parameters of the system: $\\rho, b,k$\n",
        "\n",
        "# Assumptions\n",
        "\n",
        "We work under the assumptions that\n",
        "* we know the time series $[x(t),f(t)]$, and\n",
        "* we know the constitutive model of the system under study (thus, PINN).\n",
        "\n",
        "# Imports and definitions \n"
      ]
    },
    {
      "cell_type": "code",
      "metadata": {
        "id": "mw8KsF78Wz6E",
        "cellView": "form",
        "outputId": "48b011e1-7fde-44b9-ae7d-f398d2886ac1",
        "colab": {
          "base_uri": "https://localhost:8080/",
          "height": 51
        }
      },
      "source": [
        "#@title\n",
        "!pip install -U tensorflow-addons\n",
        "!pip install -q \"tqdm>=4.36.1\"\n",
        "\n",
        "import tensorflow as tf\n",
        "import numpy as np\n",
        "import matplotlib.pyplot as plt\n",
        "from scipy.io import loadmat\n",
        "\n",
        "# progress bar for model.fit function\n",
        "import tensorflow_addons as tfa\n",
        "import tqdm\n",
        "\n",
        "# set random seed for reproduction\n",
        "tf.random.set_seed(42)\n",
        "\n",
        "# initialize tqdm callback\n",
        "tqdm_callback = tfa.callbacks.TQDMProgressBar(\n",
        "  leave_epoch_progress = True,\n",
        "  leave_overall_progress = True,\n",
        "  show_epoch_progress = False,\n",
        "  show_overall_progress = True,\n",
        "  )\n"
      ],
      "execution_count": 1,
      "outputs": [
        {
          "output_type": "stream",
          "text": [
            "Requirement already up-to-date: tensorflow-addons in /usr/local/lib/python3.6/dist-packages (0.11.2)\n",
            "Requirement already satisfied, skipping upgrade: typeguard>=2.7 in /usr/local/lib/python3.6/dist-packages (from tensorflow-addons) (2.7.1)\n"
          ],
          "name": "stdout"
        }
      ]
    },
    {
      "cell_type": "markdown",
      "metadata": {
        "id": "75cBAbWtPgSS"
      },
      "source": [
        "# Load data and plot"
      ]
    },
    {
      "cell_type": "code",
      "metadata": {
        "id": "GbOcBr1xPYah",
        "outputId": "55921f50-e666-45eb-9a54-7f06afc8df5e",
        "colab": {
          "base_uri": "https://localhost:8080/",
          "height": 334
        }
      },
      "source": [
        "VIVdata = loadmat('/content/VIV_displacement_lift_drag.mat')\n",
        "\n",
        "x = VIVdata['eta_structure']\n",
        "f = VIVdata['lift_structure']\n",
        "t = VIVdata['t_structure']\n",
        "\n",
        "N_train = t.shape[0] # how much data ?\n",
        "\n",
        "# time series plots \n",
        "plt.figure(figsize=[14,5])\n",
        "plt.subplot(121)\n",
        "plt.plot(t,x,'k',linewidth=3)\n",
        "plt.legend('x')\n",
        "plt.xlabel('t')\n",
        "plt.grid()\n",
        "\n",
        "plt.subplot(122)\n",
        "plt.plot(t,f,'k',linewidth=3)\n",
        "plt.legend('f')\n",
        "plt.xlabel('t')\n",
        "plt.grid()\n",
        "plt.show()"
      ],
      "execution_count": 2,
      "outputs": [
        {
          "output_type": "display_data",
          "data": {
            "image/png": "[encoded data removed]",
            "text/plain": [
              "<Figure size 1008x360 with 2 Axes>"
            ]
          },
          "metadata": {
            "tags": [],
            "needs_background": "light"
          }
        }
      ]
    },
    {
      "cell_type": "markdown",
      "metadata": {
        "id": "vGZg2iUxR2Da"
      },
      "source": [
        "# Layer class\n",
        "\n",
        "Here we define the layer for "
      ]
    },
    {
      "cell_type": "code",
      "metadata": {
        "id": "gTOT-olWP33a"
      },
      "source": [
        "class tToXandF(tf.keras.layers.Layer):\n",
        "    \"\"\"\n",
        "    Implements two blocks: mapping time (the independent variable) to x (the state)\n",
        "    \"\"\"\n",
        "    def __init__(self, name=\"tToXandF\", **kwargs):\n",
        "        super(tToXandF, self).__init__(name=name, **kwargs)\n",
        "\n",
        "        self.nneu = 32\n",
        "        self.actfcn = tf.sin\n",
        "\n",
        "        self.dense1  = tf.keras.layers.Dense(self.nneu, activation=self.actfcn)\n",
        "        self.dense2  = tf.keras.layers.Dense(self.nneu, activation=self.actfcn)\n",
        "        self.dense3  = tf.keras.layers.Dense(self.nneu, activation=self.actfcn)\n",
        "        self.dense4  = tf.keras.layers.Dense(self.nneu, activation=self.actfcn)\n",
        "        self.dense5  = tf.keras.layers.Dense(self.nneu, activation=self.actfcn)\n",
        "        self.dense6  = tf.keras.layers.Dense(self.nneu, activation=self.actfcn)\n",
        "        self.dense7  = tf.keras.layers.Dense(self.nneu, activation=self.actfcn)\n",
        "        self.dense8  = tf.keras.layers.Dense(self.nneu, activation=self.actfcn)\n",
        "        self.dense9  = tf.keras.layers.Dense(self.nneu, activation=self.actfcn)\n",
        "        self.dense10 = tf.keras.layers.Dense(self.nneu, activation=self.actfcn)\n",
        "        self.densen  = tf.keras.layers.Dense(1)\n",
        "        \n",
        "        self.b = tf.Variable(0.05,name = 'b',trainable=True, dtype=tf.float32)\n",
        "        self.k = tf.Variable(2.0, name = 'k',trainable=True, dtype=tf.float32)\n",
        "\n",
        "    def call(self, t):\n",
        "\n",
        "        # dont forget to tape the gradients\n",
        "        with tf.GradientTape(persistent=True) as tape: # persistent for 2nd order derivative\n",
        "          tape.watch(t)        \n",
        "\n",
        "          # part 1: maps t to x\n",
        "          x = self.dense1(t)\n",
        "          x = self.dense2(x)\n",
        "          x = self.dense3(x)\n",
        "          x = self.dense4(x)\n",
        "          x = self.dense5(x)\n",
        "          x = self.dense6(x)\n",
        "          x = self.dense7(x)\n",
        "          x = self.dense8(x)\n",
        "          x = self.dense9(x)\n",
        "          x = self.dense10(x)\n",
        "          x = self.densen(x)\n",
        "        \n",
        "          # part 2a: calculate the gradients of x wrt t\n",
        "          xp  = tape.gradient(x,t) \n",
        "          xpp = tape.gradient(xp,t) \n",
        "\n",
        "        # part 2b: calculate the EOM\n",
        "        f = 2.0 * xpp + self.b * xp + self.k * x\n",
        "\n",
        "        return x, f # the outputs are both x and f (see assumptions)"
      ],
      "execution_count": 3,
      "outputs": []
    },
    {
      "cell_type": "markdown",
      "metadata": {
        "id": "BCi9OdgETMTP"
      },
      "source": [
        "# Model class"
      ]
    },
    {
      "cell_type": "code",
      "metadata": {
        "id": "tIOeEEOtSme0"
      },
      "source": [
        "class PINN(tf.keras.Model):\n",
        "    \"\"\"\n",
        "    Combines the 2 blocks for PINN end-to-end training\n",
        "    \"\"\"\n",
        "\n",
        "    def __init__(self,name=\"PINN\",**kwargs):\n",
        "        super(PINN, self).__init__(name=name, **kwargs)\n",
        "\n",
        "        self.tToXandF = tToXandF()\n",
        "\n",
        "    def call(self, t):\n",
        "        return self.tToXandF(t)"
      ],
      "execution_count": 4,
      "outputs": []
    },
    {
      "cell_type": "markdown",
      "metadata": {
        "id": "HxQAewRtTVmO"
      },
      "source": [
        "# Train the model"
      ]
    },
    {
      "cell_type": "code",
      "metadata": {
        "id": "mO8G5W0DSrbb",
        "outputId": "8901ebe8-b544-4305-b56e-f34a6cb95ad2",
        "colab": {
          "base_uri": "https://localhost:8080/",
          "height": 318,
          "referenced_widgets": [
            "3921934ad1ad476fbc3bafe5b4f780b6",
            "169da55f4fd7479395e480706fea1dba",
            "6e5161332976477084b5ea1e217550f9",
            "5ccaa9aa3d3043d28342604c3bbb5e8e",
            "5c9ad63e229c47adb09fac2e3246fe6a",
            "648261b6c50b42aa8e31afdc5f88f735",
            "1179fef29f124fe8bb881fe24806a45c",
            "190d8a94c5bd49d5930c9623e3c18ff3",
            "d4c5f68960e54bf699e94e9f1a0c656b",
            "295a1e04ebde415cb6b56204d2acf653",
            "a4ee2d91287b41d18be0612f11a7705a",
            "b9e020a6970046c8bdedd3dcb90454c4",
            "26de2b22f208492aadebe27546060cd6",
            "b83681f8ffd9416aa6fa0a3befde55db",
            "ddd20e1b74d94aada03430178a8d1cb4",
            "a69f76df7bdc44a995a33ae6d1328395",
            "d7897324828041c18730ca6150e86d95",
            "b1e057d53465466580b845598afea170",
            "d97ec05469be42eaae75cfdb606c9afe",
            "05ac850cc7884a42bd909b3108f5c193",
            "3102f92a95c94fdd8a74ba087c726b6b",
            "e96050318e1e465aaeb7a87f2c8905bc",
            "ddbf5df9774b49688438dd0122fc5bd8",
            "83fd393928394c6ebd23f997f84afacf",
            "902850135ba9427395a99b98f3a78124",
            "b9dffa975309451abbe6100bc87be583",
            "07acdd8a06084ba795b2ba7eaad296c6",
            "3ebef9eee09f4fc58dba6cdf5299ac57",
            "0a9d4589e9bf48c5921a98f26cf54f2a",
            "74e1f57d82124609b12e6004094e2204",
            "56176577e185456eb1c7ca61b5e7950c",
            "f44e15e0c8e44d4492d68cf5ffd5d423"
          ]
        }
      },
      "source": [
        "mdl = PINN()\n",
        "\n",
        "lrvec = np.array([1e-3,1e-4,1e-5,1e-6])\n",
        "epvec = np.array([2e3,3e3,3e3,2e3],dtype='int32')\n",
        "\n",
        "nTrain = lrvec.shape[0]\n",
        "for i in range(nTrain):\n",
        "    print('Learning rate:', lrvec[i])\n",
        "    mdl.compile(tf.keras.optimizers.Adam(learning_rate=lrvec[i]),loss='mse',metrics='mse')\n",
        "    mdl.fit(x=t,y=[x,f], epochs=epvec[i], batch_size=N_train,verbose=0,callbacks=[tqdm_callback])"
      ],
      "execution_count": 5,
      "outputs": [
        {
          "output_type": "stream",
          "text": [
            "Learning rate: 0.001\n"
          ],
          "name": "stdout"
        },
        {
          "output_type": "display_data",
          "data": {
            "application/vnd.jupyter.widget-view+json": {
              "model_id": "3921934ad1ad476fbc3bafe5b4f780b6",
              "version_minor": 0,
              "version_major": 2
            },
            "text/plain": [
              "HBox(children=(FloatProgress(value=0.0, description='Training', layout=Layout(flex='2'), max=2000.0, style=Pro…"
            ]
          },
          "metadata": {
            "tags": []
          }
        },
        {
          "output_type": "stream",
          "text": [
            "WARNING:tensorflow:Calling GradientTape.gradient on a persistent tape inside its context is significantly less efficient than calling it outside the context (it causes the gradient ops to be recorded on the tape, leading to increased CPU and memory usage). Only call GradientTape.gradient inside the context if you actually want to trace the gradient in order to compute higher order derivatives.\n",
            "\n",
            "Learning rate: 0.0001\n"
          ],
          "name": "stdout"
        },
        {
          "output_type": "display_data",
          "data": {
            "application/vnd.jupyter.widget-view+json": {
              "model_id": "d4c5f68960e54bf699e94e9f1a0c656b",
              "version_minor": 0,
              "version_major": 2
            },
            "text/plain": [
              "HBox(children=(FloatProgress(value=0.0, description='Training', layout=Layout(flex='2'), max=3000.0, style=Pro…"
            ]
          },
          "metadata": {
            "tags": []
          }
        },
        {
          "output_type": "stream",
          "text": [
            "\n",
            "Learning rate: 1e-05\n"
          ],
          "name": "stdout"
        },
        {
          "output_type": "display_data",
          "data": {
            "application/vnd.jupyter.widget-view+json": {
              "model_id": "d7897324828041c18730ca6150e86d95",
              "version_minor": 0,
              "version_major": 2
            },
            "text/plain": [
              "HBox(children=(FloatProgress(value=0.0, description='Training', layout=Layout(flex='2'), max=3000.0, style=Pro…"
            ]
          },
          "metadata": {
            "tags": []
          }
        },
        {
          "output_type": "stream",
          "text": [
            "\n",
            "Learning rate: 1e-06\n"
          ],
          "name": "stdout"
        },
        {
          "output_type": "display_data",
          "data": {
            "application/vnd.jupyter.widget-view+json": {
              "model_id": "902850135ba9427395a99b98f3a78124",
              "version_minor": 0,
              "version_major": 2
            },
            "text/plain": [
              "HBox(children=(FloatProgress(value=0.0, description='Training', layout=Layout(flex='2'), max=2000.0, style=Pro…"
            ]
          },
          "metadata": {
            "tags": []
          }
        },
        {
          "output_type": "stream",
          "text": [
            "\n"
          ],
          "name": "stdout"
        }
      ]
    },
    {
      "cell_type": "markdown",
      "metadata": {
        "id": "UVd133_TTYkA"
      },
      "source": [
        "# Outputs and checks"
      ]
    },
    {
      "cell_type": "code",
      "metadata": {
        "id": "h8FuQIYjZByb",
        "outputId": "50ece255-9fa8-40e3-b01c-d2dc62bc1301",
        "colab": {
          "base_uri": "https://localhost:8080/",
          "height": 371
        }
      },
      "source": [
        "xh,fh = mdl.predict(t)\n",
        "\n",
        "plt.figure(figsize=[14,5])\n",
        "plt.subplot(121)\n",
        "plt.plot(t,x,'b-',t,xh,'ro')\n",
        "plt.legend(['y','xh'])\n",
        "\n",
        "plt.subplot(122)\n",
        "plt.plot(t,f,'b-',t,fh,'ro')\n",
        "plt.legend(['f','fh'])\n",
        "plt.show()\n",
        "\n",
        "print('Values identified for the ODE (rho = 2.0, b = 0.084, k = 2.2020 are the real values)')\n",
        "print(mdl.weights[0])\n",
        "print(mdl.weights[1])"
      ],
      "execution_count": 6,
      "outputs": [
        {
          "output_type": "display_data",
          "data": {
            "image/png": "[encoded data removed]",
            "text/plain": [
              "<Figure size 1008x360 with 2 Axes>"
            ]
          },
          "metadata": {
            "tags": [],
            "needs_background": "light"
          }
        },
        {
          "output_type": "stream",
          "text": [
            "Values identified for the ODE (rho = 2.0, b = 0.084, k = 2.2020 are the real values)\n",
            "<tf.Variable 'b:0' shape=() dtype=float32, numpy=0.08437444>\n",
            "<tf.Variable 'k:0' shape=() dtype=float32, numpy=2.2015123>\n"
          ],
          "name": "stdout"
        }
      ]
    },
    {
      "cell_type": "code",
      "metadata": {
        "id": "iQwpF_E7P8QB",
        "outputId": "22713aed-eed0-42d7-f4d3-c2b6293e31bd",
        "colab": {
          "base_uri": "https://localhost:8080/",
          "height": 187
        }
      },
      "source": [
        "mdl.summary()"
      ],
      "execution_count": 8,
      "outputs": [
        {
          "output_type": "stream",
          "text": [
            "Model: \"PINN\"\n",
            "_________________________________________________________________\n",
            "Layer (type)                 Output Shape              Param #   \n",
            "=================================================================\n",
            "tToXandF (tToXandF)          multiple                  9603      \n",
            "=================================================================\n",
            "Total params: 9,603\n",
            "Trainable params: 9,603\n",
            "Non-trainable params: 0\n",
            "_________________________________________________________________\n"
          ],
          "name": "stdout"
        }
      ]
    }
  ]
}